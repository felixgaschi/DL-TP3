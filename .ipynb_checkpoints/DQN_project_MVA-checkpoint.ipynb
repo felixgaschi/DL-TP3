{
 "cells": [
  {
   "cell_type": "markdown",
   "metadata": {},
   "source": [
    "**You may need to install [OpenCV](https://pypi.python.org/pypi/opencv-python) and [scikit-video](http://www.scikit-video.org/stable/).**"
   ]
  },
  {
   "cell_type": "code",
   "execution_count": 1,
   "metadata": {},
   "outputs": [
    {
     "name": "stderr",
     "output_type": "stream",
     "text": [
      "/Users/felixgaschi/anaconda3/lib/python3.6/site-packages/h5py/__init__.py:34: FutureWarning: Conversion of the second argument of issubdtype from `float` to `np.floating` is deprecated. In future, it will be treated as `np.float64 == np.dtype(float).type`.\n",
      "  from ._conv import register_converters as _register_converters\n",
      "Using TensorFlow backend.\n"
     ]
    }
   ],
   "source": [
    "import keras\n",
    "import numpy as np\n",
    "import io\n",
    "import base64\n",
    "from IPython.display import HTML\n",
    "import skvideo.io\n",
    "import cv2\n",
    "import json\n",
    "\n",
    "from keras.models import Sequential,model_from_json\n",
    "from keras.layers.core import Dense\n",
    "from keras.optimizers import sgd\n",
    "from keras.layers import Conv2D, MaxPooling2D, Activation, AveragePooling2D,Reshape,BatchNormalization, Flatten, Dropout"
   ]
  },
  {
   "cell_type": "markdown",
   "metadata": {},
   "source": [
    "# MiniProject #3: Deep Reinforcement Learning"
   ]
  },
  {
   "cell_type": "markdown",
   "metadata": {},
   "source": [
    "__Notations__: $E_p$ is the expectation under probability $p$. Please justify each of your answer and widely comment your code."
   ]
  },
  {
   "cell_type": "markdown",
   "metadata": {},
   "source": [
    "# Context"
   ]
  },
  {
   "cell_type": "markdown",
   "metadata": {},
   "source": [
    "In a reinforcement learning algorithm, we modelize each step $t$ as an action $a_t$ obtained from a state $s_t$, i.e. $\\{(a_{t},s_{t})_{t\\leq T}\\}$ having the Markov property. We consider a discount factor $\\gamma \\in [0,1]$ that ensures convergence. The goal is to find among all the policies $\\pi$, one that maximizes the expected reward:\n",
    "\n",
    "\\begin{equation*}\n",
    "R(\\pi)=\\sum_{t\\leq T}E_{p^{\\pi}}[\\gamma^t r(s_{t},a_{t})] \\> ,\n",
    "\\end{equation*}\n",
    "\n",
    "where: \n",
    "\\begin{equation*}p^{\\pi}(a_{0},a_{1},s_{1},...,a_{T},s_{T})=p(a_{0})\\prod_{t=1}^{T}\\pi(a_{t}|s_{t})p(s_{t+1}|s_{t},a_{t}) \\> .\n",
    "\\end{equation*}\n",
    "\n",
    "We note the $Q$-function:\n",
    "\n",
    "\\begin{equation*}Q^\\pi(s,a)=E_{p^{\\pi}}[\\sum_{t\\leq T}\\gamma^{t}r(s_{t},a_{t})|s_{0}=s,a_{0}=a] \\> .\n",
    "\\end{equation*}\n",
    "\n",
    "Thus, the optimal Q function is:\n",
    "\\begin{equation*}\n",
    "Q^*(s,a)=\\max_{\\pi}Q^\\pi(s,a) \\> .\n",
    "\\end{equation*}\n",
    "\n",
    "In this project, we will apply the deep reinforcement learning techniques to a simple game: an agent will have to learn from scratch a policy that will permit it maximizing a reward."
   ]
  },
  {
   "cell_type": "markdown",
   "metadata": {},
   "source": [
    "## The environment, the agent and the game"
   ]
  },
  {
   "cell_type": "markdown",
   "metadata": {},
   "source": [
    "### The environment"
   ]
  },
  {
   "cell_type": "markdown",
   "metadata": {},
   "source": [
    "```Environment``` is an abstract class that represents the states, rewards, and actions to obtain the new state."
   ]
  },
  {
   "cell_type": "code",
   "execution_count": 2,
   "metadata": {
    "collapsed": true
   },
   "outputs": [],
   "source": [
    "class Environment(object):\n",
    "    def __init__(self):\n",
    "        pass\n",
    "\n",
    "    def act(self, act):\n",
    "        \"\"\"\n",
    "        One can act on the environment and obtain its reaction:\n",
    "        - the new state\n",
    "        - the reward of the new state\n",
    "        - should we continue the game?\n",
    "\n",
    "        :return: state, reward, game_over\n",
    "        \"\"\"\n",
    "        pass\n",
    "\n",
    "\n",
    "    def reset(self):\n",
    "        \"\"\"\n",
    "        Reinitialize the environment to a random state and returns\n",
    "        the original state\n",
    "\n",
    "        :return: state\n",
    "        \"\"\"\n",
    "        pass\n",
    "    \n",
    "    def draw(self):\n",
    "        \"\"\"\n",
    "        Visualize in the console or graphically the current state\n",
    "        \"\"\"\n",
    "        pass"
   ]
  },
  {
   "cell_type": "markdown",
   "metadata": {},
   "source": [
    "The method ```act``` allows to act on the environment at a given state $s_t$ (stored internally), via action $a_t$. The method will return the new state $s_{t+1}$, the reward $r(s_{t},a_{t})$ and determines if $t\\leq T$ (*game_over*).\n",
    "\n",
    "The method ```reset``` simply reinitializes the environment to a random state $s_0$.\n",
    "\n",
    "The method ```draw``` displays the current state $s_t$ (this is useful to check the behavior of the Agent).\n",
    "\n",
    "We modelize $s_t$ as a tensor, while $a_t$ is an integer."
   ]
  },
  {
   "cell_type": "markdown",
   "metadata": {},
   "source": [
    "### The Agent"
   ]
  },
  {
   "cell_type": "markdown",
   "metadata": {},
   "source": [
    "The goal of the ```Agent``` is to interact with the ```Environment``` by proposing actions $a_t$ obtained from a given state $s_t$ to attempt to maximize its __reward__ $r(s_t,a_t)$. We propose the following abstract class:"
   ]
  },
  {
   "cell_type": "code",
   "execution_count": 3,
   "metadata": {
    "collapsed": true
   },
   "outputs": [],
   "source": [
    "class Agent(object):\n",
    "    def __init__(self, epsilon=0.1, n_action=4):\n",
    "        self.epsilon = epsilon\n",
    "        self.n_action = n_action\n",
    "    \n",
    "    def set_epsilon(self,e):\n",
    "        self.epsilon = e\n",
    "\n",
    "    def act(self,s,train=True):\n",
    "        \"\"\" This function should return the next action to do:\n",
    "        an integer between 0 and 4 (not included) with a random exploration of epsilon\"\"\"\n",
    "        if train:\n",
    "            if np.random.rand() <= self.epsilon:\n",
    "                a = np.random.randint(0, self.n_action, size=1)[0]\n",
    "            else:\n",
    "                a = self.learned_act(s)\n",
    "        else: # in some cases, this can improve the performance.. remove it if poor performances\n",
    "            a = self.learned_act(s)\n",
    "\n",
    "        return a\n",
    "\n",
    "    def learned_act(self,s):\n",
    "        \"\"\" Act via the policy of the agent, from a given state s\n",
    "        it proposes an action a\"\"\"\n",
    "        pass\n",
    "\n",
    "    def reinforce(self, s, n_s, a, r, game_over_):\n",
    "        \"\"\" This function is the core of the learning algorithm. \n",
    "        It takes as an input the current state s_, the next state n_s_\n",
    "        the action a_ used to move from s_ to n_s_ and the reward r_.\n",
    "        \n",
    "        Its goal is to learn a policy.\n",
    "        \"\"\"\n",
    "        pass\n",
    "\n",
    "    def save(self):\n",
    "        \"\"\" This function returns basic stats if applicable: the\n",
    "        loss and/or the model\"\"\"\n",
    "        pass\n",
    "\n",
    "    def load(self):\n",
    "        \"\"\" This function allows to restore a model\"\"\"\n",
    "        pass"
   ]
  },
  {
   "cell_type": "markdown",
   "metadata": {},
   "source": [
    "***\n",
    "__Question 1__:\n",
    "Explain the function act. Why is ```epsilon``` essential?"
   ]
  },
  {
   "cell_type": "markdown",
   "metadata": {},
   "source": [
    "```epsilon``` is the trade-off between exploration and exploitation. If we don't explore, we cannot find the policy giving the best reward. But if we don't exploit the best policy already found, we are not taking advantage of it."
   ]
  },
  {
   "cell_type": "markdown",
   "metadata": {},
   "source": [
    "***\n",
    "### The Game"
   ]
  },
  {
   "cell_type": "markdown",
   "metadata": {},
   "source": [
    "The ```Agent``` and the ```Environment``` work in an interlaced way as in the following (take some time to understand this code as it is the core of the project)\n",
    "\n",
    "```python\n",
    "\n",
    "epoch = 300\n",
    "env = Environment()\n",
    "agent = Agent()\n",
    "\n",
    "\n",
    "# Number of won games\n",
    "score = 0\n",
    "loss = 0\n",
    "\n",
    "\n",
    "for e in range(epoch):\n",
    "    # At each epoch, we restart to a fresh game and get the initial state\n",
    "    state = env.reset()\n",
    "    # This assumes that the games will end\n",
    "    game_over = False\n",
    "\n",
    "    win = 0\n",
    "    lose = 0\n",
    "    \n",
    "    while not game_over:\n",
    "        # The agent performs an action\n",
    "        action = agent.act(state)\n",
    "\n",
    "        # Apply an action to the environment, get the next state, the reward\n",
    "        # and if the games end\n",
    "        prev_state = state\n",
    "        state, reward, game_over = env.act(action)\n",
    "\n",
    "        # Update the counters\n",
    "        if reward > 0:\n",
    "            win = win + reward\n",
    "        if reward < 0:\n",
    "            lose = lose -reward\n",
    "\n",
    "        # Apply the reinforcement strategy\n",
    "        loss = agent.reinforce(prev_state, state,  action, reward, game_over)\n",
    "\n",
    "    # Save as a mp4\n",
    "    if e % 10 == 0:\n",
    "        env.draw(e)\n",
    "\n",
    "    # Update stats\n",
    "    score += win-lose\n",
    "\n",
    "    print(\"Epoch {:03d}/{:03d} | Loss {:.4f} | Win/lose count {}/{} ({})\"\n",
    "          .format(e, epoch, loss, win, lose, win-lose))\n",
    "    agent.save()\n",
    "```"
   ]
  },
  {
   "cell_type": "markdown",
   "metadata": {},
   "source": [
    "# The game, *eat cheese*"
   ]
  },
  {
   "cell_type": "markdown",
   "metadata": {},
   "source": [
    "A rat runs on an island and tries to eat as much as possible. The island is subdivided into $N\\times N$ cells, in which there are cheese (+0.5) and poisonous cells (-1). The rat has a visibility of 2 cells (thus it can see $5^2$ cells). The rat is given a time $T$ to accumulate as much food as possible. It can perform 4 actions: going up, down, left, right. \n",
    "\n",
    "The goal is to code an agent to solve this task that will learn by trial and error. We propose the following environment:"
   ]
  },
  {
   "cell_type": "code",
   "execution_count": 22,
   "metadata": {
    "collapsed": true
   },
   "outputs": [],
   "source": [
    "class Environment(object):\n",
    "    def __init__(self, grid_size=10, max_time=500, temperature=0.1):\n",
    "        grid_size = grid_size+4\n",
    "        self.grid_size = grid_size\n",
    "        self.max_time = max_time\n",
    "        self.temperature = temperature\n",
    "\n",
    "        #board on which one plays\n",
    "        self.board = np.zeros((grid_size,grid_size))\n",
    "        self.position = np.zeros((grid_size,grid_size))\n",
    "\n",
    "        # coordinate of the cat\n",
    "        self.x = 0\n",
    "        self.y = 1\n",
    "\n",
    "        # self time\n",
    "        self.t = 0\n",
    "\n",
    "        self.scale=16\n",
    "\n",
    "        self.to_draw = np.zeros((max_time+2, grid_size*self.scale, grid_size*self.scale, 3))\n",
    "\n",
    "\n",
    "    def draw(self,e):\n",
    "        skvideo.io.vwrite(str(e) + '.mp4', self.to_draw)\n",
    "\n",
    "    def get_frame(self,t):\n",
    "        b = np.zeros((self.grid_size,self.grid_size,3))+128\n",
    "        b[self.board>0,0] = 256\n",
    "        b[self.board < 0, 2] = 256\n",
    "        b[self.x,self.y,:]=256\n",
    "        b[-2:,:,:]=0\n",
    "        b[:,-2:,:]=0\n",
    "        b[:2,:,:]=0\n",
    "        b[:,:2,:]=0\n",
    "        \n",
    "        b =  cv2.resize(b, None, fx=self.scale, fy=self.scale, interpolation=cv2.INTER_NEAREST)\n",
    "\n",
    "        self.to_draw[t,:,:,:]=b\n",
    "\n",
    "\n",
    "    def act(self, action):\n",
    "        \"\"\"This function returns the new state, reward and decides if the\n",
    "        game ends.\"\"\"\n",
    "\n",
    "        self.get_frame(int(self.t))\n",
    "\n",
    "        self.position = np.zeros((self.grid_size, self.grid_size))\n",
    "\n",
    "        self.position[0:2,:]= -1\n",
    "        self.position[:,0:2] = -1\n",
    "        self.position[-2:, :] = -1\n",
    "        self.position[-2:, :] = -1\n",
    "\n",
    "        self.position[self.x, self.y] = 1\n",
    "        if action == 0:\n",
    "            if self.x == self.grid_size-3:\n",
    "                self.x = self.x-1\n",
    "            else:\n",
    "                self.x = self.x + 1\n",
    "        elif action == 1:\n",
    "            if self.x == 2:\n",
    "                self.x = self.x+1\n",
    "            else:\n",
    "                self.x = self.x-1\n",
    "        elif action == 2:\n",
    "            if self.y == self.grid_size - 3:\n",
    "                self.y = self.y - 1\n",
    "            else:\n",
    "                self.y = self.y + 1\n",
    "        elif action == 3:\n",
    "            if self.y == 2:\n",
    "                self.y = self.y + 1\n",
    "            else:\n",
    "                self.y = self.y - 1\n",
    "        else:\n",
    "            RuntimeError('Error: action not recognized')\n",
    "\n",
    "        self.t = self.t + 1\n",
    "        reward = self.board[self.x, self.y]\n",
    "        self.board[self.x, self.y] = 0\n",
    "        game_over = self.t > self.max_time\n",
    "        state = np.concatenate((self.board.reshape(self.grid_size, self.grid_size,1),\n",
    "                        self.position.reshape(self.grid_size, self.grid_size,1)),axis=2)\n",
    "        state = state[self.x-2:self.x+3,self.y-2:self.y+3,:]\n",
    "\n",
    "        return state, reward, game_over\n",
    "\n",
    "    def reset(self):\n",
    "        \"\"\"This function resets the game and returns the initial state\"\"\"\n",
    "\n",
    "        self.x = np.random.randint(3, self.grid_size-3, size=1)[0]\n",
    "        self.y = np.random.randint(3, self.grid_size-3, size=1)[0]\n",
    "\n",
    "\n",
    "        bonus = 0.5*np.random.binomial(1,self.temperature,size=self.grid_size**2)\n",
    "        bonus = bonus.reshape(self.grid_size,self.grid_size)\n",
    "\n",
    "        malus = -1.0*np.random.binomial(1,self.temperature,size=self.grid_size**2)\n",
    "        malus = malus.reshape(self.grid_size, self.grid_size)\n",
    "\n",
    "        self.to_draw = np.zeros((self.max_time+2, self.grid_size*self.scale, self.grid_size*self.scale, 3))\n",
    "\n",
    "\n",
    "        malus[bonus>0]=0\n",
    "\n",
    "        self.board = bonus + malus\n",
    "\n",
    "        self.position = np.zeros((self.grid_size, self.grid_size))\n",
    "        self.position[0:2,:]= -1\n",
    "        self.position[:,0:2] = -1\n",
    "        self.position[-2:, :] = -1\n",
    "        self.position[-2:, :] = -1\n",
    "        self.board[self.x,self.y] = 0\n",
    "        self.t = 0\n",
    "\n",
    "        state = np.concatenate((\n",
    "                               self.board.reshape(self.grid_size, self.grid_size,1),\n",
    "                        self.position.reshape(self.grid_size, self.grid_size,1)),axis=2)\n",
    "\n",
    "        state = state[self.x - 2:self.x + 3, self.y - 2:self.y + 3, :]\n",
    "        return state"
   ]
  },
  {
   "cell_type": "markdown",
   "metadata": {},
   "source": [
    "The following elements are important because they correspond to the hyper parameters for this project:"
   ]
  },
  {
   "cell_type": "code",
   "execution_count": 6,
   "metadata": {
    "collapsed": true
   },
   "outputs": [],
   "source": [
    "# parameters\n",
    "size = 13\n",
    "T=200\n",
    "temperature=0.3\n",
    "epochs_train=300 # set small when debugging\n",
    "epochs_test=20 # set small when debugging\n",
    "\n",
    "# display videos\n",
    "def display_videos(name):\n",
    "    video = io.open(name, 'r+b').read()\n",
    "    encoded = base64.b64encode(video)\n",
    "    return '''<video alt=\"test\" controls>\n",
    "                <source src=\"data:video/mp4;base64,{0}\" type=\"video/mp4\" />\n",
    "             </video>'''.format(encoded.decode('ascii'))"
   ]
  },
  {
   "cell_type": "markdown",
   "metadata": {},
   "source": [
    "__Question 2__ Explain the use of the arrays ```position``` and ```board```."
   ]
  },
  {
   "cell_type": "markdown",
   "metadata": {},
   "source": [
    "```position``` represents the position of the mouse with a $N\\times N$ grid of zeros padded with -1 (margin width of 2), and with 1 at the position of the mouse.\n",
    "\n",
    "```board``` represents the positions of the cheeze and the poisonous cells. It is also a $N\\times N$ grid padded with a margin of -1 of width 2. "
   ]
  },
  {
   "cell_type": "markdown",
   "metadata": {},
   "source": [
    "## Random Agent"
   ]
  },
  {
   "cell_type": "markdown",
   "metadata": {},
   "source": [
    "***\n",
    "__Question 3__ Implement a random Agent (only ```learned_act``` needs to be implemented):"
   ]
  },
  {
   "cell_type": "code",
   "execution_count": 7,
   "metadata": {
    "collapsed": true
   },
   "outputs": [],
   "source": [
    "class RandomAgent(Agent):\n",
    "    def __init__(self):\n",
    "        super(RandomAgent, self).__init__()\n",
    "        pass\n",
    "\n",
    "    def learned_act(self, s):\n",
    "        return np.random.randint(4)"
   ]
  },
  {
   "cell_type": "markdown",
   "metadata": {},
   "source": [
    "***\n",
    "***\n",
    "__Question 4__ Visualize the game moves. You need to fill in the following function for the evaluation:"
   ]
  },
  {
   "cell_type": "code",
   "execution_count": 14,
   "metadata": {
    "collapsed": true
   },
   "outputs": [],
   "source": [
    "def test(agent,env,epochs,prefix=''):\n",
    "    # Number of won games\n",
    "    score = 0\n",
    "        \n",
    "    for e in range(epochs):\n",
    "        \n",
    "        s = env.reset()\n",
    "        \n",
    "        game_over = False\n",
    "        win, lose = 0, 0\n",
    "        \n",
    "        while not game_over:\n",
    "            a = agent.learned_act(s)\n",
    "            \n",
    "            s, r, game_over = env.act(a)\n",
    "            \n",
    "            if r > 0:\n",
    "                win += r\n",
    "            elif r < 0:\n",
    "                lose -= r\n",
    "        \n",
    "        # Save as a mp4\n",
    "        env.draw(prefix+str(e))\n",
    "\n",
    "        # Update stats\n",
    "        score = score + win-lose\n",
    "\n",
    "        print(\"Win/lose count {}/{}. Average score ({})\"\n",
    "              .format(win, lose, score/(1+e)))\n",
    "    print('Final score: '+str(score/epochs))"
   ]
  },
  {
   "cell_type": "code",
   "execution_count": 9,
   "metadata": {},
   "outputs": [
    {
     "name": "stdout",
     "output_type": "stream",
     "text": [
      "Win/lose count 9.0/11.0. Average score (-2.0)\n",
      "Win/lose count 9.0/17.0. Average score (-5.0)\n",
      "Win/lose count 10.0/16.0. Average score (-5.333333333333333)\n",
      "Win/lose count 15.0/17.0. Average score (-4.5)\n",
      "Win/lose count 10.5/15.0. Average score (-4.5)\n",
      "Win/lose count 9.0/11.0. Average score (-4.083333333333333)\n",
      "Win/lose count 8.0/8.0. Average score (-3.5)\n",
      "Win/lose count 7.5/11.0. Average score (-3.5)\n",
      "Win/lose count 11.5/22.0. Average score (-4.277777777777778)\n",
      "Win/lose count 8.5/14.0. Average score (-4.4)\n",
      "Win/lose count 9.0/12.0. Average score (-4.2727272727272725)\n",
      "Win/lose count 10.0/10.0. Average score (-3.9166666666666665)\n",
      "Win/lose count 9.0/6.0. Average score (-3.3846153846153846)\n",
      "Win/lose count 11.5/13.0. Average score (-3.25)\n",
      "Win/lose count 9.5/11.0. Average score (-3.1333333333333333)\n",
      "Win/lose count 13.0/19.0. Average score (-3.3125)\n",
      "Win/lose count 13.5/25.0. Average score (-3.7941176470588234)\n",
      "Win/lose count 16.0/15.0. Average score (-3.5277777777777777)\n",
      "Win/lose count 13.0/13.0. Average score (-3.3421052631578947)\n",
      "Win/lose count 9.5/25.0. Average score (-3.95)\n",
      "Final score: -3.95\n"
     ]
    },
    {
     "data": {
      "text/html": [
       "<video alt=\"test\" controls>\n",
       "                <source src=\"data:video/mp4;base64,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\" type=\"video/mp4\" />\n",
       "             </video>"
      ],
      "text/plain": [
       "<IPython.core.display.HTML object>"
      ]
     },
     "execution_count": 9,
     "metadata": {},
     "output_type": "execute_result"
    }
   ],
   "source": [
    "# Initialize the game\n",
    "env = Environment(grid_size=size, max_time=T,temperature=temperature)\n",
    "\n",
    "# Initialize the agent!\n",
    "agent = RandomAgent()\n",
    "\n",
    "test(agent,env,epochs_test,prefix='random')\n",
    "HTML(display_videos('random0.mp4'))"
   ]
  },
  {
   "cell_type": "markdown",
   "metadata": {},
   "source": [
    "***\n",
    "## DQN"
   ]
  },
  {
   "cell_type": "markdown",
   "metadata": {},
   "source": [
    "Let us assume here that $T=\\infty$.\n",
    "\n",
    "***\n",
    "__Question 5__ Let $\\pi$ be a policy, show that:\n",
    "\n",
    "\\begin{equation*}\n",
    "Q^{\\pi}(s,a)=E_{(s',a')\\sim p(.|s,a)}[r(s,a)+\\gamma Q^{\\pi}(s',a')]\n",
    "\\end{equation*}\n",
    "\n",
    "Then, show that for the optimal policy $\\pi^*$ (we assume its existence), the following holds: \n",
    "\n",
    "\\begin{equation*}\n",
    "Q^{*}(s,a)=E_{s'\\sim \\pi^*(.|s,a)}[r(s,a)+\\gamma\\max_{a'}Q^{*}(s',a')].\n",
    "\\end{equation*}\n",
    "Finally, deduce that a plausible objective is:\n",
    "\n",
    "\\begin{equation*}\n",
    "\\mathcal{L}(\\theta)=E_{s' \\sim \\pi^*(.|s,a)}\\Vert r+\\gamma\\max\\max_{a'}Q(s',a',\\theta)-Q(s,a,\\theta)\\Vert^{2}.\n",
    "\\end{equation*}\n",
    "\n",
    "\n"
   ]
  },
  {
   "cell_type": "markdown",
   "metadata": {},
   "source": []
  },
  {
   "cell_type": "markdown",
   "metadata": {},
   "source": [
    "***\n",
    "The DQN-learning algorithm relies on these derivations to train the parameters $\\theta$ of a Deep Neural Network:\n",
    "\n",
    "1. At the state $s_t$, select the action $a_t$ with best reward using $Q_t$ and store the results;\n",
    "\n",
    "2. Obtain the new state $s_{t+1}$ from the environment $p$;\n",
    "\n",
    "3. Store $(s_t,a_t,s_{t+1})$;\n",
    "\n",
    "4. Obtain $Q_{t+1}$ by minimizing  $\\mathcal{L}$ from a recovered batch from the previously stored results.\n",
    "\n",
    "***\n",
    "__Question 6__ Implement the class ```Memory``` that stores moves (in a replay buffer) via ```remember``` and provides a ```random_access``` to these. Specify a maximum memory size to avoid side effects. You can for example use a ```list()``` and set by default ```max_memory=100```."
   ]
  },
  {
   "cell_type": "code",
   "execution_count": 7,
   "metadata": {
    "collapsed": true
   },
   "outputs": [],
   "source": [
    "class Memory(object):\n",
    "    def __init__(self, max_memory=100):\n",
    "        self.max_memory = max_memory\n",
    "        self.memory = list()\n",
    "\n",
    "    def remember(self, m):\n",
    "        if len(self.memory) == self.max_memory:\n",
    "            del self.memory[0]\n",
    "        self.memory.append(m)\n",
    "\n",
    "    def random_access(self):\n",
    "        index = np.random.randint(len(self.memory))\n",
    "        return self.memory[index]"
   ]
  },
  {
   "cell_type": "markdown",
   "metadata": {},
   "source": [
    "***\n",
    "The pipeline we will use for training is given below:"
   ]
  },
  {
   "cell_type": "code",
   "execution_count": 8,
   "metadata": {
    "collapsed": true
   },
   "outputs": [],
   "source": [
    "def train(agent,env,epoch,prefix=''):\n",
    "    # Number of won games\n",
    "    score = 0\n",
    "    loss = 0\n",
    "\n",
    "    for e in range(epoch):\n",
    "        # At each epoch, we restart to a fresh game and get the initial state\n",
    "        state = env.reset()\n",
    "        # This assumes that the games will terminate\n",
    "        game_over = False\n",
    "\n",
    "        win = 0\n",
    "        lose = 0\n",
    "\n",
    "        while not game_over:\n",
    "            # The agent performs an action\n",
    "            action = agent.act(state)\n",
    "\n",
    "            # Apply an action to the environment, get the next state, the reward\n",
    "            # and if the games end\n",
    "            prev_state = state\n",
    "            state, reward, game_over = env.act(action)\n",
    "\n",
    "            # Update the counters\n",
    "            if reward > 0:\n",
    "                win = win + reward\n",
    "            if reward < 0:\n",
    "                lose = lose -reward\n",
    "\n",
    "            # Apply the reinforcement strategy\n",
    "            loss = agent.reinforce(prev_state, state,  action, reward, game_over)\n",
    "\n",
    "        # Save as a mp4\n",
    "        if e % 10 == 0:\n",
    "            env.draw(prefix+str(e))\n",
    "\n",
    "        # Update stats\n",
    "        score += win-lose\n",
    "\n",
    "        print(\"Epoch {:03d}/{:03d} | Loss {:.4f} | Win/lose count {}/{} ({})\"\n",
    "              .format(e, epoch, loss, win, lose, win-lose))\n",
    "        agent.save(name_weights=prefix+'model.h5',name_model=prefix+'model.json')"
   ]
  },
  {
   "cell_type": "markdown",
   "metadata": {},
   "source": [
    "***\n",
    "__Question 7__ Implement the DQN training algorithm using a cascade of fully connected layers. You can use different learning rate, batch size or memory size parameters. In particular, the loss might oscillate while the player will start to win the games. You have to find a good criterium."
   ]
  },
  {
   "cell_type": "code",
   "execution_count": 9,
   "metadata": {
    "collapsed": true
   },
   "outputs": [],
   "source": [
    "class DQN(Agent):\n",
    "    def __init__(self, grid_size,  epsilon = 0.1, memory_size=100, batch_size = 16,n_state=2):\n",
    "        super(DQN, self).__init__(epsilon = epsilon)\n",
    "\n",
    "        # Discount for Q learning\n",
    "        self.discount = 0.90\n",
    "        \n",
    "        self.grid_size = grid_size\n",
    "        \n",
    "        # number of state\n",
    "        self.n_state = n_state\n",
    "\n",
    "        # Memory\n",
    "        self.memory = Memory(memory_size)\n",
    "        \n",
    "        # Batch size when learning\n",
    "        self.batch_size = batch_size\n",
    "\n",
    "    def learned_act(self, s):\n",
    "        return np.argmax(self.model.predict(np.expand_dims(s, 0)))\n",
    "\n",
    "    def reinforce(self, s_, n_s_, a_, r_, game_over_):\n",
    "        # Two steps: first memorize the states, second learn from the pool\n",
    "\n",
    "        self.memory.remember([s_, n_s_, a_, r_, game_over_])\n",
    "        \n",
    "        input_states = np.zeros((self.batch_size, 5,5,self.n_state))\n",
    "        target_q = np.zeros((self.batch_size, 4))\n",
    "        \n",
    "        for i in range(self.batch_size):\n",
    "            ######## FILL IN\n",
    "            s_, n_s_, a_, r_, game_over_ = self.memory.random_access()\n",
    "            \n",
    "            input_states[i] = s_\n",
    "            target_q[i] = self.model.predict(np.expand_dims(s_, 0))\n",
    "\n",
    "            if game_over_:\n",
    "                target_q[i, a_] = r_\n",
    "            else:\n",
    "                target_q[i, a_] = r_ + self.discount * np.max(self.model.predict(np.expand_dims(n_s_, 0)))\n",
    "        ######## FILL IN\n",
    "        # HINT: Clip the target to avoid exploiding gradients.. -- clipping is a bit tighter\n",
    "        target_q = np.clip(target_q, -3, 3)\n",
    "\n",
    "        l = self.model.train_on_batch(input_states, target_q)\n",
    "\n",
    "\n",
    "        return l\n",
    "\n",
    "    def save(self,name_weights='model.h5',name_model='model.json'):\n",
    "        self.model.save_weights(name_weights, overwrite=True)\n",
    "        with open(name_model, \"w\") as outfile:\n",
    "            json.dump(self.model.to_json(), outfile)\n",
    "            \n",
    "    def load(self,name_weights='model.h5',name_model='model.json'):\n",
    "        with open(name_model, \"r\") as jfile:\n",
    "            model = model_from_json(json.load(jfile))\n",
    "        model.load_weights(name_weights)\n",
    "        model.compile(\"sgd\", \"mse\")\n",
    "        self.model = model\n",
    "\n",
    "            \n",
    "class DQN_FC(DQN):\n",
    "    def __init__(self, *args, lr=0.1,**kwargs):\n",
    "        super(DQN_FC, self).__init__( *args,**kwargs)\n",
    "        \n",
    "        # NN Model\n",
    "        model = Sequential()\n",
    "        model.add(Flatten(batch_input_shape=(None,5,5,2)))\n",
    "        model.add(Dense(128, activation=\"relu\"))\n",
    "        model.add(Dropout(0.5))\n",
    "        model.add(Dense(4, activation=\"softmax\"))\n",
    "        ####### FILL IN\n",
    "        \n",
    "        model.compile(sgd(lr=lr, decay=1e-4, momentum=0.0), \"mse\")\n",
    "        self.model = model\n",
    "        "
   ]
  },
  {
   "cell_type": "code",
   "execution_count": 21,
   "metadata": {},
   "outputs": [
    {
     "name": "stdout",
     "output_type": "stream",
     "text": [
      "Epoch 000/020 | Loss 0.0181 | Win/lose count 4.0/6.0 (-2.0)\n",
      "Epoch 001/020 | Loss 0.0096 | Win/lose count 1.0/2.0 (-1.0)\n",
      "Epoch 002/020 | Loss 0.0145 | Win/lose count 7.5/10.0 (-2.5)\n",
      "Epoch 003/020 | Loss 0.0130 | Win/lose count 0.5/6.0 (-5.5)\n",
      "Epoch 004/020 | Loss 0.0123 | Win/lose count 2.0/2.0 (0.0)\n",
      "Epoch 005/020 | Loss 0.0098 | Win/lose count 5.5/8.0 (-2.5)\n",
      "Epoch 006/020 | Loss 0.0121 | Win/lose count 3.5/10.0 (-6.5)\n",
      "Epoch 007/020 | Loss 0.0119 | Win/lose count 3.5/8.0 (-4.5)\n",
      "Epoch 008/020 | Loss 0.0091 | Win/lose count 2.0/2.0 (0.0)\n",
      "Epoch 009/020 | Loss 0.0184 | Win/lose count 6.0/6.0 (0.0)\n",
      "Epoch 010/020 | Loss 0.0108 | Win/lose count 3.5/3.0 (0.5)\n",
      "Epoch 011/020 | Loss 0.0186 | Win/lose count 5.5/10.0 (-4.5)\n",
      "Epoch 012/020 | Loss 0.0142 | Win/lose count 4.5/7.0 (-2.5)\n",
      "Epoch 013/020 | Loss 0.0134 | Win/lose count 2.5/2.0 (0.5)\n",
      "Epoch 014/020 | Loss 0.0150 | Win/lose count 5.5/2.0 (3.5)\n",
      "Epoch 015/020 | Loss 0.0072 | Win/lose count 4.5/3.0 (1.5)\n",
      "Epoch 016/020 | Loss 0.0088 | Win/lose count 5.5/13.0 (-7.5)\n",
      "Epoch 017/020 | Loss 0.0126 | Win/lose count 7.0/3.0 (4.0)\n",
      "Epoch 018/020 | Loss 0.0167 | Win/lose count 2.0/0 (2.0)\n",
      "Epoch 019/020 | Loss 0.0127 | Win/lose count 5.0/5.0 (0.0)\n"
     ]
    },
    {
     "data": {
      "text/html": [
       "<video alt=\"test\" controls>\n",
       "                <source src=\"data:video/mp4;base64,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\" type=\"video/mp4\" />\n",
       "             </video>"
      ],
      "text/plain": [
       "<IPython.core.display.HTML object>"
      ]
     },
     "execution_count": 21,
     "metadata": {},
     "output_type": "execute_result"
    }
   ],
   "source": [
    "env = Environment(grid_size=size, max_time=T, temperature=0.3)\n",
    "agent = DQN_FC(size, lr=.01, epsilon = 0.2, memory_size=2000, batch_size = 128)\n",
    "train(agent, env, epochs_train, prefix='fc_train')\n",
    "HTML(display_videos('fc_train0.mp4'))"
   ]
  },
  {
   "cell_type": "markdown",
   "metadata": {},
   "source": [
    "***\n",
    "***\n",
    "__Question 8__ Implement the DQN training algorithm using a CNN (for example, 2 convolutional layers and one final fully connected layer)."
   ]
  },
  {
   "cell_type": "code",
   "execution_count": 10,
   "metadata": {
    "collapsed": true
   },
   "outputs": [],
   "source": [
    "class DQN_CNN(DQN):\n",
    "    def __init__(self, *args,lr=0.1,**kwargs):\n",
    "        super(DQN_CNN, self).__init__(*args,**kwargs)\n",
    "        \n",
    "        model = Sequential()\n",
    "        model.add(Conv2D(8, kernel_size=3, padding='same'))\n",
    "        model.add(MaxPooling2D())\n",
    "        model.add(Activation(\"tanh\"))\n",
    "        model.add(Conv2D(16, kernel_size=3, padding='same'))\n",
    "        model.add(MaxPooling2D())\n",
    "        model.add(Activation(\"tanh\"))\n",
    "        model.add(Flatten())\n",
    "        model.add(Dropout(0.3))\n",
    "        model.add(Dense(4, activation=\"softmax\"))\n",
    "        \n",
    "        \n",
    "        model.compile(sgd(lr=lr, decay=1e-4, momentum=0.0), \"mse\")\n",
    "        self.model = model"
   ]
  },
  {
   "cell_type": "code",
   "execution_count": null,
   "metadata": {
    "scrolled": true
   },
   "outputs": [
    {
     "name": "stdout",
     "output_type": "stream",
     "text": [
      "Epoch 000/300 | Loss 0.0014 | Win/lose count 2.0/4.0 (-2.0)\n",
      "Epoch 001/300 | Loss 0.0029 | Win/lose count 2.5/2.0 (0.5)\n",
      "Epoch 002/300 | Loss 0.0240 | Win/lose count 5.5/5.0 (0.5)\n",
      "Epoch 003/300 | Loss 0.0098 | Win/lose count 3.0/1.0 (2.0)\n",
      "Epoch 004/300 | Loss 0.0171 | Win/lose count 3.0/5.0 (-2.0)\n",
      "Epoch 005/300 | Loss 0.0046 | Win/lose count 5.0/9.0 (-4.0)\n",
      "Epoch 006/300 | Loss 0.0018 | Win/lose count 1.5/7.0 (-5.5)\n",
      "Epoch 007/300 | Loss 0.0025 | Win/lose count 2.0/1.0 (1.0)\n",
      "Epoch 008/300 | Loss 0.0047 | Win/lose count 1.5/4.0 (-2.5)\n",
      "Epoch 009/300 | Loss 0.0006 | Win/lose count 4.5/2.0 (2.5)\n",
      "Epoch 010/300 | Loss 0.0025 | Win/lose count 2.0/2.0 (0.0)\n",
      "Epoch 011/300 | Loss 0.0099 | Win/lose count 2.5/4.0 (-1.5)\n",
      "Epoch 012/300 | Loss 0.0058 | Win/lose count 2.5/3.0 (-0.5)\n",
      "Epoch 013/300 | Loss 0.0118 | Win/lose count 6.0/17.0 (-11.0)\n",
      "Epoch 014/300 | Loss 0.0126 | Win/lose count 2.0/5.0 (-3.0)\n",
      "Epoch 015/300 | Loss 0.0098 | Win/lose count 3.0/5.0 (-2.0)\n",
      "Epoch 016/300 | Loss 0.0295 | Win/lose count 7.0/5.0 (2.0)\n",
      "Epoch 017/300 | Loss 0.0187 | Win/lose count 4.0/6.0 (-2.0)\n",
      "Epoch 018/300 | Loss 0.0012 | Win/lose count 4.0/8.0 (-4.0)\n",
      "Epoch 019/300 | Loss 0.0004 | Win/lose count 5.0/5.0 (0.0)\n",
      "Epoch 020/300 | Loss 0.0039 | Win/lose count 0.5/1.0 (-0.5)\n",
      "Epoch 021/300 | Loss 0.0108 | Win/lose count 4.0/4.0 (0.0)\n",
      "Epoch 022/300 | Loss 0.0040 | Win/lose count 2.5/5.0 (-2.5)\n",
      "Epoch 023/300 | Loss 0.0115 | Win/lose count 2.5/3.0 (-0.5)\n",
      "Epoch 024/300 | Loss 0.0101 | Win/lose count 4.5/6.0 (-1.5)\n",
      "Epoch 025/300 | Loss 0.0036 | Win/lose count 7.0/7.0 (0.0)\n",
      "Epoch 026/300 | Loss 0.0030 | Win/lose count 6.5/8.0 (-1.5)\n",
      "Epoch 027/300 | Loss 0.0005 | Win/lose count 1.0/5.0 (-4.0)\n",
      "Epoch 028/300 | Loss 0.0095 | Win/lose count 3.0/5.0 (-2.0)\n",
      "Epoch 029/300 | Loss 0.0108 | Win/lose count 6.0/11.0 (-5.0)\n",
      "Epoch 030/300 | Loss 0.0099 | Win/lose count 4.0/5.0 (-1.0)\n",
      "Epoch 031/300 | Loss 0.0103 | Win/lose count 5.0/5.0 (0.0)\n",
      "Epoch 032/300 | Loss 0.0008 | Win/lose count 3.5/1.0 (2.5)\n",
      "Epoch 033/300 | Loss 0.0057 | Win/lose count 2.0/6.0 (-4.0)\n",
      "Epoch 034/300 | Loss 0.0023 | Win/lose count 3.0/4.0 (-1.0)\n",
      "Epoch 035/300 | Loss 0.0101 | Win/lose count 6.5/1.0 (5.5)\n",
      "Epoch 036/300 | Loss 0.0167 | Win/lose count 2.5/0 (2.5)\n",
      "Epoch 037/300 | Loss 0.0042 | Win/lose count 1.0/2.0 (-1.0)\n",
      "Epoch 038/300 | Loss 0.0023 | Win/lose count 2.5/2.0 (0.5)\n",
      "Epoch 039/300 | Loss 0.0203 | Win/lose count 2.0/5.0 (-3.0)\n",
      "Epoch 040/300 | Loss 0.0004 | Win/lose count 4.5/7.0 (-2.5)\n",
      "Epoch 041/300 | Loss 0.0025 | Win/lose count 0.5/5.0 (-4.5)\n",
      "Epoch 042/300 | Loss 0.0020 | Win/lose count 4.5/7.0 (-2.5)\n",
      "Epoch 043/300 | Loss 0.0022 | Win/lose count 1.0/2.0 (-1.0)\n",
      "Epoch 044/300 | Loss 0.0053 | Win/lose count 2.0/1.0 (1.0)\n",
      "Epoch 045/300 | Loss 0.0005 | Win/lose count 4.0/12.0 (-8.0)\n",
      "Epoch 046/300 | Loss 0.0237 | Win/lose count 5.5/10.0 (-4.5)\n",
      "Epoch 047/300 | Loss 0.0005 | Win/lose count 3.0/3.0 (0.0)\n",
      "Epoch 048/300 | Loss 0.0086 | Win/lose count 3.0/5.0 (-2.0)\n",
      "Epoch 049/300 | Loss 0.0090 | Win/lose count 4.5/7.0 (-2.5)\n",
      "Epoch 050/300 | Loss 0.0019 | Win/lose count 5.0/9.0 (-4.0)\n",
      "Epoch 051/300 | Loss 0.0108 | Win/lose count 7.0/10.0 (-3.0)\n",
      "Epoch 052/300 | Loss 0.0025 | Win/lose count 3.5/4.0 (-0.5)\n",
      "Epoch 053/300 | Loss 0.0041 | Win/lose count 4.0/2.0 (2.0)\n",
      "Epoch 054/300 | Loss 0.0041 | Win/lose count 3.5/5.0 (-1.5)\n",
      "Epoch 055/300 | Loss 0.0107 | Win/lose count 2.0/3.0 (-1.0)\n",
      "Epoch 056/300 | Loss 0.0015 | Win/lose count 6.5/8.0 (-1.5)\n",
      "Epoch 057/300 | Loss 0.0111 | Win/lose count 0.5/5.0 (-4.5)\n",
      "Epoch 058/300 | Loss 0.0003 | Win/lose count 7.0/3.0 (4.0)\n",
      "Epoch 059/300 | Loss 0.0018 | Win/lose count 2.0/8.0 (-6.0)\n",
      "Epoch 060/300 | Loss 0.0043 | Win/lose count 7.0/7.0 (0.0)\n",
      "Epoch 061/300 | Loss 0.0122 | Win/lose count 5.0/4.0 (1.0)\n",
      "Epoch 062/300 | Loss 0.0020 | Win/lose count 3.5/2.0 (1.5)\n",
      "Epoch 063/300 | Loss 0.0278 | Win/lose count 6.0/9.0 (-3.0)\n",
      "Epoch 064/300 | Loss 0.0098 | Win/lose count 2.0/3.0 (-1.0)\n",
      "Epoch 065/300 | Loss 0.0154 | Win/lose count 6.0/5.0 (1.0)\n",
      "Epoch 066/300 | Loss 0.0219 | Win/lose count 3.5/5.0 (-1.5)\n",
      "Epoch 067/300 | Loss 0.0166 | Win/lose count 5.5/8.0 (-2.5)\n",
      "Epoch 068/300 | Loss 0.0197 | Win/lose count 4.0/5.0 (-1.0)\n",
      "Epoch 069/300 | Loss 0.0003 | Win/lose count 5.0/9.0 (-4.0)\n",
      "Epoch 070/300 | Loss 0.0004 | Win/lose count 6.0/2.0 (4.0)\n",
      "Epoch 071/300 | Loss 0.0025 | Win/lose count 5.0/3.0 (2.0)\n",
      "Epoch 072/300 | Loss 0.0062 | Win/lose count 5.5/9.0 (-3.5)\n",
      "Epoch 073/300 | Loss 0.0017 | Win/lose count 3.5/6.0 (-2.5)\n",
      "Epoch 074/300 | Loss 0.0028 | Win/lose count 3.5/4.0 (-0.5)\n",
      "Epoch 075/300 | Loss 0.0098 | Win/lose count 6.5/4.0 (2.5)\n",
      "Epoch 076/300 | Loss 0.0136 | Win/lose count 5.0/10.0 (-5.0)\n",
      "Epoch 077/300 | Loss 0.0174 | Win/lose count 7.0/12.0 (-5.0)\n",
      "Epoch 078/300 | Loss 0.0058 | Win/lose count 5.0/11.0 (-6.0)\n",
      "Epoch 079/300 | Loss 0.0106 | Win/lose count 2.0/6.0 (-4.0)\n",
      "Epoch 080/300 | Loss 0.0189 | Win/lose count 4.0/2.0 (2.0)\n",
      "Epoch 081/300 | Loss 0.0119 | Win/lose count 6.0/2.0 (4.0)\n",
      "Epoch 082/300 | Loss 0.0260 | Win/lose count 1.5/2.0 (-0.5)\n",
      "Epoch 083/300 | Loss 0.0123 | Win/lose count 4.5/5.0 (-0.5)\n",
      "Epoch 084/300 | Loss 0.0022 | Win/lose count 4.0/7.0 (-3.0)\n",
      "Epoch 085/300 | Loss 0.0022 | Win/lose count 2.0/5.0 (-3.0)\n",
      "Epoch 086/300 | Loss 0.0022 | Win/lose count 1.5/4.0 (-2.5)\n",
      "Epoch 087/300 | Loss 0.0003 | Win/lose count 9.0/12.0 (-3.0)\n",
      "Epoch 088/300 | Loss 0.0022 | Win/lose count 5.0/3.0 (2.0)\n",
      "Epoch 089/300 | Loss 0.0078 | Win/lose count 2.0/4.0 (-2.0)\n",
      "Epoch 090/300 | Loss 0.0056 | Win/lose count 1.0/2.0 (-1.0)\n",
      "Epoch 091/300 | Loss 0.0004 | Win/lose count 0/1.0 (-1.0)\n",
      "Epoch 092/300 | Loss 0.0103 | Win/lose count 1.5/0 (1.5)\n",
      "Epoch 093/300 | Loss 0.0004 | Win/lose count 4.5/6.0 (-1.5)\n",
      "Epoch 094/300 | Loss 0.0163 | Win/lose count 1.5/5.0 (-3.5)\n",
      "Epoch 095/300 | Loss 0.0004 | Win/lose count 2.0/5.0 (-3.0)\n",
      "Epoch 096/300 | Loss 0.0088 | Win/lose count 1.0/2.0 (-1.0)\n",
      "Epoch 097/300 | Loss 0.0088 | Win/lose count 4.0/5.0 (-1.0)\n",
      "Epoch 098/300 | Loss 0.0078 | Win/lose count 3.5/2.0 (1.5)\n",
      "Epoch 099/300 | Loss 0.0086 | Win/lose count 3.5/7.0 (-3.5)\n",
      "Epoch 100/300 | Loss 0.0086 | Win/lose count 3.0/5.0 (-2.0)\n",
      "Epoch 101/300 | Loss 0.0003 | Win/lose count 4.0/3.0 (1.0)\n",
      "Epoch 102/300 | Loss 0.0003 | Win/lose count 5.0/5.0 (0.0)\n",
      "Epoch 103/300 | Loss 0.0019 | Win/lose count 4.0/4.0 (0.0)\n",
      "Epoch 104/300 | Loss 0.0086 | Win/lose count 6.0/5.0 (1.0)\n",
      "Epoch 105/300 | Loss 0.0088 | Win/lose count 5.0/7.0 (-2.0)\n",
      "Epoch 106/300 | Loss 0.0104 | Win/lose count 2.0/5.0 (-3.0)\n",
      "Epoch 107/300 | Loss 0.0023 | Win/lose count 5.0/5.0 (0.0)\n",
      "Epoch 108/300 | Loss 0.0122 | Win/lose count 7.0/10.0 (-3.0)\n",
      "Epoch 109/300 | Loss 0.0004 | Win/lose count 3.5/4.0 (-0.5)\n",
      "Epoch 110/300 | Loss 0.0042 | Win/lose count 5.0/5.0 (0.0)\n",
      "Epoch 111/300 | Loss 0.0206 | Win/lose count 5.0/6.0 (-1.0)\n",
      "Epoch 112/300 | Loss 0.0022 | Win/lose count 4.5/8.0 (-3.5)\n",
      "Epoch 113/300 | Loss 0.0075 | Win/lose count 3.5/8.0 (-4.5)\n",
      "Epoch 114/300 | Loss 0.0163 | Win/lose count 5.0/3.0 (2.0)\n",
      "Epoch 115/300 | Loss 0.0063 | Win/lose count 2.5/6.0 (-3.5)\n",
      "Epoch 116/300 | Loss 0.0039 | Win/lose count 4.0/3.0 (1.0)\n",
      "Epoch 117/300 | Loss 0.0088 | Win/lose count 9.5/10.0 (-0.5)\n",
      "Epoch 118/300 | Loss 0.0040 | Win/lose count 0.5/1.0 (-0.5)\n",
      "Epoch 119/300 | Loss 0.0179 | Win/lose count 2.0/0 (2.0)\n",
      "Epoch 120/300 | Loss 0.0165 | Win/lose count 4.0/5.0 (-1.0)\n",
      "Epoch 121/300 | Loss 0.0021 | Win/lose count 1.5/3.0 (-1.5)\n",
      "Epoch 122/300 | Loss 0.0155 | Win/lose count 5.5/7.0 (-1.5)\n",
      "Epoch 123/300 | Loss 0.0100 | Win/lose count 4.5/6.0 (-1.5)\n",
      "Epoch 124/300 | Loss 0.0122 | Win/lose count 1.5/2.0 (-0.5)\n",
      "Epoch 125/300 | Loss 0.0124 | Win/lose count 6.0/3.0 (3.0)\n",
      "Epoch 126/300 | Loss 0.0104 | Win/lose count 4.5/2.0 (2.5)\n",
      "Epoch 127/300 | Loss 0.0182 | Win/lose count 2.5/3.0 (-0.5)\n",
      "Epoch 128/300 | Loss 0.0102 | Win/lose count 3.5/5.0 (-1.5)\n",
      "Epoch 129/300 | Loss 0.0004 | Win/lose count 4.0/4.0 (0.0)\n",
      "Epoch 130/300 | Loss 0.0204 | Win/lose count 5.0/4.0 (1.0)\n",
      "Epoch 131/300 | Loss 0.0087 | Win/lose count 6.0/5.0 (1.0)\n",
      "Epoch 132/300 | Loss 0.0202 | Win/lose count 4.0/2.0 (2.0)\n",
      "Epoch 133/300 | Loss 0.0088 | Win/lose count 5.5/10.0 (-4.5)\n",
      "Epoch 134/300 | Loss 0.0074 | Win/lose count 5.0/9.0 (-4.0)\n",
      "Epoch 135/300 | Loss 0.0020 | Win/lose count 6.0/8.0 (-2.0)\n",
      "Epoch 136/300 | Loss 0.0344 | Win/lose count 3.5/4.0 (-0.5)\n",
      "Epoch 137/300 | Loss 0.0195 | Win/lose count 3.0/5.0 (-2.0)\n"
     ]
    },
    {
     "name": "stdout",
     "output_type": "stream",
     "text": [
      "Epoch 138/300 | Loss 0.0022 | Win/lose count 2.0/1.0 (1.0)\n",
      "Epoch 139/300 | Loss 0.0004 | Win/lose count 5.5/10.0 (-4.5)\n",
      "Epoch 140/300 | Loss 0.0022 | Win/lose count 7.0/0 (7.0)\n",
      "Epoch 141/300 | Loss 0.0088 | Win/lose count 3.0/3.0 (0.0)\n",
      "Epoch 142/300 | Loss 0.0026 | Win/lose count 4.0/4.0 (0.0)\n",
      "Epoch 143/300 | Loss 0.0083 | Win/lose count 4.5/5.0 (-0.5)\n",
      "Epoch 144/300 | Loss 0.0038 | Win/lose count 8.0/7.0 (1.0)\n",
      "Epoch 145/300 | Loss 0.0120 | Win/lose count 5.5/10.0 (-4.5)\n",
      "Epoch 146/300 | Loss 0.0021 | Win/lose count 6.0/4.0 (2.0)\n",
      "Epoch 147/300 | Loss 0.0020 | Win/lose count 2.5/2.0 (0.5)\n",
      "Epoch 148/300 | Loss 0.0107 | Win/lose count 4.5/5.0 (-0.5)\n",
      "Epoch 149/300 | Loss 0.0120 | Win/lose count 2.5/3.0 (-0.5)\n",
      "Epoch 150/300 | Loss 0.0105 | Win/lose count 3.5/5.0 (-1.5)\n",
      "Epoch 151/300 | Loss 0.0004 | Win/lose count 5.5/3.0 (2.5)\n",
      "Epoch 152/300 | Loss 0.0043 | Win/lose count 5.5/3.0 (2.5)\n",
      "Epoch 153/300 | Loss 0.0022 | Win/lose count 3.0/4.0 (-1.0)\n",
      "Epoch 154/300 | Loss 0.0038 | Win/lose count 7.0/6.0 (1.0)\n",
      "Epoch 155/300 | Loss 0.0128 | Win/lose count 5.5/7.0 (-1.5)\n",
      "Epoch 156/300 | Loss 0.0059 | Win/lose count 6.0/2.0 (4.0)\n",
      "Epoch 157/300 | Loss 0.0021 | Win/lose count 1.5/1.0 (0.5)\n",
      "Epoch 158/300 | Loss 0.0022 | Win/lose count 10.0/9.0 (1.0)\n",
      "Epoch 159/300 | Loss 0.0061 | Win/lose count 4.0/5.0 (-1.0)\n",
      "Epoch 160/300 | Loss 0.0145 | Win/lose count 4.0/10.0 (-6.0)\n",
      "Epoch 161/300 | Loss 0.0100 | Win/lose count 5.0/2.0 (3.0)\n",
      "Epoch 162/300 | Loss 0.0003 | Win/lose count 4.5/7.0 (-2.5)\n",
      "Epoch 163/300 | Loss 0.0020 | Win/lose count 3.0/2.0 (1.0)\n",
      "Epoch 164/300 | Loss 0.0042 | Win/lose count 1.0/3.0 (-2.0)\n",
      "Epoch 165/300 | Loss 0.0040 | Win/lose count 4.5/6.0 (-1.5)\n",
      "Epoch 166/300 | Loss 0.0042 | Win/lose count 2.5/1.0 (1.5)\n",
      "Epoch 167/300 | Loss 0.0039 | Win/lose count 6.0/10.0 (-4.0)\n",
      "Epoch 168/300 | Loss 0.0097 | Win/lose count 7.0/8.0 (-1.0)\n",
      "Epoch 169/300 | Loss 0.0207 | Win/lose count 3.5/1.0 (2.5)\n",
      "Epoch 170/300 | Loss 0.0100 | Win/lose count 2.0/7.0 (-5.0)\n",
      "Epoch 171/300 | Loss 0.0109 | Win/lose count 1.5/1.0 (0.5)\n",
      "Epoch 172/300 | Loss 0.0100 | Win/lose count 5.5/8.0 (-2.5)\n",
      "Epoch 173/300 | Loss 0.0003 | Win/lose count 5.0/2.0 (3.0)\n",
      "Epoch 174/300 | Loss 0.0021 | Win/lose count 2.5/4.0 (-1.5)\n",
      "Epoch 175/300 | Loss 0.0046 | Win/lose count 0.5/4.0 (-3.5)\n",
      "Epoch 176/300 | Loss 0.0009 | Win/lose count 12.0/6.0 (6.0)\n",
      "Epoch 177/300 | Loss 0.0022 | Win/lose count 6.5/6.0 (0.5)\n",
      "Epoch 178/300 | Loss 0.0018 | Win/lose count 3.0/8.0 (-5.0)\n",
      "Epoch 179/300 | Loss 0.0109 | Win/lose count 5.5/4.0 (1.5)\n",
      "Epoch 180/300 | Loss 0.0128 | Win/lose count 5.5/5.0 (0.5)\n",
      "Epoch 181/300 | Loss 0.0084 | Win/lose count 1.5/4.0 (-2.5)\n",
      "Epoch 182/300 | Loss 0.0103 | Win/lose count 3.0/6.0 (-3.0)\n",
      "Epoch 183/300 | Loss 0.0097 | Win/lose count 3.5/3.0 (0.5)\n",
      "Epoch 184/300 | Loss 0.0283 | Win/lose count 4.5/4.0 (0.5)\n",
      "Epoch 185/300 | Loss 0.0121 | Win/lose count 4.5/7.0 (-2.5)\n",
      "Epoch 186/300 | Loss 0.0221 | Win/lose count 3.0/3.0 (0.0)\n",
      "Epoch 187/300 | Loss 0.0020 | Win/lose count 4.5/7.0 (-2.5)\n",
      "Epoch 188/300 | Loss 0.0056 | Win/lose count 6.5/7.0 (-0.5)\n",
      "Epoch 189/300 | Loss 0.0101 | Win/lose count 6.0/6.0 (0.0)\n",
      "Epoch 190/300 | Loss 0.0171 | Win/lose count 6.0/2.0 (4.0)\n",
      "Epoch 191/300 | Loss 0.0020 | Win/lose count 7.0/4.0 (3.0)\n",
      "Epoch 192/300 | Loss 0.0146 | Win/lose count 1.5/2.0 (-0.5)\n",
      "Epoch 193/300 | Loss 0.0019 | Win/lose count 7.0/6.0 (1.0)\n",
      "Epoch 194/300 | Loss 0.0137 | Win/lose count 0.5/0 (0.5)\n",
      "Epoch 195/300 | Loss 0.0056 | Win/lose count 6.5/3.0 (3.5)\n",
      "Epoch 196/300 | Loss 0.0119 | Win/lose count 1.0/3.0 (-2.0)\n",
      "Epoch 197/300 | Loss 0.0055 | Win/lose count 1.5/2.0 (-0.5)\n",
      "Epoch 198/300 | Loss 0.0022 | Win/lose count 6.0/1.0 (5.0)\n",
      "Epoch 199/300 | Loss 0.0086 | Win/lose count 5.5/2.0 (3.5)\n",
      "Epoch 200/300 | Loss 0.0060 | Win/lose count 2.0/6.0 (-4.0)\n",
      "Epoch 201/300 | Loss 0.0045 | Win/lose count 2.5/2.0 (0.5)\n",
      "Epoch 202/300 | Loss 0.0032 | Win/lose count 2.0/1.0 (1.0)\n",
      "Epoch 203/300 | Loss 0.0102 | Win/lose count 3.5/2.0 (1.5)\n",
      "Epoch 204/300 | Loss 0.0039 | Win/lose count 4.5/3.0 (1.5)\n",
      "Epoch 205/300 | Loss 0.0037 | Win/lose count 1.5/0 (1.5)\n",
      "Epoch 206/300 | Loss 0.0040 | Win/lose count 4.0/2.0 (2.0)\n",
      "Epoch 207/300 | Loss 0.0021 | Win/lose count 1.0/1.0 (0.0)\n",
      "Epoch 208/300 | Loss 0.0106 | Win/lose count 1.0/3.0 (-2.0)\n",
      "Epoch 209/300 | Loss 0.0105 | Win/lose count 3.5/7.0 (-3.5)\n",
      "Epoch 210/300 | Loss 0.0182 | Win/lose count 4.0/9.0 (-5.0)\n",
      "Epoch 211/300 | Loss 0.0022 | Win/lose count 6.5/10.0 (-3.5)\n",
      "Epoch 212/300 | Loss 0.0169 | Win/lose count 8.5/12.0 (-3.5)\n",
      "Epoch 213/300 | Loss 0.0004 | Win/lose count 4.5/6.0 (-1.5)\n",
      "Epoch 214/300 | Loss 0.0082 | Win/lose count 3.5/5.0 (-1.5)\n",
      "Epoch 215/300 | Loss 0.0204 | Win/lose count 5.0/8.0 (-3.0)\n",
      "Epoch 216/300 | Loss 0.0075 | Win/lose count 6.5/8.0 (-1.5)\n",
      "Epoch 217/300 | Loss 0.0263 | Win/lose count 3.5/5.0 (-1.5)\n",
      "Epoch 218/300 | Loss 0.0022 | Win/lose count 2.5/3.0 (-0.5)\n",
      "Epoch 219/300 | Loss 0.0022 | Win/lose count 2.5/1.0 (1.5)\n",
      "Epoch 220/300 | Loss 0.0021 | Win/lose count 6.0/9.0 (-3.0)\n",
      "Epoch 221/300 | Loss 0.0173 | Win/lose count 4.0/5.0 (-1.0)\n",
      "Epoch 222/300 | Loss 0.0039 | Win/lose count 5.0/3.0 (2.0)\n",
      "Epoch 223/300 | Loss 0.0082 | Win/lose count 8.5/4.0 (4.5)\n",
      "Epoch 224/300 | Loss 0.0020 | Win/lose count 5.5/1.0 (4.5)\n",
      "Epoch 225/300 | Loss 0.0023 | Win/lose count 2.0/3.0 (-1.0)\n",
      "Epoch 226/300 | Loss 0.0039 | Win/lose count 5.0/4.0 (1.0)\n",
      "Epoch 227/300 | Loss 0.0021 | Win/lose count 1.5/2.0 (-0.5)\n",
      "Epoch 228/300 | Loss 0.0039 | Win/lose count 5.5/1.0 (4.5)\n",
      "Epoch 229/300 | Loss 0.0061 | Win/lose count 5.0/9.0 (-4.0)\n"
     ]
    }
   ],
   "source": [
    "env = Environment(grid_size=size, max_time=T, temperature=0.3)\n",
    "agent = DQN_CNN(size, lr=.1, epsilon = 0.1, memory_size=2000, batch_size = 32)\n",
    "train(agent,env,epochs_train,prefix='cnn_train')\n",
    "HTML(display_videos('cnn_train0.mp4'))"
   ]
  },
  {
   "cell_type": "markdown",
   "metadata": {},
   "source": [
    "***\n",
    "***\n",
    "__Question 9__ Test both algorithms and compare their performances. Which issue(s) do you observe? Observe also different behaviors by changing the temperature."
   ]
  },
  {
   "cell_type": "code",
   "execution_count": 20,
   "metadata": {},
   "outputs": [
    {
     "name": "stdout",
     "output_type": "stream",
     "text": [
      "Test of the CNN\n",
      "Win/lose count 0.5/2.0. Average score (-1.5)\n",
      "Win/lose count 1.0/0. Average score (-0.25)\n",
      "Win/lose count 0.5/0. Average score (0.0)\n",
      "Win/lose count 0.5/3.0. Average score (-0.625)\n",
      "Win/lose count 0/1.0. Average score (-0.7)\n",
      "Win/lose count 0.5/1.0. Average score (-0.6666666666666666)\n",
      "Win/lose count 0/0. Average score (-0.5714285714285714)\n",
      "Win/lose count 1.0/0. Average score (-0.375)\n",
      "Win/lose count 1.0/0. Average score (-0.2222222222222222)\n",
      "Win/lose count 0/1.0. Average score (-0.3)\n",
      "Win/lose count 0.5/1.0. Average score (-0.3181818181818182)\n",
      "Win/lose count 1.5/0. Average score (-0.16666666666666666)\n",
      "Win/lose count 1.0/3.0. Average score (-0.3076923076923077)\n",
      "Win/lose count 0/1.0. Average score (-0.35714285714285715)\n",
      "Win/lose count 0.5/1.0. Average score (-0.36666666666666664)\n",
      "Win/lose count 0/0. Average score (-0.34375)\n",
      "Win/lose count 0/0. Average score (-0.3235294117647059)\n",
      "Win/lose count 0/0. Average score (-0.3055555555555556)\n",
      "Win/lose count 0.5/0. Average score (-0.2631578947368421)\n",
      "Win/lose count 1.5/0. Average score (-0.175)\n",
      "Final score: -0.175\n",
      "Test of the FC\n",
      "Win/lose count 0.5/0. Average score (0.5)\n",
      "Win/lose count 0.5/0. Average score (0.5)\n",
      "Win/lose count 0/1.0. Average score (0.0)\n",
      "Win/lose count 0.5/0. Average score (0.125)\n",
      "Win/lose count 0/1.0. Average score (-0.1)\n",
      "Win/lose count 0/1.0. Average score (-0.25)\n",
      "Win/lose count 0/3.0. Average score (-0.6428571428571429)\n",
      "Win/lose count 1.0/0. Average score (-0.4375)\n",
      "Win/lose count 0/1.0. Average score (-0.5)\n",
      "Win/lose count 2.0/1.0. Average score (-0.35)\n",
      "Win/lose count 1.5/0. Average score (-0.18181818181818182)\n",
      "Win/lose count 0/0. Average score (-0.16666666666666666)\n",
      "Win/lose count 1.5/0. Average score (-0.038461538461538464)\n",
      "Win/lose count 0.5/0. Average score (0.0)\n",
      "Win/lose count 0/0. Average score (0.0)\n",
      "Win/lose count 0/1.0. Average score (-0.0625)\n",
      "Win/lose count 0.5/2.0. Average score (-0.14705882352941177)\n",
      "Win/lose count 1.5/1.0. Average score (-0.1111111111111111)\n",
      "Win/lose count 1.0/0. Average score (-0.05263157894736842)\n",
      "Win/lose count 0.5/0. Average score (-0.025)\n",
      "Final score: -0.025\n"
     ]
    }
   ],
   "source": [
    "env = Environment(grid_size=size, max_time=T,temperature=0.3)\n",
    "agent_cnn = DQN_CNN(size, lr=.1, epsilon = 0.1, memory_size=2000, batch_size = 32)\n",
    "agent_cnn.load(name_weights='cnn_trainmodel.h5',name_model='cnn_trainmodel.json')\n",
    "\n",
    "agent_fc = DQN_FC(size, lr=.1, epsilon = 0.1, memory_size=2000, batch_size = 32)\n",
    "agent_cnn.load(name_weights='fc_trainmodel.h5',name_model='fc_trainmodel.json')\n",
    "print('Test of the CNN')\n",
    "test(agent_cnn,env,epochs_test,prefix='cnn_test')\n",
    "print('Test of the FC')\n",
    "test(agent_fc,env,epochs_test,prefix='fc_test')"
   ]
  },
  {
   "cell_type": "code",
   "execution_count": 50,
   "metadata": {},
   "outputs": [
    {
     "data": {
      "text/html": [
       "<video alt=\"test\" controls>\n",
       "                <source src=\"data:video/mp4;base64,AAAAIGZ0eXBpc29tAAACAGlzb21pc28yYXZjMW1wNDEAAAAIZnJlZQAAFadtZGF0AAACrQYF//+p3EXpvebZSLeWLNgg2SPu73gyNjQgLSBjb3JlIDE1MiByMjg1NCBlOWE1OTAzIC0gSC4yNjQvTVBFRy00IEFWQyBjb2RlYyAtIENvcHlsZWZ0IDIwMDMtMjAxNyAtIGh0dHA6Ly93d3cudmlkZW9sYW4ub3JnL3gyNjQuaHRtbCAtIG9wdGlvbnM6IGNhYmFjPTEgcmVmPTMgZGVibG9jaz0xOjA6MCBhbmFseXNlPTB4MToweDExMSBtZT1oZXggc3VibWU9NyBwc3k9MSBwc3lfcmQ9MS4wMDowLjAwIG1peGVkX3JlZj0xIG1lX3JhbmdlPTE2IGNocm9tYV9tZT0xIHRyZWxsaXM9MSA4eDhkY3Q9MCBjcW09MCBkZWFkem9uZT0yMSwxMSBmYXN0X3Bza2lwPTEgY2hyb21hX3FwX29mZnNldD00IHRocmVhZHM9NiBsb29rYWhlYWRfdGhyZWFkcz0xIHNsaWNlZF90aHJlYWRzPTAgbnI9MCBkZWNpbWF0ZT0xIGludGVybGFjZWQ9MCBibHVyYXlfY29tcGF0PTAgY29uc3RyYWluZWRfaW50cmE9MCBiZnJhbWVzPTMgYl9weXJhbWlkPTIgYl9hZGFwdD0xIGJfYmlhcz0wIGRpcmVjdD0xIHdlaWdodGI9MSBvcGVuX2dvcD0wIHdlaWdodHA9MiBrZXlpbnQ9MjUwIGtleWludF9taW49MjUgc2NlbmVjdXQ9NDAgaW50cmFfcmVmcmVzaD0wIHJjX2xvb2thaGVhZD00MCByYz1jcmYgbWJ0cmVlPTEgY3JmPTIzLjAgcWNvbXA9MC42MCBxcG1pbj0wIHFwbWF4PTY5IHFwc3RlcD00IGlwX3JhdGlvPTEuNDAgYXE9MToxLjAwAIAAAAMdZYiEADf//vaH+BTZWBP+Wb/9DX/cj9uPrP1xYyEE31qvIejAGS+1H+b/rFFs6Z6UB/fgCJQAc24ZwpJw4v/ApLdW+BTLYTnGrzD8eNPwpbJHJ82I7SV6WKS9MQ7Rcfete4dw3t7ViRy4FLGtsQQPtQOBELLmI4MmZLfCmtXPwM+Jr/U3Ltjwc5srQQPv7FbjF2fnRqIWplDSTaoCiBCML8lYJH5+dz5IhrB1ElFOqp3ell95F3CxGox59pY+557NxLjYj/je54NquoIITATIu4IO+Vg8gLg6E+W0k4IpzbzLzAf+bRUgpN06k1KEnW8RzdPcn7SkiOWPcKKbDGbiEWgMBZX7BzHXpbefRh5HPu/0X3Wet3dCbRqUH1QneVEfiv+rCuy8OEzVpc5JX05ANpphulrz+obaYOdXOS0F441aSe1LPBdx7pw1VlMPqG67z8POA0VkY+Wjz2MCo7Sg0LSDyMYmmWvIfFqwTEJOv27lhT0udsu7+HEkvjZ4ZAIQAACXpBsAh5lY9RPvIEaUr+6Wr7z8mqC69CvM2i1zQAVBxg27dieHy7LIs6bH5gJvtOElanmIHTgtPbhaUUNekG82d34Mhax76WFWDAhojroVn9QiEapjMuwLUIvK3uQDXYLS9t/GRJSOXww3dbKwgnwgIpBSD/nNJlKXcoUpv2XWDvc5XukrNU6JQ0aMHMyajV/ZUIQOD8sRaJTneb1qled0VUe8BEUjU0mALuGlaoO+FhnyNM2FnhpcCKWPzPZrR1X0F4m35ktDHyac50JhrgrTzEO9930YwFJ1s332xJTx6x2rJriqwzF8ThaVge/twCnN1wOclcucrNMlv1SQP47gFINnlgcJ6/MSPHJXp5IQwmbzGPdG6HamRtrvIPIUjyWaIHghVh8Ak4Ix3JaCEQHAQzH7SzWPhGleOxss+WRq8eDaZe5PXw1PuSape7jRywtwWnrPyPgUa7P1AvuN7VUKAHU42c1v4QnoX9h8QorsBhTucklmh5nAgFPEDbmAJyKj6tfgUPQPZSxKBEQVfygVm1h+e0BBzYAAqIEAAAAUQZohbEN//qeEABNXXNFEdcppicAAAAAYQZpCPCGTKYQ7//6plgAGW9pfzukKYSxRAAAAHEGaZknhDyZTAh3//qmWAAQH48/kXpc7SYNBE4AAAAAQQZ6ERRE8L/8ABNZ/u8onkQAAABABnqN0Qr8ABpgELgPygB3hAAAADwGepWpCvwAENta7vu/GwQAAABNBmqpJqEFomUwId//+qZYAAJWBAAAADEGeyEURLC//AACygAAAABABnud0Qr8ABDhAHP60DpbAAAAAEAGe6WpCvwAENta7rIYdLYEAAAATQZruSahBbJlMCHf//qmWAACVgAAAAAxBnwxFFSwv/wAAsoAAAAAQAZ8rdEK/AAQ4QBz+tA6WwQAAABABny1qQr8ABDbWu6yGHS2BAAAAE0GbMkmoQWyZTAh3//6plgAAlYEAAAAMQZ9QRRUsL/8AALKAAAAAEAGfb3RCvwAEOEAc/rQOlsAAAAAQAZ9xakK/AAQ21rushh0tgQAAABNBm3ZJqEFsmUwId//+qZYAAJWAAAAADEGflEUVLC//AACygAAAABABn7N0Qr8ABDhAHP60DpbBAAAAEAGftWpCvwAENta7rIYdLYAAAAATQZu6SahBbJlMCHf//qmWAACVgQAAAAxBn9hFFSwv/wAAsoEAAAAQAZ/3dEK/AAQ4QBz+tA6WwAAAABABn/lqQr8ABDbWu6yGHS2BAAAAE0Gb/kmoQWyZTAh3//6plgAAlYAAAAAMQZ4cRRUsL/8AALKBAAAAEAGeO3RCvwAEOEAc/rQOlsEAAAAQAZ49akK/AAQ21rushh0tgAAAABNBmiJJqEFsmUwId//+qZYAAJWAAAAADEGeQEUVLC//AACygQAAABABnn90Qr8ABDhAHP60DpbAAAAAEAGeYWpCvwAENta7rIYdLYEAAAATQZpmSahBbJlMCHf//qmWAACVgAAAAAxBnoRFFSwv/wAAsoEAAAAQAZ6jdEK/AAQ4QBz+tA6WwQAAABABnqVqQr8ABDbWu6yGHS2BAAAAE0GaqkmoQWyZTAh3//6plgAAlYEAAAAMQZ7IRRUsL/8AALKAAAAAEAGe53RCvwAEOEAc/rQOlsAAAAAQAZ7pakK/AAQ21rushh0tgQAAABNBmu5JqEFsmUwId//+qZYAAJWAAAAADEGfDEUVLC//AACygAAAABABnyt0Qr8ABDhAHP60DpbBAAAAEAGfLWpCvwAENta7rIYdLYEAAAATQZsySahBbJlMCHf//qmWAACVgQAAAAxBn1BFFSwv/wAAsoAAAAAQAZ9vdEK/AAQ4QBz+tA6WwAAAABABn3FqQr8ABDbWu6yGHS2BAAAAE0GbdkmoQWyZTAh3//6plgAAlYAAAAAMQZ+URRUsL/8AALKAAAAAEAGfs3RCvwAEOEAc/rQOlsEAAAAQAZ+1akK/AAQ21rushh0tgAAAABNBm7pJqEFsmUwId//+qZYAAJWBAAAADEGf2EUVLC//AACygQAAABABn/d0Qr8ABDhAHP60DpbAAAAAEAGf+WpCvwAENta7rIYdLYEAAAATQZv+SahBbJlMCHf//qmWAACVgAAAAAxBnhxFFSwv/wAAsoEAAAAQAZ47dEK/AAQ4QBz+tA6WwQAAABABnj1qQr8ABDbWu6yGHS2AAAAAE0GaIkmoQWyZTAh3//6plgAAlYAAAAAMQZ5ARRUsL/8AALKBAAAAEAGef3RCvwAEOEAc/rQOlsAAAAAQAZ5hakK/AAQ21rushh0tgQAAABNBmmZJqEFsmUwId//+qZYAAJWAAAAADEGehEUVLC//AACygQAAABABnqN0Qr8ABDhAHP60DpbBAAAAEAGepWpCvwAENta7rIYdLYEAAAATQZqqSahBbJlMCHf//qmWAACVgQAAAAxBnshFFSwv/wAAsoAAAAAQAZ7ndEK/AAQ4QBz+tA6WwAAAABABnulqQr8ABDbWu6yGHS2BAAAAE0Ga7kmoQWyZTAh3//6plgAAlYAAAAAMQZ8MRRUsL/8AALKAAAAAEAGfK3RCvwAEOEAc/rQOlsEAAAAQAZ8takK/AAQ21rushh0tgQAAABNBmzJJqEFsmUwId//+qZYAAJWBAAAADEGfUEUVLC//AACygAAAABABn290Qr8ABDhAHP60DpbAAAAAEAGfcWpCvwAENta7rIYdLYEAAAATQZt2SahBbJlMCHf//qmWAACVgAAAAAxBn5RFFSwv/wAAsoAAAAAQAZ+zdEK/AAQ4QBz+tA6WwQAAABABn7VqQr8ABDbWu6yGHS2AAAAAE0GbukmoQWyZTAh3//6plgAAlYEAAAAMQZ/YRRUsL/8AALKBAAAAEAGf93RCvwAEOEAc/rQOlsAAAAAQAZ/5akK/AAQ21rushh0tgQAAABNBm/5JqEFsmUwId//+qZYAAJWAAAAADEGeHEUVLC//AACygQAAABABnjt0Qr8ABDhAHP60DpbBAAAAEAGePWpCvwAENta7rIYdLYAAAAATQZoiSahBbJlMCHf//qmWAACVgAAAAAxBnkBFFSwv/wAAsoEAAAAQAZ5/dEK/AAQ4QBz+tA6WwAAAABABnmFqQr8ABDbWu6yGHS2BAAAAE0GaZkmoQWyZTAh3//6plgAAlYAAAAAMQZ6ERRUsL/8AALKBAAAAEAGeo3RCvwAEOEAc/rQOlsEAAAAQAZ6lakK/AAQ21rushh0tgQAAABNBmqpJqEFsmUwId//+qZYAAJWBAAAADEGeyEUVLC//AACygAAAABABnud0Qr8ABDhAHP60DpbAAAAAEAGe6WpCvwAENta7rIYdLYEAAAATQZruSahBbJlMCHf//qmWAACVgAAAAAxBnwxFFSwv/wAAsoAAAAAQAZ8rdEK/AAQ4QBz+tA6WwQAAABABny1qQr8ABDbWu6yGHS2BAAAAE0GbMkmoQWyZTAh3//6plgAAlYEAAAAMQZ9QRRUsL/8AALKAAAAAEAGfb3RCvwAEOEAc/rQOlsAAAAAQAZ9xakK/AAQ21rushh0tgQAAABNBm3ZJqEFsmUwId//+qZYAAJWAAAAADEGflEUVLC//AACygAAAABABn7N0Qr8ABDhAHP60DpbBAAAAEAGftWpCvwAENta7rIYdLYAAAAATQZu6SahBbJlMCHf//qmWAACVgQAAAAxBn9hFFSwv/wAAsoEAAAAQAZ/3dEK/AAQ4QBz+tA6WwAAAABABn/lqQr8ABDbWu6yGHS2BAAAAE0Gb/kmoQWyZTAh3//6plgAAlYAAAAAMQZ4cRRUsL/8AALKBAAAAEAGeO3RCvwAEOEAc/rQOlsEAAAAQAZ49akK/AAQ21rushh0tgAAAABNBmiJJqEFsmUwId//+qZYAAJWAAAAADEGeQEUVLC//AACygQAAABABnn90Qr8ABDhAHP60DpbAAAAAEAGeYWpCvwAENta7rIYdLYEAAAATQZpmSahBbJlMCHf//qmWAACVgAAAAAxBnoRFFSwv/wAAsoEAAAAQAZ6jdEK/AAQ4QBz+tA6WwQAAABABnqVqQr8ABDbWu6yGHS2BAAAAE0GaqkmoQWyZTAh3//6plgAAlYEAAAAMQZ7IRRUsL/8AALKAAAAAEAGe53RCvwAEOEAc/rQOlsAAAAAQAZ7pakK/AAQ21rushh0tgQAAABNBmu5JqEFsmUwId//+qZYAAJWAAAAADEGfDEUVLC//AACygAAAABABnyt0Qr8ABDhAHP60DpbBAAAAEAGfLWpCvwAENta7rIYdLYEAAAATQZsySahBbJlMCHf//qmWAACVgQAAAAxBn1BFFSwv/wAAsoAAAAAQAZ9vdEK/AAQ4QBz+tA6WwAAAABABn3FqQr8ABDbWu6yGHS2BAAAAE0GbdkmoQWyZTAh3//6plgAAlYAAAAAMQZ+URRUsL/8AALKAAAAAEAGfs3RCvwAEOEAc/rQOlsEAAAAQAZ+1akK/AAQ21rushh0tgAAAABNBm7pJqEFsmUwId//+qZYAAJWBAAAADEGf2EUVLC//AACygQAAABABn/d0Qr8ABDhAHP60DpbAAAAAEAGf+WpCvwAENta7rIYdLYEAAAATQZv+SahBbJlMCHf//qmWAACVgAAAAAxBnhxFFSwv/wAAsoEAAAAQAZ47dEK/AAQ4QBz+tA6WwQAAABABnj1qQr8ABDbWu6yGHS2AAAAAE0GaIkmoQWyZTAh3//6plgAAlYAAAAAMQZ5ARRUsL/8AALKBAAAAEAGef3RCvwAEOEAc/rQOlsAAAAAQAZ5hakK/AAQ21rushh0tgQAAABNBmmZJqEFsmUwId//+qZYAAJWAAAAADEGehEUVLC//AACygQAAABABnqN0Qr8ABDhAHP60DpbBAAAAEAGepWpCvwAENta7rIYdLYEAAAATQZqqSahBbJlMCHf//qmWAACVgQAAAAxBnshFFSwv/wAAsoAAAAAQAZ7ndEK/AAQ4QBz+tA6WwAAAABABnulqQr8ABDbWu6yGHS2BAAAAE0Ga7kmoQWyZTAh3//6plgAAlYAAAAAMQZ8MRRUsL/8AALKAAAAAEAGfK3RCvwAEOEAc/rQOlsEAAAAQAZ8takK/AAQ21rushh0tgQAAABNBmzJJqEFsmUwId//+qZYAAJWBAAAADEGfUEUVLC//AACygAAAABABn290Qr8ABDhAHP60DpbAAAAAEAGfcWpCvwAENta7rIYdLYEAAAATQZt2SahBbJlMCHf//qmWAACVgAAAAAxBn5RFFSwv/wAAsoAAAAAQAZ+zdEK/AAQ4QBz+tA6WwQAAABABn7VqQr8ABDbWu6yGHS2AAAAAE0GbukmoQWyZTAh3//6plgAAlYEAAAAMQZ/YRRUsL/8AALKBAAAAEAGf93RCvwAEOEAc/rQOlsAAAAAQAZ/5akK/AAQ21rushh0tgQAAABNBm/5JqEFsmUwId//+qZYAAJWAAAAADEGeHEUVLC//AACygQAAABABnjt0Qr8ABDhAHP60DpbBAAAAEAGePWpCvwAENta7rIYdLYAAAAASQZoiSahBbJlMCG///qeEAAEnAAAADEGeQEUVLC//AACygQAAABABnn90Qr8ABDhAHP60DpbAAAAAEAGeYWpCvwAENta7rIYdLYEAAAASQZpmSahBbJlMCGf//p4QAAR8AAAADEGehEUVLC//AACygQAAABABnqN0Qr8ABDhAHP60DpbBAAAAEAGepWpCvwAENta7rIYdLYEAAAAaQZqpS6hCEFskRggoB/IB/YeAIV/+OEAAEXEAAAAnQZ7HRRUsK/8Cr2PtQcTdqsNJJuWqhgcstbvNKiCaLJ7Gh4AxJ9hHAAAAIwGe6GpCvwKvY+1BxN2qw0km5aqGByy1u80qIJosnvGhR0HAAAAMcG1vb3YAAABsbXZoZAAAAAAAAAAAAAAAAAAAA+gAAB+QAAEAAAEAAAAAAAAAAAAAAAABAAAAAAAAAAAAAAAAAAAAAQAAAAAAAAAAAAAAAAAAQAAAAAAAAAAAAAAAAAAAAAAAAAAAAAAAAAAAAAAAAAIAAAuadHJhawAAAFx0a2hkAAAAAwAAAAAAAAAAAAAAAQAAAAAAAB+QAAAAAAAAAAAAAAAAAAAAAAABAAAAAAAAAAAAAAAAAAAAAQAAAAAAAAAAAAAAAAAAQAAAAAEQAAABEAAAAAAAJGVkdHMAAAAcZWxzdAAAAAAAAAABAAAfkAAABAAAAQAAAAALEm1kaWEAAAAgbWRoZAAAAAAAAAAAAAAAAAAAMgAAAZQAVcQAAAAAAC1oZGxyAAAAAAAAAAB2aWRlAAAAAAAAAAAAAAAAVmlkZW9IYW5kbGVyAAAACr1taW5mAAAAFHZtaGQAAAABAAAAAAAAAAAAAAAkZGluZgAAABxkcmVmAAAAAAAAAAEAAAAMdXJsIAAAAAEAAAp9c3RibAAAAJVzdHNkAAAAAAAAAAEAAACFYXZjMQAAAAAAAAABAAAAAAAAAAAAAAAAAAAAAAEQARAASAAAAEgAAAAAAAAAAQAAAAAAAAAAAAAAAAAAAAAAAAAAAAAAAAAAAAAAAAAAABj//wAAAC9hdmNDAfQADf/hABdn9AANkZsoIhHQgAAAAwCAAAAZB4oUywEABWjr48RIAAAAGHN0dHMAAAAAAAAAAQAAAMoAAAIAAAAAFHN0c3MAAAAAAAAAAQAAAAEAAAZIY3R0cwAAAAAAAADHAAAAAwAABAAAAAABAAAKAAAAAAEAAAQAAAAAAQAAAAAAAAABAAACAAAAAAEAAAoAAAAAAQAABAAAAAABAAAAAAAAAAEAAAIAAAAAAQAACgAAAAABAAAEAAAAAAEAAAAAAAAAAQAAAgAAAAABAAAKAAAAAAEAAAQAAAAAAQAAAAAAAAABAAACAAAAAAEAAAoAAAAAAQAABAAAAAABAAAAAAAAAAEAAAIAAAAAAQAACgAAAAABAAAEAAAAAAEAAAAAAAAAAQAAAgAAAAABAAAKAAAAAAEAAAQAAAAAAQAAAAAAAAABAAACAAAAAAEAAAoAAAAAAQAABAAAAAABAAAAAAAAAAEAAAIAAAAAAQAACgAAAAABAAAEAAAAAAEAAAAAAAAAAQAAAgAAAAABAAAKAAAAAAEAAAQAAAAAAQAAAAAAAAABAAACAAAAAAEAAAoAAAAAAQAABAAAAAABAAAAAAAAAAEAAAIAAAAAAQAACgAAAAABAAAEAAAAAAEAAAAAAAAAAQAAAgAAAAABAAAKAAAAAAEAAAQAAAAAAQAAAAAAAAABAAACAAAAAAEAAAoAAAAAAQAABAAAAAABAAAAAAAAAAEAAAIAAAAAAQAACgAAAAABAAAEAAAAAAEAAAAAAAAAAQAAAgAAAAABAAAKAAAAAAEAAAQAAAAAAQAAAAAAAAABAAACAAAAAAEAAAoAAAAAAQAABAAAAAABAAAAAAAAAAEAAAIAAAAAAQAACgAAAAABAAAEAAAAAAEAAAAAAAAAAQAAAgAAAAABAAAKAAAAAAEAAAQAAAAAAQAAAAAAAAABAAACAAAAAAEAAAoAAAAAAQAABAAAAAABAAAAAAAAAAEAAAIAAAAAAQAACgAAAAABAAAEAAAAAAEAAAAAAAAAAQAAAgAAAAABAAAKAAAAAAEAAAQAAAAAAQAAAAAAAAABAAACAAAAAAEAAAoAAAAAAQAABAAAAAABAAAAAAAAAAEAAAIAAAAAAQAACgAAAAABAAAEAAAAAAEAAAAAAAAAAQAAAgAAAAABAAAKAAAAAAEAAAQAAAAAAQAAAAAAAAABAAACAAAAAAEAAAoAAAAAAQAABAAAAAABAAAAAAAAAAEAAAIAAAAAAQAACgAAAAABAAAEAAAAAAEAAAAAAAAAAQAAAgAAAAABAAAKAAAAAAEAAAQAAAAAAQAAAAAAAAABAAACAAAAAAEAAAoAAAAAAQAABAAAAAABAAAAAAAAAAEAAAIAAAAAAQAACgAAAAABAAAEAAAAAAEAAAAAAAAAAQAAAgAAAAABAAAKAAAAAAEAAAQAAAAAAQAAAAAAAAABAAACAAAAAAEAAAoAAAAAAQAABAAAAAABAAAAAAAAAAEAAAIAAAAAAQAACgAAAAABAAAEAAAAAAEAAAAAAAAAAQAAAgAAAAABAAAKAAAAAAEAAAQAAAAAAQAAAAAAAAABAAACAAAAAAEAAAoAAAAAAQAABAAAAAABAAAAAAAAAAEAAAIAAAAAAQAACgAAAAABAAAEAAAAAAEAAAAAAAAAAQAAAgAAAAABAAAKAAAAAAEAAAQAAAAAAQAAAAAAAAABAAACAAAAAAEAAAoAAAAAAQAABAAAAAABAAAAAAAAAAEAAAIAAAAAAQAACgAAAAABAAAEAAAAAAEAAAAAAAAAAQAAAgAAAAABAAAKAAAAAAEAAAQAAAAAAQAAAAAAAAABAAACAAAAAAEAAAoAAAAAAQAABAAAAAABAAAAAAAAAAEAAAIAAAAAAQAACgAAAAABAAAEAAAAAAEAAAAAAAAAAQAAAgAAAAABAAAKAAAAAAEAAAQAAAAAAQAAAAAAAAABAAACAAAAAAEAAAoAAAAAAQAABAAAAAABAAAAAAAAAAEAAAIAAAAAAQAACgAAAAABAAAEAAAAAAEAAAAAAAAAAQAAAgAAAAABAAAKAAAAAAEAAAQAAAAAAQAAAAAAAAABAAACAAAAAAEAAAoAAAAAAQAABAAAAAABAAAAAAAAAAEAAAIAAAAAAQAACgAAAAABAAAEAAAAAAEAAAAAAAAAAQAAAgAAAAABAAAKAAAAAAEAAAQAAAAAAQAAAAAAAAABAAACAAAAAAEAAAgAAAAAAgAAAgAAAAAcc3RzYwAAAAAAAAABAAAAAQAAAMoAAAABAAADPHN0c3oAAAAAAAAAAAAAAMoAAAXSAAAAGAAAABwAAAAgAAAAFAAAABQAAAATAAAAFwAAABAAAAAUAAAAFAAAABcAAAAQAAAAFAAAABQAAAAXAAAAEAAAABQAAAAUAAAAFwAAABAAAAAUAAAAFAAAABcAAAAQAAAAFAAAABQAAAAXAAAAEAAAABQAAAAUAAAAFwAAABAAAAAUAAAAFAAAABcAAAAQAAAAFAAAABQAAAAXAAAAEAAAABQAAAAUAAAAFwAAABAAAAAUAAAAFAAAABcAAAAQAAAAFAAAABQAAAAXAAAAEAAAABQAAAAUAAAAFwAAABAAAAAUAAAAFAAAABcAAAAQAAAAFAAAABQAAAAXAAAAEAAAABQAAAAUAAAAFwAAABAAAAAUAAAAFAAAABcAAAAQAAAAFAAAABQAAAAXAAAAEAAAABQAAAAUAAAAFwAAABAAAAAUAAAAFAAAABcAAAAQAAAAFAAAABQAAAAXAAAAEAAAABQAAAAUAAAAFwAAABAAAAAUAAAAFAAAABcAAAAQAAAAFAAAABQAAAAXAAAAEAAAABQAAAAUAAAAFwAAABAAAAAUAAAAFAAAABcAAAAQAAAAFAAAABQAAAAXAAAAEAAAABQAAAAUAAAAFwAAABAAAAAUAAAAFAAAABcAAAAQAAAAFAAAABQAAAAXAAAAEAAAABQAAAAUAAAAFwAAABAAAAAUAAAAFAAAABcAAAAQAAAAFAAAABQAAAAXAAAAEAAAABQAAAAUAAAAFwAAABAAAAAUAAAAFAAAABcAAAAQAAAAFAAAABQAAAAXAAAAEAAAABQAAAAUAAAAFwAAABAAAAAUAAAAFAAAABcAAAAQAAAAFAAAABQAAAAXAAAAEAAAABQAAAAUAAAAFwAAABAAAAAUAAAAFAAAABcAAAAQAAAAFAAAABQAAAAXAAAAEAAAABQAAAAUAAAAFwAAABAAAAAUAAAAFAAAABcAAAAQAAAAFAAAABQAAAAXAAAAEAAAABQAAAAUAAAAFwAAABAAAAAUAAAAFAAAABYAAAAQAAAAFAAAABQAAAAWAAAAEAAAABQAAAAUAAAAHgAAACsAAAAnAAAAFHN0Y28AAAAAAAAAAQAAADAAAABidWR0YQAAAFptZXRhAAAAAAAAACFoZGxyAAAAAAAAAABtZGlyYXBwbAAAAAAAAAAAAAAAAC1pbHN0AAAAJal0b28AAAAdZGF0YQAAAAEAAAAATGF2ZjU4LjIwLjEwMA==\" type=\"video/mp4\" />\n",
       "             </video>"
      ],
      "text/plain": [
       "<IPython.core.display.HTML object>"
      ]
     },
     "execution_count": 50,
     "metadata": {},
     "output_type": "execute_result"
    }
   ],
   "source": [
    "HTML(display_videos('cnn_test0.mp4'))"
   ]
  },
  {
   "cell_type": "code",
   "execution_count": 38,
   "metadata": {},
   "outputs": [
    {
     "data": {
      "text/html": [
       "<video alt=\"test\" controls>\n",
       "                <source src=\"data:video/mp4;base64,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\" type=\"video/mp4\" />\n",
       "             </video>"
      ],
      "text/plain": [
       "<IPython.core.display.HTML object>"
      ]
     },
     "execution_count": 38,
     "metadata": {},
     "output_type": "execute_result"
    }
   ],
   "source": [
    "HTML(display_videos('fc_test0.mp4'))"
   ]
  },
  {
   "cell_type": "markdown",
   "metadata": {},
   "source": []
  },
  {
   "cell_type": "markdown",
   "metadata": {},
   "source": [
    "***\n",
    "\n",
    "The algorithm tends to not explore the map which can be an issue. We propose two ideas in order to encourage exploration:\n",
    "1. Incorporating a decreasing $\\epsilon$-greedy exploration. You can use the method ```set_epsilon```\n",
    "2. Append via the environment a new state that describes if a cell has been visited or not\n",
    "\n",
    "***\n",
    "__Question 10__ Design a new ```train_explore``` function and environment class ```EnvironmentExploring``` to tackle the issue of exploration.\n",
    "\n"
   ]
  },
  {
   "cell_type": "code",
   "execution_count": null,
   "metadata": {
    "collapsed": true
   },
   "outputs": [],
   "source": [
    "def train_explore(agent,env,epoch,prefix='',eps_ratio=0.9):\n",
    "    # Number of won games\n",
    "    score = 0\n",
    "    loss = 0\n",
    "\n",
    "    for e in range(epoch):\n",
    "        # At each epoch, we restart to a fresh game and get the initial state\n",
    "        state = env.reset()\n",
    "        # This assumes that the games will terminate\n",
    "        game_over = False\n",
    "\n",
    "        win = 0\n",
    "        lose = 0\n",
    "\n",
    "        while not game_over:\n",
    "            # The agent performs an action\n",
    "            action = agent.act(state)\n",
    "\n",
    "            # Apply an action to the environment, get the next state, the reward\n",
    "            # and if the games end\n",
    "            prev_state = state\n",
    "            state, reward, game_over = env.act(action, train=True)\n",
    "\n",
    "            # Update the counters\n",
    "            if reward > 0:\n",
    "                win = win + reward\n",
    "            if reward < 0:\n",
    "                lose = lose -reward\n",
    "\n",
    "            # Apply the reinforcement strategy\n",
    "            loss = agent.reinforce(prev_state, state,  action, reward, game_over)\n",
    "\n",
    "        # Save as a mp4\n",
    "        if e % 10 == 0:\n",
    "            env.draw(prefix+str(e))\n",
    "\n",
    "        # Update stats\n",
    "        score += win-lose\n",
    "        \n",
    "        # Decrease epsilon\n",
    "        agent.set_epsilon(agent.epsilon * eps_ratio)\n",
    "\n",
    "        print(\"Epoch {:03d}/{:03d} | Loss {:.4f} | Win/lose count {}/{} ({})\"\n",
    "              .format(e, epoch, loss, win, lose, win-lose))\n",
    "        agent.save(name_weights=prefix+'model.h5',name_model=prefix+'model.json')\n",
    "        \n",
    "class EnvironmentExploring(Environment):\n",
    "    def __init__(self, grid_size=10, max_time=500, temperature=0.1):\n",
    "        super(EnvironmentExploring, self).__init__(grid_size=grid_size, max_time=max_time, temperature=temperature)\n",
    "        self.malus_position = np.zeros((grid_size, grid_size))\n",
    "    \n",
    "    def act(self, action, train=False):\n",
    "        \"\"\"This function returns the new state, reward and decides if the\n",
    "        game ends.\"\"\"\n",
    "\n",
    "        self.get_frame(int(self.t))\n",
    "\n",
    "        self.position = np.zeros((self.grid_size, self.grid_size))\n",
    "\n",
    "        self.position[0:2,:]= -1\n",
    "        self.position[:,0:2] = -1\n",
    "        self.position[-2:, :] = -1\n",
    "        self.position[-2:, :] = -1\n",
    "\n",
    "        self.position[self.x, self.y] = 1\n",
    "        if action == 0:\n",
    "            if self.x == self.grid_size-3:\n",
    "                self.x = self.x-1\n",
    "            else:\n",
    "                self.x = self.x + 1\n",
    "        elif action == 1:\n",
    "            if self.x == 2:\n",
    "                self.x = self.x+1\n",
    "            else:\n",
    "                self.x = self.x-1\n",
    "        elif action == 2:\n",
    "            if self.y == self.grid_size - 3:\n",
    "                self.y = self.y - 1\n",
    "            else:\n",
    "                self.y = self.y + 1\n",
    "        elif action == 3:\n",
    "            if self.y == 2:\n",
    "                self.y = self.y + 1\n",
    "            else:\n",
    "                self.y = self.y - 1\n",
    "        else:\n",
    "            RuntimeError('Error: action not recognized')\n",
    "\n",
    "        self.t = self.t + 1\n",
    "        reward = 0\n",
    "        if train:\n",
    "            reward = -self.malus_position[self.x, self.y]\n",
    "        self.malus_position[self.x, self.y] = 0.1\n",
    "\n",
    "        reward = reward + self.board[self.x, self.y]\n",
    "\n",
    "        self.board[self.x, self.y] = 0\n",
    "        game_over = self.t > self.max_time\n",
    "        state = np.concatenate((self.board.reshape(self.grid_size, self.grid_size,1),\n",
    "                        self.position.reshape(self.grid_size, self.grid_size,1)),axis=2)\n",
    "        state = state[self.x-2:self.x+3,self.y-2:self.y+3,:]\n",
    "\n",
    "        return state, reward, game_over\n",
    "    \n",
    "    def reset(self):\n",
    "        \"\"\"This function resets the game and returns the initial state\"\"\"\n",
    "\n",
    "        self.x = np.random.randint(3, self.grid_size-3, size=1)[0]\n",
    "        self.y = np.random.randint(3, self.grid_size-3, size=1)[0]\n",
    "\n",
    "\n",
    "        bonus = 0.5*np.random.binomial(1,self.temperature,size=self.grid_size**2)\n",
    "        bonus = bonus.reshape(self.grid_size,self.grid_size)\n",
    "\n",
    "        malus = -1.0*np.random.binomial(1,self.temperature,size=self.grid_size**2)\n",
    "        malus = malus.reshape(self.grid_size, self.grid_size)\n",
    "\n",
    "        self.to_draw = np.zeros((self.max_time+2, self.grid_size*self.scale, self.grid_size*self.scale, 3))\n",
    "\n",
    "\n",
    "        malus[bonus>0]=0\n",
    "\n",
    "        self.board = bonus + malus\n",
    "\n",
    "        self.position = np.zeros((self.grid_size, self.grid_size))\n",
    "        self.position[0:2,:]= -1\n",
    "        self.position[:,0:2] = -1\n",
    "        self.position[-2:, :] = -1\n",
    "        self.position[-2:, :] = -1\n",
    "        self.board[self.x,self.y] = 0\n",
    "        self.t = 0\n",
    "\n",
    "        state = np.concatenate((self.malus_position.reshape(self.grid_size, self.grid_size,1),\n",
    "                                self.board.reshape(self.grid_size, self.grid_size,1),\n",
    "                        self.position.reshape(self.grid_size, self.grid_size,1)),axis=2)\n",
    "        \n",
    "        state = state[self.x - 2:self.x + 3, self.y - 2:self.y + 3, :]\n",
    "        return state\n",
    "    \n",
    "## use those samples of code:\n",
    "#In train explore:\n",
    "state, reward, game_over = env.act(action, train=True)\n",
    "\n",
    "## In Environment exploring:\n",
    "# You will have to change n_state to 3 because you will use one more layer!\n",
    "reward = 0\n",
    "if train:\n",
    "    reward = -self.malus_position[self.x, self.y]\n",
    "self.malus_position[self.x, self.y] = 0.1\n",
    "\n",
    "reward = reward + self.board[self.x, self.y]\n",
    "# 3 \"feature\" states instead of 2\n",
    "state = np.concatenate((self.malus_position.reshape(self.grid_size, self.grid_size,1),\n",
    "                                self.board.reshape(self.grid_size, self.grid_size,1),\n",
    "                        self.position.reshape(self.grid_size, self.grid_size,1)),axis=2)"
   ]
  },
  {
   "cell_type": "code",
   "execution_count": null,
   "metadata": {
    "collapsed": true
   },
   "outputs": [],
   "source": [
    "# Training\n",
    "env = EnvironmentExploring(grid_size=size, max_time=T, temperature=0.3)\n",
    "agent = DQN_CNN(size, lr=.1, epsilon = 0.1, memory_size=2000, batch_size = 32,n_state=3)\n",
    "train_explore(agent, env, epochs_train, prefix='cnn_train_explore')\n",
    "HTML(display_videos('cnn_train_explore10.mp4'))"
   ]
  },
  {
   "cell_type": "code",
   "execution_count": null,
   "metadata": {
    "collapsed": true
   },
   "outputs": [],
   "source": [
    "# Evaluation\n",
    "test(agent,env,epochs_test,prefix='cnn_test_explore')\n",
    "HTML(display_videos('cnn_test_explore10.mp4'))"
   ]
  },
  {
   "cell_type": "markdown",
   "metadata": {},
   "source": [
    "***\n",
    "***\n",
    "__BONUS question__ Use the expert DQN from the previous question to generate some winning games. Train a model that mimicks its behavior. Compare the performances."
   ]
  },
  {
   "cell_type": "markdown",
   "metadata": {},
   "source": []
  },
  {
   "cell_type": "markdown",
   "metadata": {},
   "source": [
    "***"
   ]
  }
 ],
 "metadata": {
  "kernelspec": {
   "display_name": "Python 3",
   "language": "python",
   "name": "python3"
  },
  "language_info": {
   "codemirror_mode": {
    "name": "ipython",
    "version": 3
   },
   "file_extension": ".py",
   "mimetype": "text/x-python",
   "name": "python",
   "nbconvert_exporter": "python",
   "pygments_lexer": "ipython3",
   "version": "3.6.2"
  }
 },
 "nbformat": 4,
 "nbformat_minor": 2
}
