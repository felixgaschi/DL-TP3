{
 "cells": [
  {
   "cell_type": "markdown",
   "metadata": {},
   "source": [
    "**You may need to install [OpenCV](https://pypi.python.org/pypi/opencv-python) and [scikit-video](http://www.scikit-video.org/stable/).**"
   ]
  },
  {
   "cell_type": "code",
   "execution_count": 1,
   "metadata": {},
   "outputs": [
    {
     "name": "stderr",
     "output_type": "stream",
     "text": [
      "/Users/felixgaschi/anaconda3/lib/python3.6/site-packages/h5py/__init__.py:34: FutureWarning: Conversion of the second argument of issubdtype from `float` to `np.floating` is deprecated. In future, it will be treated as `np.float64 == np.dtype(float).type`.\n",
      "  from ._conv import register_converters as _register_converters\n",
      "Using TensorFlow backend.\n"
     ]
    }
   ],
   "source": [
    "import keras\n",
    "import numpy as np\n",
    "import io\n",
    "import base64\n",
    "from IPython.display import HTML\n",
    "import skvideo.io\n",
    "import cv2\n",
    "import json\n",
    "\n",
    "from keras.models import Sequential,model_from_json\n",
    "from keras.layers.core import Dense\n",
    "from keras.optimizers import sgd\n",
    "from keras.layers import Conv2D, MaxPooling2D, Activation, AveragePooling2D,Reshape,BatchNormalization, Flatten, Dropout"
   ]
  },
  {
   "cell_type": "markdown",
   "metadata": {},
   "source": [
    "# MiniProject #3: Deep Reinforcement Learning"
   ]
  },
  {
   "cell_type": "markdown",
   "metadata": {},
   "source": [
    "__Notations__: $E_p$ is the expectation under probability $p$. Please justify each of your answer and widely comment your code."
   ]
  },
  {
   "cell_type": "markdown",
   "metadata": {},
   "source": [
    "# Context"
   ]
  },
  {
   "cell_type": "markdown",
   "metadata": {},
   "source": [
    "In a reinforcement learning algorithm, we modelize each step $t$ as an action $a_t$ obtained from a state $s_t$, i.e. $\\{(a_{t},s_{t})_{t\\leq T}\\}$ having the Markov property. We consider a discount factor $\\gamma \\in [0,1]$ that ensures convergence. The goal is to find among all the policies $\\pi$, one that maximizes the expected reward:\n",
    "\n",
    "\\begin{equation*}\n",
    "R(\\pi)=\\sum_{t\\leq T}E_{p^{\\pi}}[\\gamma^t r(s_{t},a_{t})] \\> ,\n",
    "\\end{equation*}\n",
    "\n",
    "where: \n",
    "\\begin{equation*}p^{\\pi}(a_{0},a_{1},s_{1},...,a_{T},s_{T})=p(a_{0})\\prod_{t=1}^{T}\\pi(a_{t}|s_{t})p(s_{t+1}|s_{t},a_{t}) \\> .\n",
    "\\end{equation*}\n",
    "\n",
    "We note the $Q$-function:\n",
    "\n",
    "\\begin{equation*}Q^\\pi(s,a)=E_{p^{\\pi}}[\\sum_{t\\leq T}\\gamma^{t}r(s_{t},a_{t})|s_{0}=s,a_{0}=a] \\> .\n",
    "\\end{equation*}\n",
    "\n",
    "Thus, the optimal Q function is:\n",
    "\\begin{equation*}\n",
    "Q^*(s,a)=\\max_{\\pi}Q^\\pi(s,a) \\> .\n",
    "\\end{equation*}\n",
    "\n",
    "In this project, we will apply the deep reinforcement learning techniques to a simple game: an agent will have to learn from scratch a policy that will permit it maximizing a reward."
   ]
  },
  {
   "cell_type": "markdown",
   "metadata": {},
   "source": [
    "## The environment, the agent and the game"
   ]
  },
  {
   "cell_type": "markdown",
   "metadata": {},
   "source": [
    "### The environment"
   ]
  },
  {
   "cell_type": "markdown",
   "metadata": {},
   "source": [
    "```Environment``` is an abstract class that represents the states, rewards, and actions to obtain the new state."
   ]
  },
  {
   "cell_type": "code",
   "execution_count": 2,
   "metadata": {
    "collapsed": true
   },
   "outputs": [],
   "source": [
    "class Environment(object):\n",
    "    def __init__(self):\n",
    "        pass\n",
    "\n",
    "    def act(self, act):\n",
    "        \"\"\"\n",
    "        One can act on the environment and obtain its reaction:\n",
    "        - the new state\n",
    "        - the reward of the new state\n",
    "        - should we continue the game?\n",
    "\n",
    "        :return: state, reward, game_over\n",
    "        \"\"\"\n",
    "        pass\n",
    "\n",
    "\n",
    "    def reset(self):\n",
    "        \"\"\"\n",
    "        Reinitialize the environment to a random state and returns\n",
    "        the original state\n",
    "\n",
    "        :return: state\n",
    "        \"\"\"\n",
    "        pass\n",
    "    \n",
    "    def draw(self):\n",
    "        \"\"\"\n",
    "        Visualize in the console or graphically the current state\n",
    "        \"\"\"\n",
    "        pass"
   ]
  },
  {
   "cell_type": "markdown",
   "metadata": {},
   "source": [
    "The method ```act``` allows to act on the environment at a given state $s_t$ (stored internally), via action $a_t$. The method will return the new state $s_{t+1}$, the reward $r(s_{t},a_{t})$ and determines if $t\\leq T$ (*game_over*).\n",
    "\n",
    "The method ```reset``` simply reinitializes the environment to a random state $s_0$.\n",
    "\n",
    "The method ```draw``` displays the current state $s_t$ (this is useful to check the behavior of the Agent).\n",
    "\n",
    "We modelize $s_t$ as a tensor, while $a_t$ is an integer."
   ]
  },
  {
   "cell_type": "markdown",
   "metadata": {},
   "source": [
    "### The Agent"
   ]
  },
  {
   "cell_type": "markdown",
   "metadata": {},
   "source": [
    "The goal of the ```Agent``` is to interact with the ```Environment``` by proposing actions $a_t$ obtained from a given state $s_t$ to attempt to maximize its __reward__ $r(s_t,a_t)$. We propose the following abstract class:"
   ]
  },
  {
   "cell_type": "code",
   "execution_count": 3,
   "metadata": {
    "collapsed": true
   },
   "outputs": [],
   "source": [
    "class Agent(object):\n",
    "    def __init__(self, epsilon=0.1, n_action=4):\n",
    "        self.epsilon = epsilon\n",
    "        self.n_action = n_action\n",
    "    \n",
    "    def set_epsilon(self,e):\n",
    "        self.epsilon = e\n",
    "\n",
    "    def act(self,s,train=True):\n",
    "        \"\"\" This function should return the next action to do:\n",
    "        an integer between 0 and 4 (not included) with a random exploration of epsilon\"\"\"\n",
    "        if train:\n",
    "            if np.random.rand() <= self.epsilon:\n",
    "                a = np.random.randint(0, self.n_action, size=1)[0]\n",
    "            else:\n",
    "                a = self.learned_act(s)\n",
    "        else: # in some cases, this can improve the performance.. remove it if poor performances\n",
    "            a = self.learned_act(s)\n",
    "\n",
    "        return a\n",
    "\n",
    "    def learned_act(self,s):\n",
    "        \"\"\" Act via the policy of the agent, from a given state s\n",
    "        it proposes an action a\"\"\"\n",
    "        pass\n",
    "\n",
    "    def reinforce(self, s, n_s, a, r, game_over_):\n",
    "        \"\"\" This function is the core of the learning algorithm. \n",
    "        It takes as an input the current state s_, the next state n_s_\n",
    "        the action a_ used to move from s_ to n_s_ and the reward r_.\n",
    "        \n",
    "        Its goal is to learn a policy.\n",
    "        \"\"\"\n",
    "        pass\n",
    "\n",
    "    def save(self):\n",
    "        \"\"\" This function returns basic stats if applicable: the\n",
    "        loss and/or the model\"\"\"\n",
    "        pass\n",
    "\n",
    "    def load(self):\n",
    "        \"\"\" This function allows to restore a model\"\"\"\n",
    "        pass"
   ]
  },
  {
   "cell_type": "markdown",
   "metadata": {},
   "source": [
    "***\n",
    "__Question 1__:\n",
    "Explain the function act. Why is ```epsilon``` essential?"
   ]
  },
  {
   "cell_type": "markdown",
   "metadata": {},
   "source": [
    "> ```epsilon``` is the trade-off between exploration and exploitation. If we don't explore, we cannot find the policy giving the best reward. But if we don't exploit the best policy already found, we are not taking advantage of it."
   ]
  },
  {
   "cell_type": "markdown",
   "metadata": {},
   "source": [
    "***\n",
    "### The Game"
   ]
  },
  {
   "cell_type": "markdown",
   "metadata": {},
   "source": [
    "The ```Agent``` and the ```Environment``` work in an interlaced way as in the following (take some time to understand this code as it is the core of the project)\n",
    "\n",
    "```python\n",
    "\n",
    "epoch = 300\n",
    "env = Environment()\n",
    "agent = Agent()\n",
    "\n",
    "\n",
    "# Number of won games\n",
    "score = 0\n",
    "loss = 0\n",
    "\n",
    "\n",
    "for e in range(epoch):\n",
    "    # At each epoch, we restart to a fresh game and get the initial state\n",
    "    state = env.reset()\n",
    "    # This assumes that the games will end\n",
    "    game_over = False\n",
    "\n",
    "    win = 0\n",
    "    lose = 0\n",
    "    \n",
    "    while not game_over:\n",
    "        # The agent performs an action\n",
    "        action = agent.act(state)\n",
    "\n",
    "        # Apply an action to the environment, get the next state, the reward\n",
    "        # and if the games end\n",
    "        prev_state = state\n",
    "        state, reward, game_over = env.act(action)\n",
    "\n",
    "        # Update the counters\n",
    "        if reward > 0:\n",
    "            win = win + reward\n",
    "        if reward < 0:\n",
    "            lose = lose -reward\n",
    "\n",
    "        # Apply the reinforcement strategy\n",
    "        loss = agent.reinforce(prev_state, state,  action, reward, game_over)\n",
    "\n",
    "    # Save as a mp4\n",
    "    if e % 10 == 0:\n",
    "        env.draw(e)\n",
    "\n",
    "    # Update stats\n",
    "    score += win-lose\n",
    "\n",
    "    print(\"Epoch {:03d}/{:03d} | Loss {:.4f} | Win/lose count {}/{} ({})\"\n",
    "          .format(e, epoch, loss, win, lose, win-lose))\n",
    "    agent.save()\n",
    "```"
   ]
  },
  {
   "cell_type": "markdown",
   "metadata": {},
   "source": [
    "# The game, *eat cheese*"
   ]
  },
  {
   "cell_type": "markdown",
   "metadata": {},
   "source": [
    "A rat runs on an island and tries to eat as much as possible. The island is subdivided into $N\\times N$ cells, in which there are cheese (+0.5) and poisonous cells (-1). The rat has a visibility of 2 cells (thus it can see $5^2$ cells). The rat is given a time $T$ to accumulate as much food as possible. It can perform 4 actions: going up, down, left, right. \n",
    "\n",
    "The goal is to code an agent to solve this task that will learn by trial and error. We propose the following environment:"
   ]
  },
  {
   "cell_type": "code",
   "execution_count": 4,
   "metadata": {
    "collapsed": true
   },
   "outputs": [],
   "source": [
    "class Environment(object):\n",
    "    def __init__(self, grid_size=10, max_time=500, temperature=0.1):\n",
    "        grid_size = grid_size+4\n",
    "        self.grid_size = grid_size\n",
    "        self.max_time = max_time\n",
    "        self.temperature = temperature\n",
    "\n",
    "        #board on which one plays\n",
    "        self.board = np.zeros((grid_size,grid_size))\n",
    "        self.position = np.zeros((grid_size,grid_size))\n",
    "\n",
    "        # coordinate of the cat\n",
    "        self.x = 0\n",
    "        self.y = 1\n",
    "\n",
    "        # self time\n",
    "        self.t = 0\n",
    "\n",
    "        self.scale=16\n",
    "\n",
    "        self.to_draw = np.zeros((max_time+2, grid_size*self.scale, grid_size*self.scale, 3))\n",
    "\n",
    "\n",
    "    def draw(self,e):\n",
    "        skvideo.io.vwrite(str(e) + '.mp4', self.to_draw)\n",
    "\n",
    "    def get_frame(self,t):\n",
    "        b = np.zeros((self.grid_size,self.grid_size,3))+128\n",
    "        b[self.board>0,0] = 256\n",
    "        b[self.board < 0, 2] = 256\n",
    "        b[self.x,self.y,:]=256\n",
    "        b[-2:,:,:]=0\n",
    "        b[:,-2:,:]=0\n",
    "        b[:2,:,:]=0\n",
    "        b[:,:2,:]=0\n",
    "        \n",
    "        b =  cv2.resize(b, None, fx=self.scale, fy=self.scale, interpolation=cv2.INTER_NEAREST)\n",
    "\n",
    "        self.to_draw[t,:,:,:]=b\n",
    "\n",
    "\n",
    "    def act(self, action):\n",
    "        \"\"\"This function returns the new state, reward and decides if the\n",
    "        game ends.\"\"\"\n",
    "\n",
    "        self.get_frame(int(self.t))\n",
    "\n",
    "        self.position = np.zeros((self.grid_size, self.grid_size))\n",
    "\n",
    "        self.position[0:2,:]= -1\n",
    "        self.position[:,0:2] = -1\n",
    "        self.position[-2:, :] = -1\n",
    "        self.position[-2:, :] = -1\n",
    "\n",
    "        self.position[self.x, self.y] = 1\n",
    "        if action == 0:\n",
    "            if self.x == self.grid_size-3:\n",
    "                self.x = self.x-1\n",
    "            else:\n",
    "                self.x = self.x + 1\n",
    "        elif action == 1:\n",
    "            if self.x == 2:\n",
    "                self.x = self.x+1\n",
    "            else:\n",
    "                self.x = self.x-1\n",
    "        elif action == 2:\n",
    "            if self.y == self.grid_size - 3:\n",
    "                self.y = self.y - 1\n",
    "            else:\n",
    "                self.y = self.y + 1\n",
    "        elif action == 3:\n",
    "            if self.y == 2:\n",
    "                self.y = self.y + 1\n",
    "            else:\n",
    "                self.y = self.y - 1\n",
    "        else:\n",
    "            RuntimeError('Error: action not recognized')\n",
    "\n",
    "        self.t = self.t + 1\n",
    "        reward = self.board[self.x, self.y]\n",
    "        self.board[self.x, self.y] = 0\n",
    "        game_over = self.t > self.max_time\n",
    "        state = np.concatenate((self.board.reshape(self.grid_size, self.grid_size,1),\n",
    "                        self.position.reshape(self.grid_size, self.grid_size,1)),axis=2)\n",
    "        state = state[self.x-2:self.x+3,self.y-2:self.y+3,:]\n",
    "\n",
    "        return state, reward, game_over\n",
    "\n",
    "    def reset(self):\n",
    "        \"\"\"This function resets the game and returns the initial state\"\"\"\n",
    "\n",
    "        self.x = np.random.randint(3, self.grid_size-3, size=1)[0]\n",
    "        self.y = np.random.randint(3, self.grid_size-3, size=1)[0]\n",
    "\n",
    "\n",
    "        bonus = 0.5*np.random.binomial(1,self.temperature,size=self.grid_size**2)\n",
    "        bonus = bonus.reshape(self.grid_size,self.grid_size)\n",
    "\n",
    "        malus = -1.0*np.random.binomial(1,self.temperature,size=self.grid_size**2)\n",
    "        malus = malus.reshape(self.grid_size, self.grid_size)\n",
    "\n",
    "        self.to_draw = np.zeros((self.max_time+2, self.grid_size*self.scale, self.grid_size*self.scale, 3))\n",
    "\n",
    "\n",
    "        malus[bonus>0]=0\n",
    "\n",
    "        self.board = bonus + malus\n",
    "\n",
    "        self.position = np.zeros((self.grid_size, self.grid_size))\n",
    "        self.position[0:2,:]= -1\n",
    "        self.position[:,0:2] = -1\n",
    "        self.position[-2:, :] = -1\n",
    "        self.position[-2:, :] = -1\n",
    "        self.board[self.x,self.y] = 0\n",
    "        self.t = 0\n",
    "\n",
    "        state = np.concatenate((\n",
    "                               self.board.reshape(self.grid_size, self.grid_size,1),\n",
    "                        self.position.reshape(self.grid_size, self.grid_size,1)),axis=2)\n",
    "\n",
    "        state = state[self.x - 2:self.x + 3, self.y - 2:self.y + 3, :]\n",
    "        return state"
   ]
  },
  {
   "cell_type": "markdown",
   "metadata": {},
   "source": [
    "The following elements are important because they correspond to the hyper parameters for this project:"
   ]
  },
  {
   "cell_type": "code",
   "execution_count": 13,
   "metadata": {
    "collapsed": true
   },
   "outputs": [],
   "source": [
    "# parameters\n",
    "size = 13\n",
    "T=300\n",
    "temperature=0.3\n",
    "epochs_train=31 # set small when debugging\n",
    "epochs_test=20 # set small when debugging\n",
    "\n",
    "# display videos\n",
    "def display_videos(name):\n",
    "    video = io.open(name, 'r+b').read()\n",
    "    encoded = base64.b64encode(video)\n",
    "    return '''<video alt=\"test\" controls>\n",
    "                <source src=\"data:video/mp4;base64,{0}\" type=\"video/mp4\" />\n",
    "             </video>'''.format(encoded.decode('ascii'))"
   ]
  },
  {
   "cell_type": "markdown",
   "metadata": {},
   "source": [
    "__Question 2__ Explain the use of the arrays ```position``` and ```board```."
   ]
  },
  {
   "cell_type": "markdown",
   "metadata": {},
   "source": [
    "> ```position``` represents the position of the mouse with a $N\\times N$ grid of zeros padded with -1 (margin width of 2), and with 1 at the position of the mouse.\n",
    "\n",
    "> ```board``` represents the positions of the cheeze and the poisonous cells. It is also a $N\\times N$ grid padded with a margin of -1 of width 2. "
   ]
  },
  {
   "cell_type": "markdown",
   "metadata": {},
   "source": [
    "## Random Agent"
   ]
  },
  {
   "cell_type": "markdown",
   "metadata": {},
   "source": [
    "***\n",
    "__Question 3__ Implement a random Agent (only ```learned_act``` needs to be implemented):"
   ]
  },
  {
   "cell_type": "code",
   "execution_count": 6,
   "metadata": {
    "collapsed": true
   },
   "outputs": [],
   "source": [
    "class RandomAgent(Agent):\n",
    "    def __init__(self):\n",
    "        super(RandomAgent, self).__init__()\n",
    "        pass\n",
    "\n",
    "    def learned_act(self, s):\n",
    "        return np.random.randint(4)"
   ]
  },
  {
   "cell_type": "markdown",
   "metadata": {},
   "source": [
    "***\n",
    "***\n",
    "__Question 4__ Visualize the game moves. You need to fill in the following function for the evaluation:"
   ]
  },
  {
   "cell_type": "code",
   "execution_count": 7,
   "metadata": {
    "collapsed": true
   },
   "outputs": [],
   "source": [
    "def test(agent,env,epochs,prefix=''):\n",
    "    # Number of won games\n",
    "    score = 0\n",
    "        \n",
    "    for e in range(epochs):\n",
    "        \n",
    "        s = env.reset()\n",
    "        \n",
    "        game_over = False\n",
    "        win, lose = 0, 0\n",
    "        \n",
    "        while not game_over:\n",
    "            a = agent.learned_act(s)\n",
    "            \n",
    "            s, r, game_over = env.act(a)\n",
    "            \n",
    "            if r > 0:\n",
    "                win += r\n",
    "            elif r < 0:\n",
    "                lose -= r\n",
    "        \n",
    "        # Save as a mp4\n",
    "        env.draw(prefix+str(e))\n",
    "\n",
    "        # Update stats\n",
    "        score = score + win-lose\n",
    "\n",
    "        print(\"Win/lose count {}/{}. Average score ({})\"\n",
    "              .format(win, lose, score/(1+e)))\n",
    "    print('Final score: '+str(score/epochs))"
   ]
  },
  {
   "cell_type": "code",
   "execution_count": 8,
   "metadata": {},
   "outputs": [
    {
     "name": "stdout",
     "output_type": "stream",
     "text": [
      "Win/lose count 10.5/18.0. Average score (-7.5)\n",
      "Win/lose count 11.0/18.0. Average score (-7.25)\n",
      "Win/lose count 9.5/15.0. Average score (-6.666666666666667)\n",
      "Win/lose count 12.0/18.0. Average score (-6.5)\n",
      "Win/lose count 18.0/15.0. Average score (-4.6)\n",
      "Win/lose count 14.5/12.0. Average score (-3.4166666666666665)\n",
      "Win/lose count 13.0/18.0. Average score (-3.642857142857143)\n",
      "Win/lose count 15.0/24.0. Average score (-4.3125)\n",
      "Win/lose count 17.5/17.0. Average score (-3.7777777777777777)\n",
      "Win/lose count 6.0/9.0. Average score (-3.7)\n",
      "Win/lose count 10.5/15.0. Average score (-3.772727272727273)\n",
      "Win/lose count 12.0/16.0. Average score (-3.7916666666666665)\n",
      "Win/lose count 13.5/16.0. Average score (-3.6923076923076925)\n",
      "Win/lose count 11.5/18.0. Average score (-3.892857142857143)\n",
      "Win/lose count 12.0/19.0. Average score (-4.1)\n",
      "Win/lose count 16.5/19.0. Average score (-4.0)\n",
      "Win/lose count 14.0/21.0. Average score (-4.176470588235294)\n",
      "Win/lose count 12.5/22.0. Average score (-4.472222222222222)\n",
      "Win/lose count 12.5/18.0. Average score (-4.526315789473684)\n",
      "Win/lose count 13.5/15.0. Average score (-4.375)\n",
      "Final score: -4.375\n"
     ]
    },
    {
     "data": {
      "text/html": [
       "<video alt=\"test\" controls>\n",
       "                <source src=\"data:video/mp4;base64,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\" type=\"video/mp4\" />\n",
       "             </video>"
      ],
      "text/plain": [
       "<IPython.core.display.HTML object>"
      ]
     },
     "execution_count": 8,
     "metadata": {},
     "output_type": "execute_result"
    }
   ],
   "source": [
    "# Initialize the game\n",
    "env = Environment(grid_size=size, max_time=T,temperature=temperature)\n",
    "\n",
    "# Initialize the agent!\n",
    "agent = RandomAgent()\n",
    "\n",
    "test(agent,env,epochs_test,prefix='random')\n",
    "HTML(display_videos('random0.mp4'))"
   ]
  },
  {
   "cell_type": "markdown",
   "metadata": {},
   "source": [
    "***\n",
    "## DQN"
   ]
  },
  {
   "cell_type": "markdown",
   "metadata": {},
   "source": [
    "Let us assume here that $T=\\infty$.\n",
    "\n",
    "***\n",
    "__Question 5__ Let $\\pi$ be a policy, show that:\n",
    "\n",
    "\\begin{equation*}\n",
    "Q^{\\pi}(s,a)=E_{(s',a')\\sim p(.|s,a)}[r(s,a)+\\gamma Q^{\\pi}(s',a')]\n",
    "\\end{equation*}\n",
    "\n",
    "Then, show that for the optimal policy $\\pi^*$ (we assume its existence), the following holds: \n",
    "\n",
    "\\begin{equation*}\n",
    "Q^{*}(s,a)=E_{s'\\sim \\pi^*(.|s,a)}[r(s,a)+\\gamma\\max_{a'}Q^{*}(s',a')].\n",
    "\\end{equation*}\n",
    "Finally, deduce that a plausible objective is:\n",
    "\n",
    "\\begin{equation*}\n",
    "\\mathcal{L}(\\theta)=E_{s' \\sim \\pi^*(.|s,a)}\\Vert r+\\gamma\\max\\max_{a'}Q(s',a',\\theta)-Q(s,a,\\theta)\\Vert^{2}.\n",
    "\\end{equation*}\n",
    "\n",
    "\n"
   ]
  },
  {
   "cell_type": "markdown",
   "metadata": {},
   "source": [
    "> For the first equation, by definition of $Q^\\pi (s,a)$ we have:\n",
    "\n",
    "> \\begin{equation}\n",
    "    \\begin{split}\n",
    "Q^\\pi (s,a) &= E_{p^{\\pi}}\\left[\\sum_{t\\leq T}\\gamma^{t}r(s_{t},a_{t})\\mid s_{0}=s,a_{0}=a\\right] \\\\\n",
    "&= E_{p^{\\pi}}\\left[ r(s, a) + \\gamma \\sum_{1\\leq t \\leq T} \\gamma^{t-1} r(s_{t}, a_{t}) \\mid s_{0}=s,a_{0}=a \\right] \\\\\n",
    "&= E_{(s',a')\\sim p(.|s,a)}\\left[r(s, a) + \\gamma E_{p^{\\pi}}\\left[\\sum_{1 \\leq t\\leq T}\\gamma^{t - 1}r(s{t},a{t})|s{1}=s',a{1}=a'\\right]\\right] \\\\\n",
    "&= E_{(s',a')\\sim p(.|s,a)}[r(s,a)+\\gamma Q^{\\pi}(s',a')]\n",
    "    \\end{split}\n",
    "\\end{equation}\n",
    "\n",
    "> Then by definition of $Q^*(s,a)$ we have:\n",
    "\n",
    "> \\begin{equation}\n",
    "    \\begin{split}\n",
    "        Q^*(s,a) & = \\max_{\\pi} Q^*(s, a) = Q^{\\pi^*}(s,a) \\\\\n",
    "        & = E_{(s',a')\\sim p^{\\pi^*}(.|s,a)}\\left[r(s,a)+\\gamma Q^{\\pi^*}(s',a')\\right] \\\\\n",
    "        & \\leq E_{s'\\sim \\pi^*(.|s,a)}\\left[r(s,a)+\\gamma \\max_{a'} Q^{\\pi^*}(s',a')\\right]  \\\\ \n",
    "    \\end{split}\n",
    "\\end{equation}\n",
    "\n",
    "> If this inequality was strict, we would be able to build a greedy policy that would have a higher Q-value than the optimal, which is preposterous. Hence, we have the equality.\n",
    "\n",
    "> We want to find a policy that is the closest possible to the optimal policy. Yet, the given loss is the expected mean squared error of the Q-value of a given policy with respect to $r(s,a)+\\gamma \\max_{a'} Q^{\\pi^*}(s',a')$ which gives optimal Q-value. Hence, this loss is a good loss to approximate the optimal policy"
   ]
  },
  {
   "cell_type": "markdown",
   "metadata": {},
   "source": [
    "***\n",
    "The DQN-learning algorithm relies on these derivations to train the parameters $\\theta$ of a Deep Neural Network:\n",
    "\n",
    "1. At the state $s_t$, select the action $a_t$ with best reward using $Q_t$ and store the results;\n",
    "\n",
    "2. Obtain the new state $s_{t+1}$ from the environment $p$;\n",
    "\n",
    "3. Store $(s_t,a_t,s_{t+1})$;\n",
    "\n",
    "4. Obtain $Q_{t+1}$ by minimizing  $\\mathcal{L}$ from a recovered batch from the previously stored results.\n",
    "\n",
    "***\n",
    "__Question 6__ Implement the class ```Memory``` that stores moves (in a replay buffer) via ```remember``` and provides a ```random_access``` to these. Specify a maximum memory size to avoid side effects. You can for example use a ```list()``` and set by default ```max_memory=100```."
   ]
  },
  {
   "cell_type": "code",
   "execution_count": 9,
   "metadata": {
    "collapsed": true
   },
   "outputs": [],
   "source": [
    "class Memory(object):\n",
    "    def __init__(self, max_memory=100):\n",
    "        self.max_memory = max_memory\n",
    "        self.memory = list()\n",
    "\n",
    "    def remember(self, m):\n",
    "        if len(self.memory) == self.max_memory:\n",
    "            del self.memory[0]\n",
    "        self.memory.append(m)\n",
    "\n",
    "    def random_access(self):\n",
    "        index = np.random.randint(len(self.memory))\n",
    "        return self.memory[index]"
   ]
  },
  {
   "cell_type": "markdown",
   "metadata": {},
   "source": [
    "***\n",
    "The pipeline we will use for training is given below:"
   ]
  },
  {
   "cell_type": "code",
   "execution_count": 10,
   "metadata": {
    "collapsed": true
   },
   "outputs": [],
   "source": [
    "def train(agent,env,epoch,prefix=''):\n",
    "    # Number of won games\n",
    "    score = 0\n",
    "    loss = 0\n",
    "\n",
    "    for e in range(epoch):\n",
    "        # At each epoch, we restart to a fresh game and get the initial state\n",
    "        state = env.reset()\n",
    "        # This assumes that the games will terminate\n",
    "        game_over = False\n",
    "\n",
    "        win = 0\n",
    "        lose = 0\n",
    "\n",
    "        while not game_over:\n",
    "            # The agent performs an action\n",
    "            action = agent.act(state)\n",
    "\n",
    "            # Apply an action to the environment, get the next state, the reward\n",
    "            # and if the games end\n",
    "            prev_state = state\n",
    "            state, reward, game_over = env.act(action)\n",
    "\n",
    "            # Update the counters\n",
    "            if reward > 0:\n",
    "                win = win + reward\n",
    "            if reward < 0:\n",
    "                lose = lose -reward\n",
    "\n",
    "            # Apply the reinforcement strategy\n",
    "            loss = agent.reinforce(prev_state, state,  action, reward, game_over)\n",
    "\n",
    "        # Save as a mp4\n",
    "        if e % 10 == 0:\n",
    "            env.draw(prefix+str(e))\n",
    "\n",
    "        # Update stats\n",
    "        score += win-lose\n",
    "\n",
    "        print(\"Epoch {:03d}/{:03d} | Loss {:.4f} | Win/lose count {}/{} ({})\"\n",
    "              .format(e, epoch, loss, win, lose, win-lose))\n",
    "        agent.save(name_weights=prefix+'model.h5',name_model=prefix+'model.json')"
   ]
  },
  {
   "cell_type": "markdown",
   "metadata": {},
   "source": [
    "***\n",
    "__Question 7__ Implement the DQN training algorithm using a cascade of fully connected layers. You can use different learning rate, batch size or memory size parameters. In particular, the loss might oscillate while the player will start to win the games. You have to find a good criterium."
   ]
  },
  {
   "cell_type": "code",
   "execution_count": 11,
   "metadata": {
    "collapsed": true
   },
   "outputs": [],
   "source": [
    "class DQN(Agent):\n",
    "    def __init__(self, grid_size,  epsilon = 0.1, memory_size=100, batch_size = 16,n_state=2):\n",
    "        super(DQN, self).__init__(epsilon = epsilon)\n",
    "\n",
    "        # Discount for Q learning\n",
    "        self.discount = 0.90\n",
    "        \n",
    "        self.grid_size = grid_size\n",
    "        \n",
    "        # number of state\n",
    "        self.n_state = n_state\n",
    "\n",
    "        # Memory\n",
    "        self.memory = Memory(memory_size)\n",
    "        \n",
    "        # Batch size when learning\n",
    "        self.batch_size = batch_size\n",
    "\n",
    "    def learned_act(self, s):\n",
    "        return np.argmax(self.model.predict(np.expand_dims(s, 0)))\n",
    "\n",
    "    def reinforce(self, s_, n_s_, a_, r_, game_over_):\n",
    "        # Two steps: first memorize the states, second learn from the pool\n",
    "\n",
    "        self.memory.remember([s_, n_s_, a_, r_, game_over_])\n",
    "        \n",
    "        input_states = np.zeros((self.batch_size, 5,5,self.n_state))\n",
    "        target_q = np.zeros((self.batch_size, 4))\n",
    "        \n",
    "        for i in range(self.batch_size):\n",
    "            ######## FILL IN\n",
    "            s_, n_s_, a_, r_, game_over_ = self.memory.random_access()\n",
    "            \n",
    "            input_states[i] = s_\n",
    "            target_q[i] = self.model.predict(np.expand_dims(s_, 0))\n",
    "\n",
    "            if game_over_:\n",
    "                target_q[i, a_] = r_\n",
    "            else:\n",
    "                target_q[i, a_] = r_ + self.discount * np.max(self.model.predict(np.expand_dims(n_s_, 0)))\n",
    "        ######## FILL IN\n",
    "        # HINT: Clip the target to avoid exploiding gradients.. -- clipping is a bit tighter\n",
    "        target_q = np.clip(target_q, -3, 3)\n",
    "\n",
    "        l = self.model.train_on_batch(input_states, target_q)\n",
    "\n",
    "\n",
    "        return l\n",
    "\n",
    "    def save(self,name_weights='model.h5',name_model='model.json'):\n",
    "        self.model.save_weights(name_weights, overwrite=True)\n",
    "        with open(name_model, \"w\") as outfile:\n",
    "            json.dump(self.model.to_json(), outfile)\n",
    "            \n",
    "    def load(self,name_weights='model.h5',name_model='model.json'):\n",
    "        with open(name_model, \"r\") as jfile:\n",
    "            model = model_from_json(json.load(jfile))\n",
    "        model.load_weights(name_weights)\n",
    "        model.compile(\"sgd\", \"mse\")\n",
    "        self.model = model\n",
    "\n",
    "            \n",
    "class DQN_FC(DQN):\n",
    "    def __init__(self, *args, lr=0.1,**kwargs):\n",
    "        super(DQN_FC, self).__init__( *args,**kwargs)\n",
    "        \n",
    "        # NN Model\n",
    "        model = Sequential()\n",
    "        model.add(Flatten(batch_input_shape=(None,5,5,self.n_state)))\n",
    "        model.add(Dense(128, activation=\"relu\"))\n",
    "        model.add(Dropout(0.5))\n",
    "        model.add(Dense(4, activation=\"softmax\"))\n",
    "        ####### FILL IN\n",
    "        \n",
    "        model.compile(sgd(lr=lr, decay=1e-4, momentum=0.0), \"mse\")\n",
    "        self.model = model\n",
    "        "
   ]
  },
  {
   "cell_type": "code",
   "execution_count": 14,
   "metadata": {},
   "outputs": [
    {
     "name": "stdout",
     "output_type": "stream",
     "text": [
      "Epoch 000/031 | Loss 0.0260 | Win/lose count 3.5/8.0 (-4.5)\n",
      "Epoch 001/031 | Loss 0.0085 | Win/lose count 3.0/5.0 (-2.0)\n",
      "Epoch 002/031 | Loss 0.0199 | Win/lose count 1.5/0 (1.5)\n",
      "Epoch 003/031 | Loss 0.0166 | Win/lose count 0.5/5.0 (-4.5)\n",
      "Epoch 004/031 | Loss 0.0072 | Win/lose count 6.5/12.0 (-5.5)\n",
      "Epoch 005/031 | Loss 0.0186 | Win/lose count 4.5/16.0 (-11.5)\n",
      "Epoch 006/031 | Loss 0.0196 | Win/lose count 4.0/8.0 (-4.0)\n",
      "Epoch 007/031 | Loss 0.0288 | Win/lose count 11.0/8.0 (3.0)\n",
      "Epoch 008/031 | Loss 0.0057 | Win/lose count 4.0/7.0 (-3.0)\n",
      "Epoch 009/031 | Loss 0.0126 | Win/lose count 6.0/9.0 (-3.0)\n",
      "Epoch 010/031 | Loss 0.0053 | Win/lose count 4.5/8.0 (-3.5)\n",
      "Epoch 011/031 | Loss 0.0099 | Win/lose count 1.5/4.0 (-2.5)\n",
      "Epoch 012/031 | Loss 0.0118 | Win/lose count 12.0/12.0 (0.0)\n",
      "Epoch 013/031 | Loss 0.0155 | Win/lose count 3.5/5.0 (-1.5)\n",
      "Epoch 014/031 | Loss 0.0025 | Win/lose count 2.0/9.0 (-7.0)\n",
      "Epoch 015/031 | Loss 0.0033 | Win/lose count 8.5/11.0 (-2.5)\n",
      "Epoch 016/031 | Loss 0.0199 | Win/lose count 2.5/2.0 (0.5)\n",
      "Epoch 017/031 | Loss 0.0068 | Win/lose count 10.0/14.0 (-4.0)\n",
      "Epoch 018/031 | Loss 0.0062 | Win/lose count 6.5/6.0 (0.5)\n",
      "Epoch 019/031 | Loss 0.0048 | Win/lose count 7.0/3.0 (4.0)\n",
      "Epoch 020/031 | Loss 0.0107 | Win/lose count 0.5/2.0 (-1.5)\n",
      "Epoch 021/031 | Loss 0.0080 | Win/lose count 12.5/12.0 (0.5)\n",
      "Epoch 022/031 | Loss 0.0083 | Win/lose count 6.0/5.0 (1.0)\n",
      "Epoch 023/031 | Loss 0.0028 | Win/lose count 10.5/9.0 (1.5)\n",
      "Epoch 024/031 | Loss 0.0027 | Win/lose count 4.0/4.0 (0.0)\n",
      "Epoch 025/031 | Loss 0.0097 | Win/lose count 12.0/14.0 (-2.0)\n",
      "Epoch 026/031 | Loss 0.0283 | Win/lose count 11.0/10.0 (1.0)\n",
      "Epoch 027/031 | Loss 0.0171 | Win/lose count 8.5/6.0 (2.5)\n",
      "Epoch 028/031 | Loss 0.0131 | Win/lose count 5.0/4.0 (1.0)\n",
      "Epoch 029/031 | Loss 0.0186 | Win/lose count 3.5/5.0 (-1.5)\n",
      "Epoch 030/031 | Loss 0.0069 | Win/lose count 5.0/12.0 (-7.0)\n"
     ]
    },
    {
     "data": {
      "text/html": [
       "<video alt=\"test\" controls>\n",
       "                <source src=\"data:video/mp4;base64,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\" type=\"video/mp4\" />\n",
       "             </video>"
      ],
      "text/plain": [
       "<IPython.core.display.HTML object>"
      ]
     },
     "execution_count": 14,
     "metadata": {},
     "output_type": "execute_result"
    }
   ],
   "source": [
    "env = Environment(grid_size=size, max_time=T, temperature=0.3)\n",
    "agent = DQN_FC(size, lr=.01, epsilon = 0.2, memory_size=10000, batch_size = 32)\n",
    "train(agent, env, epochs_train, prefix='fc_train')\n",
    "HTML(display_videos('fc_train30.mp4'))"
   ]
  },
  {
   "cell_type": "markdown",
   "metadata": {},
   "source": [
    "***\n",
    "***\n",
    "__Question 8__ Implement the DQN training algorithm using a CNN (for example, 2 convolutional layers and one final fully connected layer)."
   ]
  },
  {
   "cell_type": "code",
   "execution_count": 15,
   "metadata": {
    "collapsed": true
   },
   "outputs": [],
   "source": [
    "class DQN_CNN(DQN):\n",
    "    def __init__(self, *args,lr=0.1,**kwargs):\n",
    "        super(DQN_CNN, self).__init__(*args,**kwargs)\n",
    "        \n",
    "        model = Sequential()\n",
    "        model.add(Conv2D(8, kernel_size=3, padding='same'))\n",
    "        model.add(Activation(\"tanh\"))\n",
    "        model.add(Conv2D(16, kernel_size=3, padding='same'))\n",
    "        model.add(Activation(\"tanh\"))\n",
    "        model.add(Flatten())\n",
    "        model.add(Dense(4, activation=\"softmax\"))\n",
    "        \n",
    "        \n",
    "        model.compile(sgd(lr=lr, decay=1e-4, momentum=0.0), \"mse\")\n",
    "        self.model = model"
   ]
  },
  {
   "cell_type": "code",
   "execution_count": 16,
   "metadata": {
    "scrolled": true
   },
   "outputs": [
    {
     "name": "stdout",
     "output_type": "stream",
     "text": [
      "Epoch 000/031 | Loss 0.0067 | Win/lose count 3.5/1.0 (2.5)\n",
      "Epoch 001/031 | Loss 0.0039 | Win/lose count 8.0/10.0 (-2.0)\n",
      "Epoch 002/031 | Loss 0.0114 | Win/lose count 3.5/4.0 (-0.5)\n",
      "Epoch 003/031 | Loss 0.0024 | Win/lose count 8.0/6.0 (2.0)\n",
      "Epoch 004/031 | Loss 0.0072 | Win/lose count 7.5/5.0 (2.5)\n",
      "Epoch 005/031 | Loss 0.0002 | Win/lose count 2.0/5.0 (-3.0)\n",
      "Epoch 006/031 | Loss 0.0020 | Win/lose count 5.5/5.0 (0.5)\n",
      "Epoch 007/031 | Loss 0.0007 | Win/lose count 5.0/2.0 (3.0)\n",
      "Epoch 008/031 | Loss 0.0002 | Win/lose count 3.5/2.0 (1.5)\n",
      "Epoch 009/031 | Loss 0.0032 | Win/lose count 8.0/4.0 (4.0)\n",
      "Epoch 010/031 | Loss 0.0004 | Win/lose count 5.5/1.0 (4.5)\n",
      "Epoch 011/031 | Loss 0.0141 | Win/lose count 1.5/3.0 (-1.5)\n",
      "Epoch 012/031 | Loss 0.0070 | Win/lose count 5.5/5.0 (0.5)\n",
      "Epoch 013/031 | Loss 0.0022 | Win/lose count 3.0/5.0 (-2.0)\n",
      "Epoch 014/031 | Loss 0.0029 | Win/lose count 12.0/3.0 (9.0)\n",
      "Epoch 015/031 | Loss 0.0077 | Win/lose count 15.5/9.0 (6.5)\n",
      "Epoch 016/031 | Loss 0.0003 | Win/lose count 8.0/1.0 (7.0)\n",
      "Epoch 017/031 | Loss 0.0022 | Win/lose count 9.5/2.0 (7.5)\n",
      "Epoch 018/031 | Loss 0.0055 | Win/lose count 19.0/3.0 (16.0)\n",
      "Epoch 019/031 | Loss 0.0038 | Win/lose count 12.0/3.0 (9.0)\n",
      "Epoch 020/031 | Loss 0.0020 | Win/lose count 19.5/5.0 (14.5)\n",
      "Epoch 021/031 | Loss 0.0004 | Win/lose count 15.0/7.0 (8.0)\n",
      "Epoch 022/031 | Loss 0.0002 | Win/lose count 12.5/1.0 (11.5)\n",
      "Epoch 023/031 | Loss 0.0004 | Win/lose count 7.0/1.0 (6.0)\n",
      "Epoch 024/031 | Loss 0.0053 | Win/lose count 13.5/6.0 (7.5)\n",
      "Epoch 025/031 | Loss 0.0146 | Win/lose count 15.5/6.0 (9.5)\n",
      "Epoch 026/031 | Loss 0.0012 | Win/lose count 16.0/4.0 (12.0)\n",
      "Epoch 027/031 | Loss 0.0053 | Win/lose count 11.0/2.0 (9.0)\n",
      "Epoch 028/031 | Loss 0.0059 | Win/lose count 13.5/7.0 (6.5)\n",
      "Epoch 029/031 | Loss 0.0046 | Win/lose count 16.0/7.0 (9.0)\n",
      "Epoch 030/031 | Loss 0.0024 | Win/lose count 23.0/5.0 (18.0)\n"
     ]
    },
    {
     "data": {
      "text/html": [
       "<video alt=\"test\" controls>\n",
       "                <source src=\"data:video/mp4;base64,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\" type=\"video/mp4\" />\n",
       "             </video>"
      ],
      "text/plain": [
       "<IPython.core.display.HTML object>"
      ]
     },
     "execution_count": 16,
     "metadata": {},
     "output_type": "execute_result"
    }
   ],
   "source": [
    "env = Environment(grid_size=size, max_time=T, temperature=0.3)\n",
    "agent = DQN_CNN(size, lr=.1, epsilon = 0.1, memory_size=10000, batch_size = 32)\n",
    "train(agent,env,epochs_train,prefix='cnn_train')\n",
    "HTML(display_videos('cnn_train30.mp4'))"
   ]
  },
  {
   "cell_type": "markdown",
   "metadata": {},
   "source": [
    "***\n",
    "***\n",
    "__Question 9__ Test both algorithms and compare their performances. Which issue(s) do you observe? Observe also different behaviors by changing the temperature."
   ]
  },
  {
   "cell_type": "code",
   "execution_count": 17,
   "metadata": {},
   "outputs": [
    {
     "name": "stdout",
     "output_type": "stream",
     "text": [
      "Test of the CNN\n",
      "Win/lose count 15.5/0. Average score (15.5)\n",
      "Win/lose count 4.5/0. Average score (10.0)\n",
      "Win/lose count 4.0/0. Average score (8.0)\n",
      "Win/lose count 0.5/0. Average score (6.125)\n",
      "Win/lose count 0/0. Average score (4.9)\n",
      "Win/lose count 7.0/0. Average score (5.25)\n",
      "Win/lose count 0/0. Average score (4.5)\n",
      "Win/lose count 6.0/0. Average score (4.6875)\n",
      "Win/lose count 3.5/0. Average score (4.555555555555555)\n",
      "Win/lose count 4.5/0. Average score (4.55)\n",
      "Win/lose count 4.5/0. Average score (4.545454545454546)\n",
      "Win/lose count 13.0/0. Average score (5.25)\n",
      "Win/lose count 2.5/0. Average score (5.038461538461538)\n",
      "Win/lose count 1.5/0. Average score (4.785714285714286)\n",
      "Win/lose count 3.5/0. Average score (4.7)\n",
      "Win/lose count 7.0/0. Average score (4.84375)\n",
      "Win/lose count 10.0/0. Average score (5.147058823529412)\n",
      "Win/lose count 1.0/0. Average score (4.916666666666667)\n",
      "Win/lose count 6.5/0. Average score (5.0)\n",
      "Win/lose count 16.0/1.0. Average score (5.5)\n",
      "Final score: 5.5\n",
      "Test of the FC\n",
      "Win/lose count 0/0. Average score (0.0)\n",
      "Win/lose count 0/0. Average score (0.0)\n",
      "Win/lose count 0.5/1.0. Average score (-0.16666666666666666)\n",
      "Win/lose count 1.5/0. Average score (0.25)\n",
      "Win/lose count 0/0. Average score (0.2)\n",
      "Win/lose count 0.5/0. Average score (0.25)\n",
      "Win/lose count 0.5/0. Average score (0.2857142857142857)\n",
      "Win/lose count 0/0. Average score (0.25)\n",
      "Win/lose count 0/0. Average score (0.2222222222222222)\n",
      "Win/lose count 1.0/0. Average score (0.3)\n",
      "Win/lose count 0.5/1.0. Average score (0.22727272727272727)\n",
      "Win/lose count 0.5/0. Average score (0.25)\n",
      "Win/lose count 1.0/2.0. Average score (0.15384615384615385)\n",
      "Win/lose count 0/0. Average score (0.14285714285714285)\n",
      "Win/lose count 1.0/0. Average score (0.2)\n",
      "Win/lose count 0.5/1.0. Average score (0.15625)\n",
      "Win/lose count 1.0/0. Average score (0.20588235294117646)\n",
      "Win/lose count 0.5/1.0. Average score (0.16666666666666666)\n",
      "Win/lose count 0.5/0. Average score (0.18421052631578946)\n",
      "Win/lose count 0/1.0. Average score (0.125)\n",
      "Final score: 0.125\n"
     ]
    }
   ],
   "source": [
    "env = Environment(grid_size=size, max_time=T,temperature=0.3)\n",
    "agent_cnn = DQN_CNN(size, lr=.1, epsilon = 0.1, memory_size=2000, batch_size = 32)\n",
    "agent_cnn.load(name_weights='cnn_trainmodel.h5',name_model='cnn_trainmodel.json')\n",
    "\n",
    "agent_fc = DQN_FC(size, lr=.1, epsilon = 0.1, memory_size=2000, batch_size = 32)\n",
    "agent_fc.load(name_weights='fc_trainmodel.h5',name_model='fc_trainmodel.json')\n",
    "print('Test of the CNN')\n",
    "test(agent_cnn,env,epochs_test,prefix='cnn_test')\n",
    "print('Test of the FC')\n",
    "test(agent_fc,env,epochs_test,prefix='fc_test')"
   ]
  },
  {
   "cell_type": "code",
   "execution_count": 18,
   "metadata": {},
   "outputs": [
    {
     "data": {
      "text/html": [
       "<video alt=\"test\" controls>\n",
       "                <source src=\"data:video/mp4;base64,AAAAIGZ0eXBpc29tAAACAGlzb21pc28yYXZjMW1wNDEAAAAIZnJlZQAAJ6dtZGF0AAACrQYF//+p3EXpvebZSLeWLNgg2SPu73gyNjQgLSBjb3JlIDE1MiByMjg1NCBlOWE1OTAzIC0gSC4yNjQvTVBFRy00IEFWQyBjb2RlYyAtIENvcHlsZWZ0IDIwMDMtMjAxNyAtIGh0dHA6Ly93d3cudmlkZW9sYW4ub3JnL3gyNjQuaHRtbCAtIG9wdGlvbnM6IGNhYmFjPTEgcmVmPTMgZGVibG9jaz0xOjA6MCBhbmFseXNlPTB4MToweDExMSBtZT1oZXggc3VibWU9NyBwc3k9MSBwc3lfcmQ9MS4wMDowLjAwIG1peGVkX3JlZj0xIG1lX3JhbmdlPTE2IGNocm9tYV9tZT0xIHRyZWxsaXM9MSA4eDhkY3Q9MCBjcW09MCBkZWFkem9uZT0yMSwxMSBmYXN0X3Bza2lwPTEgY2hyb21hX3FwX29mZnNldD00IHRocmVhZHM9NiBsb29rYWhlYWRfdGhyZWFkcz0xIHNsaWNlZF90aHJlYWRzPTAgbnI9MCBkZWNpbWF0ZT0xIGludGVybGFjZWQ9MCBibHVyYXlfY29tcGF0PTAgY29uc3RyYWluZWRfaW50cmE9MCBiZnJhbWVzPTMgYl9weXJhbWlkPTIgYl9hZGFwdD0xIGJfYmlhcz0wIGRpcmVjdD0xIHdlaWdodGI9MSBvcGVuX2dvcD0wIHdlaWdodHA9MiBrZXlpbnQ9MjUwIGtleWludF9taW49MjUgc2NlbmVjdXQ9NDAgaW50cmFfcmVmcmVzaD0wIHJjX2xvb2thaGVhZD00MCByYz1jcmYgbWJ0cmVlPTEgY3JmPTIzLjAgcWNvbXA9MC42MCBxcG1pbj0wIHFwbWF4PTY5IHFwc3RlcD00IGlwX3JhdGlvPTEuNDAgYXE9MToxLjAwAIAAAALkZYiEADf//vaH+BTZWBP+Wb/9DX/cj9uPrP1xYyEE31qvIejAGS+1H+b/rFFs6Z6UB/fgCJQAc24ZwpHZJ3iSV5j4BgyQB+BSyUa+BTQWn57NlOSMqbkSQkAuuwTRye5i7WVrQn48qHYLY3JLX9w10MIfQiBLnpRSVOPB5z+3MFelwK5DZysRS38SlXRRwpNitTJk+4c0iM6MNPEI+D/ydmUdOA8jwZMpSoc8vVMBgQS+LYI6sk35Qlmtk9vu6biMAtG0bYxcJtaRVjwZyHNhXE2iATkWN6/porDrpAT7WiS1rQGEO32AnGpzj8jeKmhAqpj+Ya7vkA8PFdrE5K9BJifo14CbiM4jSQznOYywH/BOi62yLyVYt9iUIcvjg87eyDOkKbwCVxhBo6r+FVmbbefi4oGB+hB11Aeji9nlhlj6KEuupbNmFH8mbvbOnIOUq30IlmrUWhJ0FBXojodxqojDzLgK0Df+qOm8NDcFiynC0FsAwpUtYPHYicWAyv6mOVRQM+bqqjUaTSU4r1SnnKDS2tuv2TZnc3E85qxQNrN9DhAsC+N0skauR75/0FAAAYamgnag7BKmDaBtbhG4XWjgw3tRmYfiGKla+g8IVmDCioHsVMoqYG8Y9UAAAiHfJ80R34c/ts2mRKLXQYjarjNKSZO6MEjBLBTpAVyfADrJGwKBNAewlQN+9PCrISlUQL3BARKYCCaVJcVXYUggh6y8UOqjwaS2qxtzAWyLEaMYxJkQATlTyPR1W0JFjhia1wyoWdgMWxfEtFOEmkBtCoWXzKoJicuc9y7byxXjAI6WTfDiSpna4c67Pn2kYa1MDJCDDvEBng/je4pOKIlCN9GQQzGek1MvTowAEABYsaWMmol4LsmNf5HMdKd8tgfy4LcHHns4mXRU50DPvQLM80eO/NnkOwbDo3d0pnb3qoyD0lYqq+scb2X/YVlB8110hxLVD/TSCiu9oExjyHmgMjAAASMAAAAbQZokbEM//p4QHHz61eZZZ8+2vZLdt2bNA8vAAAAAE0GeQniF/wGyuzngI+YaYK5oeBEAAAAQAZ5hdEK/AWPLVA6dqGnKgAAAABABnmNqQr8CSM7wK/WKEHXBAAAAGUGaZUmoQWiZTAhn//6eEBx85vqTiPqshwUAAAAZQZqGSeEKUmUwIb/+p4QCC+On0dChIUjugQAAABlBmqdJ4Q6JlMCG//6nhAEd+On1HGhIcF3BAAAAF0Gay0nhDyZTAhv//qeEALTitUwxquVtAAAAE0Ge6UURPC//AG13C3+Mbce7FtAAAAAQAZ8IdEK/AJa6tGSHk3bxgQAAABABnwpqQr8AluxHkuZ8kvGAAAAAJ0GbDUmoQWiZTBTw3/6nhAC6e6n7tb4ULmWVz3T8ClS0fgUzsDF5ZwAAABABnyxqQr8AmtrXb2sMkgyhAAAAHkGbL0nhClJlMFLDP/6eEAHc9j4CmfwV7tPDbBVBtQAAABABn05qQr8AZIltOvAE/tOBAAAAGEGbUEnhDomUwIZ//p4QAM2vuNC6b7rePAAAAB9Bm3JJ4Q8mUwUVPDP//p4QANKv4PQum+pXsYH6BnTAAAAAEAGfkWpCvwAsVKN5pirabuEAAAAYQZuTSeEPJlMCGf/+nhAAiohx/PBfyRF8AAAAGEGbtEnhDyZTAhn//p4QANfIY5/DsJ9abQAAABlBm9VJ4Q8mUwIb//6nhABWPRP9VwGPxE3BAAAAHkGb90nhDyZTBRE8M//+nhABUfdN7gB1bndcR9UTbAAAABABnhZqQr8ARWT5zrQwvJzBAAAAGUGaGEnhDyZTAhv//qeEADY+wf4Tgt0JakEAAAAeQZo6SeEPJlMFETw3//6nhAAi3x093m6++tmKEftpAAAAEAGeWWpCvwAcUF5zrQwvVcEAAAAZQZpbSeEPJlMCG//+p4QAFj91P1HGhIdLwAAAABpBmn9J4Q8mUwIZ//6eEAA43r7+hXRf5uqLMQAAABRBnp1FETwv/wAIrnqM9jnTtXf61wAAABABnrx0Qr8AC6J1J5X5KcNwAAAAEAGevmpCvwAL8Cxr3mlaBsAAAAAZQZqgSahBaJlMCGf//p4QADd+vu7Tm7i6ZwAAABhBmsFJ4QpSZTAhn/6eEAA2Pv7u05u4unwAAAAfQZrjSeEOiZTBTRMM//6eEAA0/r7+oW9zXH1Yv8vK4QAAABABnwJqQr8ACxNyGH0BIO1oAAAAGEGbBEnhDyZTAhn//p4QACLfEP7ZDH1iiwAAABhBmyVJ4Q8mUwIZ//6eEAAWz3TfRUrNfj8AAAAYQZtGSeEPJlMCG//+p4QAA7nsHr2Z8EaPAAAAHUGbaEnhDyZTBRE8M//+nhAADjevv02oH4UGaovBAAAADwGfh2pCvwAC/EXzNsyPMwAAABlBm4lJ4Q8mUwIb//6nhAADd++zH+H1bo+AAAAAIkGbq0nhDyZTBRE8N//+p4QAB/fWG5lliZHbmRQkNnm4k4EAAAAQAZ/KakK/AAaZ2o5X9uI7wAAAABlBm8xJ4Q8mUwIb//6nhAAMjSJ/qt8x+MHAAAAAIUGb70nhDyZTAhv//qeEAAzvsH8+D6WlbHmQkmB/faX1yQAAABJBng1FETwr/wAKhSjeadyl7lEAAAAQAZ4uakK/AAqDchh9ASDuCQAAABhBmjBJqEFomUwIb//+p4QACKj5jlcNuCcAAAAdQZpSSeEKUmUwURLDf/6nhAAIt8dPutLM1Nui5KgAAAAQAZ5xakK/AAdBXBrjxVt2YQAAABhBmnZJ4Q6JlMCGf/6eEAAhqRfkdff04WAAAAAVQZ6URRU8L/8ABUKBFPBhUEfu1e10AAAADwGes3RCvwAEtdlCk2yWpQAAABABnrVqQr8ABxWeBdf24jXAAAAAGUGat0moQWiZTAhn//6eEAA0shjn8Oc317cAAAAaQZrYSeEKUmUwIZ/+nhAAUbgxz+HPiBw/w1MAAAAXQZr5SeEOiZTAhn/+nhAAfApxz9L+5bcAAAAYQZsaSeEPJlMCGf/+nhAAw8hjn8Oc31qVAAAAGUGbO0nhDyZTAhv//qeEAE1QBZttn2fNScAAAAAhQZtdSeEPJlMFETw3//6nhAC6e3TzLLEyO4jhnl5fvRnBAAAAEAGffGpCvwCW7PHK/tw+p8EAAAAlQZt/SeEPJlMFPDP//p4QB8aPjviEd4v/+IRkqP/9UEc/3Q7UgAAAABABn55qQr8BbLHjlf24fNbAAAAAGEGbgEnhDyZTAhv//qeEAiGMx5GJ/hTyDwAAAB5Bm6JJ4Q8mUwURPDf//qeEAkndT7vNymrVMhI2M+YAAAAQAZ/BakK/AX9m5rjxVtG6oQAAABlBm8NJ4Q8mUwIb//6nhAEt+On1HGhIcFlAAAAAHkGb50nhDyZTAhn//p4QAw/v79MD54h2d7riPq3DuwAAABZBngVFETwv/wB2vtCp0crkTJPIpumBAAAAEAGeJHRCvwCj2jvK2UPSCYEAAAAPAZ4makK/AGmIvmbZka2pAAAAGkGaKEmoQWiZTAhv//6nhAB5/YP8JwW6El3AAAAAGUGaSUnhClJlMCG//qeEAE/91P1HGhIcVMAAAAAdQZprSeEOiZTBTRMN//6nhAAzvsH+eQVqmQkW+hkAAAAQAZ6KakK/ACoNyGH0BIOUCAAAABxBmo1J4Q8mUwU8N//+p4QAId8dPutLM1Nui2cIAAAAEAGerGpCvwAcVXBrjxVtSaEAAAAcQZqvSeEPJlMFPDf//qeEABbPdT9zIwtmKEc0LQAAAA8Bns5qQr8AEllbpRpDxpcAAAAcQZrRSeEPJlMFPDf//qeEAA43sH+cp14Ua3Mk+AAAABABnvBqQr8AC6Nuiqzj8DKwAAAAGUGa8knhDyZTAhv//qeEAAj3x0+o40JD3cEAAAAZQZsWSeEPJlMCGf/+nhAAIah/oGNPQX8btgAAABVBnzRFETwv/wAFQoEU8GFQR+7V7XQAAAAPAZ9TdEK/AAS12UKTbJalAAAAEAGfVWpCvwAHFZ4F1/biNcAAAAAZQZtXSahBaJlMCGf//p4QADSyGOfw5zfXtwAAABlBm3hJ4QpSZTAhv/6nhAAU/0T/Vb5j8VBBAAAAJkGbmknhDomUwU0TDP/+nhAAxOzJP4hHeL//iEZKj//Zm+vHu42AAAAAEAGfuWpCvwAo9jxyv7cP8EEAAAAZQZu7SeEPJlMCG//+p4QATVAFm22fZ81JwAAAACVBm91J4Q8mUwURPDf//qeEALpxes/EIAf/wlSx5//5q/0VdN7VAAAAEAGf/GpCvwCW7PHK/tw+p8EAAAAkQZv/SeEPJlMFPDf//qeEAgub7L4hAD/+EqWPP//HEOwrsncQAAAAEAGeHmpCvwFsseOV/bh81sAAAAAYQZoASeEPJlMCG//+p4QCIYzHkYn+FPIPAAAAG0GaI0nhDyZTAhn//p4QCC+If3kB3ua7YJ15OAAAABJBnkFFETwr/wF/Zua4+ciiR+0AAAAQAZ5iakK/AX8ltOvAE/k8gAAAABxBmmVJqEFomUwU8M/+nhAC++6b7XvOVbirN7WhAAAAEAGehGpCvwCj0o3mmKtpBMEAAAAYQZqGSeEKUmUwIZ/+nhAB8vX38iRH1hGzAAAAGEGap0nhDomUwIZ//p4QAUj3TfRUrNfApwAAABhBmshJ4Q8mUwIZ//6eEADT+vv5EiPrCf4AAAAZQZrpSeEPJlMCG//+p4QAIt8dPqONCQ5gQAAAAB1BmwtJ4Q8mUwURPDf//qeEABbPdT9zIwtmKEc0LQAAAA8BnypqQr8AEllbpRpDxpYAAAAcQZstSeEPJlMFPDf//qeEAA43sH+cp14Ua3Mk+AAAABABn0xqQr8AC6Nuiqzj8DKxAAAAGUGbTknhDyZTAhv//qeEAAj3x0+o40JD3cEAAAAZQZtySeEPJlMCGf/+nhAAIah/oGNPQX8btwAAABVBn5BFETwv/wAFQoEU8GFQR+7V7XQAAAAPAZ+vdEK/AAS12UKTbJalAAAAEAGfsWpCvwAHFZ4F1/biNcEAAAAZQZuzSahBaJlMCGf//p4QADSyGOfw5zfXtwAAABlBm9RJ4QpSZTAhv/6nhAAU/0T/Vb5j8VBAAAAAJkGb9knhDomUwU0TDP/+nhAAxOzJP4hHeL//iEZKj//Zm+vHu42BAAAAEAGeFWpCvwAo9jxyv7cP8EAAAAAZQZoXSeEPJlMCG//+p4QATVAFm22fZ81JwQAAACVBmjlJ4Q8mUwURPDf//qeEALpxes/EIAf/wlSx5//5q/0VdN7VAAAAEAGeWGpCvwCW7PHK/tw+p8AAAAAkQZpbSeEPJlMFPDf//qeEAgub7L4hAD/+EqWPP//HEOwrsncRAAAAEAGeempCvwFsseOV/bh81sAAAAAYQZp8SeEPJlMCG//+p4QCIYzHkYn+FPIPAAAAG0Gan0nhDyZTAhn//p4QCC+If3kB3ua7YJ15OQAAABJBnr1FETwr/wF/Zua4+ciiR+0AAAAQAZ7eakK/AX8ltOvAE/k8gAAAABxBmsFJqEFomUwU8M/+nhAC++6b7XvOVbirN7WhAAAAEAGe4GpCvwCj0o3mmKtpBMAAAAAYQZriSeEKUmUwIZ/+nhAB8vX38iRH1hGzAAAAGEGbA0nhDomUwIZ//p4QAUj3TfRUrNfApgAAABhBmyRJ4Q8mUwIZ//6eEADT+vv5EiPrCf8AAAAZQZtFSeEPJlMCG//+p4QAIt8dPqONCQ5gQQAAAB1Bm2dJ4Q8mUwURPDf//qeEABbPdT9zIwtmKEc0LQAAAA8Bn4ZqQr8AEllbpRpDxpcAAAAcQZuJSeEPJlMFPDf//qeEAA43sH+cp14Ua3Mk+AAAABABn6hqQr8AC6Nuiqzj8DKwAAAAGUGbqknhDyZTAhv//qeEAAj3x0+o40JD3cEAAAAZQZvOSeEPJlMCGf/+nhAAIah/oGNPQX8btgAAABVBn+xFETwv/wAFQoEU8GFQR+7V7XQAAAAPAZ4LdEK/AAS12UKTbJalAAAAEAGeDWpCvwAHFZ4F1/biNcEAAAAZQZoPSahBaJlMCGf//p4QADSyGOfw5zfXtwAAABlBmjBJ4QpSZTAhv/6nhAAU/0T/Vb5j8VBAAAAAJkGaUknhDomUwU0TDP/+nhAAxOzJP4hHeL//iEZKj//Zm+vHu42AAAAAEAGecWpCvwAo9jxyv7cP8EEAAAAZQZpzSeEPJlMCG//+p4QATVAFm22fZ81JwAAAACVBmpVJ4Q8mUwURPDf//qeEALpxes/EIAf/wlSx5//5q/0VdN7UAAAAEAGetGpCvwCW7PHK/tw+p8EAAAAkQZq3SeEPJlMFPDf//qeEAgub7L4hAD/+EqWPP//HEOwrsncQAAAAEAGe1mpCvwFsseOV/bh81sEAAAAYQZrYSeEPJlMCG//+p4QCIYzHkYn+FPIPAAAAG0Ga+0nhDyZTAhn//p4QCC+If3kB3ua7YJ15OAAAABJBnxlFETwr/wF/Zua4+ciiR+0AAAAQAZ86akK/AX8ltOvAE/k8gAAAABxBmz1JqEFomUwU8M/+nhAC++6b7XvOVbirN7WhAAAAEAGfXGpCvwCj0o3mmKtpBMEAAAAYQZteSeEKUmUwIZ/+nhAB8vX38iRH1hGzAAAAGEGbf0nhDomUwIZ//p4QAUj3TfRUrNfApgAAABhBm4BJ4Q8mUwIZ//6eEADT+vv5EiPrCf8AAAAZQZuhSeEPJlMCG//+p4QAIt8dPqONCQ5gQAAAAB1Bm8NJ4Q8mUwURPDf//qeEABbPdT9zIwtmKEc0LQAAAA8Bn+JqQr8AEllbpRpDxpYAAAAcQZvlSeEPJlMFPDf//qeEAA43sH+cp14Ua3Mk+QAAABABngRqQr8AC6Nuiqzj8DKxAAAAGUGaBknhDyZTAhv//qeEAAj3x0+o40JD3cEAAAAZQZoqSeEPJlMCGf/+nhAAIah/oGNPQX8btwAAABVBnkhFETwv/wAFQoEU8GFQR+7V7XQAAAAPAZ5ndEK/AAS12UKTbJalAAAAEAGeaWpCvwAHFZ4F1/biNcEAAAAZQZprSahBaJlMCGf//p4QADSyGOfw5zfXtwAAABlBmoxJ4QpSZTAhv/6nhAAU/0T/Vb5j8VBAAAAAJkGarknhDomUwU0TDP/+nhAAxOzJP4hHeL//iEZKj//Zm+vHu42BAAAAEAGezWpCvwAo9jxyv7cP8EEAAAAZQZrPSeEPJlMCG//+p4QATVAFm22fZ81JwQAAACVBmvFJ4Q8mUwURPDf//qeEALpxes/EIAf/wlSx5//5q/0VdN7UAAAAEAGfEGpCvwCW7PHK/tw+p8AAAAAkQZsTSeEPJlMFPDf//qeEAgub7L4hAD/+EqWPP//HEOwrsncRAAAAEAGfMmpCvwFsseOV/bh81sAAAAAYQZs0SeEPJlMCG//+p4QCIYzHkYn+FPIOAAAAG0GbV0nhDyZTAhn//p4QCC+If3kB3ua7YJ15OQAAABJBn3VFETwr/wF/Zua4+ciiR+0AAAAQAZ+WakK/AX8ltOvAE/k8gQAAABxBm5lJqEFomUwU8M/+nhAC++6b7XvOVbirN7WhAAAAEAGfuGpCvwCj0o3mmKtpBMAAAAAYQZu6SeEKUmUwIZ/+nhAB8vX38iRH1hGzAAAAGEGb20nhDomUwIZ//p4QAUj3TfRUrNfApgAAABhBm/xJ4Q8mUwIZ//6eEADT+vv5EiPrCf8AAAAZQZodSeEPJlMCG//+p4QAIt8dPqONCQ5gQQAAAB1Bmj9J4Q8mUwURPDf//qeEABbPdT9zIwtmKEc0LAAAAA8Bnl5qQr8AEllbpRpDxpYAAAAcQZpBSeEPJlMFPDf//qeEAA43sH+cp14Ua3Mk+QAAABABnmBqQr8AC6Nuiqzj8DKwAAAAGUGaYknhDyZTAhv//qeEAAj3x0+o40JD3cEAAAAZQZqGSeEPJlMCGf/+nhAAIah/oGNPQX8btgAAABVBnqRFETwv/wAFQoEU8GFQR+7V7XUAAAAPAZ7DdEK/AAS12UKTbJalAAAAEAGexWpCvwAHFZ4F1/biNcEAAAAZQZrHSahBaJlMCGf//p4QADSyGOfw5zfXtwAAABlBmuhJ4QpSZTAhv/6nhAAU/0T/Vb5j8VBAAAAAJkGbCknhDomUwU0TDP/+nhAAxOzJP4hHeL//iEZKj//Zm+vHu42AAAAAEAGfKWpCvwAo9jxyv7cP8EEAAAAZQZsrSeEPJlMCG//+p4QATVAFm22fZ81JwAAAACVBm01J4Q8mUwURPDf//qeEALpxes/EIAf/wlSx5//5q/0VdN7UAAAAEAGfbGpCvwCW7PHK/tw+p8EAAAAkQZtvSeEPJlMFPDf//qeEAgub7L4hAD/+EqWPP//HEOwrsncRAAAAEAGfjmpCvwFsseOV/bh81sEAAAAYQZuQSeEPJlMCG//+p4QCIYzHkYn+FPIOAAAAG0Gbs0nhDyZTAhn//p4QCC+If3kB3ua7YJ15OAAAABJBn9FFETwr/wF/Zua4+ciiR+0AAAAQAZ/yakK/AX8ltOvAE/k8gAAAABxBm/VJqEFomUwU8M/+nhAC++6b7XvOVbirN7WgAAAAEAGeFGpCvwCj0o3mmKtpBMEAAAAYQZoWSeEKUmUwIZ/+nhAB8vX38iRH1hGzAAAAGEGaN0nhDomUwIZ//p4QAUj3TfRUrNfApwAAABhBmlhJ4Q8mUwIZ//6eEADT+vv5EiPrCf8AAAAZQZp5SeEPJlMCG//+p4QAIt8dPqONCQ5gQAAAAB1BmptJ4Q8mUwURPDf//qeEABbPdT9zIwtmKEc0LQAAAA8BnrpqQr8AEllbpRpDxpYAAAAcQZq9SeEPJlMFPDf//qeEAA43sH+cp14Ua3Mk+QAAABABntxqQr8AC6Nuiqzj8DKxAAAAGUGa3knhDyZTAhv//qeEAAj3x0+o40JD3cAAAAAZQZriSeEPJlMCGf/+nhAAIah/oGNPQX8btgAAABVBnwBFETwv/wAFQoEU8GFQR+7V7XUAAAAPAZ8/dEK/AAS12UKTbJalAAAAEAGfIWpCvwAHFZ4F1/biNcEAAAAZQZsjSahBaJlMCGf//p4QADSyGOfw5zfXtwAAABlBm0RJ4QpSZTAhv/6nhAAU/0T/Vb5j8VBBAAAAJkGbZknhDomUwU0TDP/+nhAAxOzJP4hHeL//iEZKj//Zm+vHu42BAAAAEAGfhWpCvwAo9jxyv7cP8EEAAAAZQZuHSeEPJlMCG//+p4QATVAFm22fZ81JwQAAACVBm6lJ4Q8mUwURPDf//qeEALpxes/EIAf/wlSx5//5q/0VdN7UAAAAEAGfyGpCvwCW7PHK/tw+p8AAAAAkQZvLSeEPJlMFPDf//qeEAgub7L4hAD/+EqWPP//HEOwrsncRAAAAEAGf6mpCvwFsseOV/bh81sAAAAAYQZvsSeEPJlMCG//+p4QCIYzHkYn+FPIOAAAAG0GaD0nhDyZTAhn//p4QCC+If3kB3ua7YJ15OQAAABJBni1FETwr/wF/Zua4+ciiR+0AAAAQAZ5OakK/AX8ltOvAE/k8gQAAABxBmlFJqEFomUwU8M/+nhAC++6b7XvOVbirN7WgAAAAEAGecGpCvwCj0o3mmKtpBMAAAAAYQZpySeEKUmUwIZ/+nhAB8vX38iRH1hGzAAAAGEGak0nhDomUwIZ//p4QAUj3TfRUrNfApgAAABhBmrRJ4Q8mUwIZ//6eEADT+vv5EiPrCf4AAAAZQZrVSeEPJlMCG//+p4QAIt8dPqONCQ5gQQAAAB1BmvdJ4Q8mUwURPDf//qeEABbPdT9zIwtmKEc0LAAAAA8BnxZqQr8AEllbpRpDxpcAAAAcQZsZSeEPJlMFPDf//qeEAA43sH+cp14Ua3Mk+QAAABABnzhqQr8AC6Nuiqzj8DKwAAACNGWIggAEP/73SnzLLZD+/8tn/8Yf/C3+1/2a8u1s3iGFZkICqIwnf+al+pFqltIxFvLWBgkIZXDhG9/34k26A2CDhWgRVZG8MxCw0nzLIJ2f8CmtstOUA+jxJkvi8SYAxbqRmgT3S6LtbZdKdPEu5hZqq7nTur8Oyofo1ruUpPVDDxM2Zm7BUmfqB1d0Al1luA0l+A643yMhW6IjOC5nb2wEHVQe431tlHd9TmJISjyYuvm13Ljyv9HbDgn4g7duj7JWqdFxaAmF2wGDWVRZXGXdp4QYW01UHD7kfRoEa9yhjZfujBxB/wL26QTVg3F45i2zOsfcx8ERY16KfEKxiWWumjfHRhsJSNt5tSy8cOKs+of/Klry9jjrIhNVAOodwPRyA0Dg2KFS9u//85oE34Y8OeAAGlokWkqWpBcxWdhc5LVsNdP7XHL1LhqTxhywIIAAwQIZ/Ei/v9Fxy7RZEaHvkRx/Qg/+QA7ksrWdFcZfRfeJjdmIDk5o4vi/5DNIZlNeghaJhkPg6lMsBxW0352cnTnJJhrYPbICVFKIEL694574Vuj7oXfRef3k0hFtcs+OZtssvLGBppB3A6falsW4DgwjTxwxypomBNQJ1MAFCIALlXe+tKl82IwutwqY4leYYsXANrkIvDzxM77QQN0KjiiGzhl1WdXTLIHwvZm2Ja+v4dZp/DPnidw13MUWDiG8bBrK/t1zYM8iZS9U5D5lcnGHJqTdNYl7sFVbBBdrSsACFwAAABZBmiRsQz/+nhAAIaS502C9Edff04WAAAAAE0GeQniF/wAFQtblusKun7tXtdEAAAAPAZ5hdEK/AAS12UKTbJalAAAAEAGeY2pCvwAHFZ4F1/biNcAAAAAZQZplSahBaJlMCGf//p4QADSyGOfw5zfXtwAAABlBmoZJ4QpSZTAhv/6nhAAU/0T/Vb5j8VBBAAAAJkGaqEnhDomUwU0TDP/+nhAAxOzJP4hHeL//iEZKj//Zm+vHu42AAAAAEAGex2pCvwAo9jxyv7cP8EEAAAAZQZrJSeEPJlMCG//+p4QATVAFm22fZ81JwAAAACVBmutJ4Q8mUwURPDf//qeEALpxes/EIAf/wlSx5//5q/0VdN7VAAAAEAGfCmpCvwCW7PHK/tw+p8EAAAAkQZsNSeEPJlMFPDf//qeEAgub7L4hAD/+EqWPP//HEOwrsncRAAAAEAGfLGpCvwFsseOV/bh81sEAAAAYQZsuSeEPJlMCG//+p4QCIYzHkYn+FPIOAAAAG0GbUUnhDyZTAhn//p4QCC+If3kB3ua7YJ15OAAAABJBn29FETwr/wF/Zua4+ciiR+0AAAAQAZ+QakK/AX8ltOvAE/k8gAAAABxBm5NJqEFomUwU8M/+nhAC++6b7XvOVbirN7WgAAAAEAGfsmpCvwCj0o3mmKtpBMEAAAAYQZu0SeEKUmUwIZ/+nhAB8vX38iRH1hGzAAAAGEGb1UnhDomUwIZ//p4QAUj3TfRUrNfApwAAABhBm/ZJ4Q8mUwIZ//6eEADT+vv5EiPrCf4AAAAZQZoXSeEPJlMCG//+p4QAIt8dPqONCQ5gQAAAAB1BmjlJ4Q8mUwURPDf//qeEABbPdT9zIwtmKEc0LQAAAA8BnlhqQr8AEllbpRpDxpYAAAAcQZpbSeEPJlMFPDf//qeEAA43sH+cp14Ua3Mk+AAAABABnnpqQr8AC6Nuiqzj8DKxAAAAGUGafEnhDyZTAhv//qeEAAj3x0+o40JD3cAAAAAZQZqASeEPJlMCGf/+nhAAIah/oGNPQX8btwAAABVBnr5FETwv/wAFQoEU8GFQR+7V7XUAAAAPAZ7ddEK/AAS12UKTbJalAAAAEAGe32pCvwAHFZ4F1/biNcEAAAAZQZrBSahBaJlMCGf//p4QADSyGOfw5zfXtwAAABlBmuJJ4QpSZTAhv/6nhAAU/0T/Vb5j8VBBAAAAJkGbBEnhDomUwU0TDP/+nhAAxOzJP4hHeL//iEZKj//Zm+vHu42BAAAAEAGfI2pCvwAo9jxyv7cP8EAAAAAZQZslSeEPJlMCG//+p4QATVAFm22fZ81JwAAAACVBm0dJ4Q8mUwURPDf//qeEALpxes/EIAf/wlSx5//5q/0VdN7VAAAAEAGfZmpCvwCW7PHK/tw+p8AAAAAkQZtpSeEPJlMFPDf//qeEAgub7L4hAD/+EqWPP//HEOwrsncRAAAAEAGfiGpCvwFsseOV/bh81sAAAAAYQZuKSeEPJlMCG//+p4QCIYzHkYn+FPIPAAAAG0GbrUnhDyZTAhn//p4QCC+If3kB3ua7YJ15OQAAABJBn8tFETwr/wF/Zua4+ciiR+0AAAAQAZ/sakK/AX8ltOvAE/k8gQAAABxBm+9JqEFomUwU8M/+nhAC++6b7XvOVbirN7WgAAAAEAGeDmpCvwCj0o3mmKtpBMAAAAAYQZoQSeEKUmUwIZ/+nhAB8vX38iRH1hGzAAAAGEGaMUnhDomUwIZ//p4QAUj3TfRUrNfApgAAABtBmlNL4QhDyRGCCgH8gH9h4BRE8K/+OEAAEXAAAAAkAZ5yakK/Aq9j7UHE3arDSSblqoYHLLW7zDIg/MBmU0il/EexAAAPpG1vb3YAAABsbXZoZAAAAAAAAAAAAAAAAAAAA+gAAC8wAAEAAAEAAAAAAAAAAAAAAAABAAAAAAAAAAAAAAAAAAAAAQAAAAAAAAAAAAAAAAAAQAAAAAAAAAAAAAAAAAAAAAAAAAAAAAAAAAAAAAAAAAIAAA7OdHJhawAAAFx0a2hkAAAAAwAAAAAAAAAAAAAAAQAAAAAAAC8wAAAAAAAAAAAAAAAAAAAAAAABAAAAAAAAAAAAAAAAAAAAAQAAAAAAAAAAAAAAAAAAQAAAAAEQAAABEAAAAAAAJGVkdHMAAAAcZWxzdAAAAAAAAAABAAAvMAAABAAAAQAAAAAORm1kaWEAAAAgbWRoZAAAAAAAAAAAAAAAAAAAMgAAAlwAVcQAAAAAAC1oZGxyAAAAAAAAAAB2aWRlAAAAAAAAAAAAAAAAVmlkZW9IYW5kbGVyAAAADfFtaW5mAAAAFHZtaGQAAAABAAAAAAAAAAAAAAAkZGluZgAAABxkcmVmAAAAAAAAAAEAAAAMdXJsIAAAAAEAAA2xc3RibAAAAJVzdHNkAAAAAAAAAAEAAACFYXZjMQAAAAAAAAABAAAAAAAAAAAAAAAAAAAAAAEQARAASAAAAEgAAAAAAAAAAQAAAAAAAAAAAAAAAAAAAAAAAAAAAAAAAAAAAAAAAAAAABj//wAAAC9hdmNDAfQADf/hABdn9AANkZsoIhHQgAAAAwCAAAAZB4oUywEABWjr48RIAAAAGHN0dHMAAAAAAAAAAQAAAS4AAAIAAAAAGHN0c3MAAAAAAAAAAgAAAAEAAAD7AAAH6GN0dHMAAAAAAAAA+wAAAAEAAAQAAAAAAQAACgAAAAABAAAEAAAAAAEAAAAAAAAAAQAAAgAAAAADAAAEAAAAAAEAAAoAAAAAAQAABAAAAAABAAAAAAAAAAEAAAIAAAAAAQAABgAAAAABAAACAAAAAAEAAAYAAAAAAQAAAgAAAAABAAAEAAAAAAEAAAYAAAAAAQAAAgAAAAADAAAEAAAAAAEAAAYAAAAAAQAAAgAAAAABAAAEAAAAAAEAAAYAAAAAAQAAAgAAAAABAAAEAAAAAAEAAAoAAAAAAQAABAAAAAABAAAAAAAAAAEAAAIAAAAAAgAABAAAAAABAAAGAAAAAAEAAAIAAAAAAwAABAAAAAABAAAGAAAAAAEAAAIAAAAAAQAABAAAAAABAAAGAAAAAAEAAAIAAAAAAQAABAAAAAABAAAIAAAAAAIAAAIAAAAAAQAABAAAAAABAAAGAAAAAAEAAAIAAAAAAQAACgAAAAABAAAEAAAAAAEAAAAAAAAAAQAAAgAAAAAFAAAEAAAAAAEAAAYAAAAAAQAAAgAAAAABAAAGAAAAAAEAAAIAAAAAAQAABAAAAAABAAAGAAAAAAEAAAIAAAAAAQAABAAAAAABAAAKAAAAAAEAAAQAAAAAAQAAAAAAAAABAAACAAAAAAIAAAQAAAAAAQAABgAAAAABAAACAAAAAAEAAAYAAAAAAQAAAgAAAAABAAAGAAAAAAEAAAIAAAAAAQAABgAAAAABAAACAAAAAAEAAAQAAAAAAQAACgAAAAABAAAEAAAAAAEAAAAAAAAAAQAAAgAAAAACAAAEAAAAAAEAAAYAAAAAAQAAAgAAAAABAAAEAAAAAAEAAAYAAAAAAQAAAgAAAAABAAAGAAAAAAEAAAIAAAAAAQAABAAAAAABAAAIAAAAAAIAAAIAAAAAAQAABgAAAAABAAACAAAAAAQAAAQAAAAAAQAABgAAAAABAAACAAAAAAEAAAYAAAAAAQAAAgAAAAABAAAEAAAAAAEAAAoAAAAAAQAABAAAAAABAAAAAAAAAAEAAAIAAAAAAgAABAAAAAABAAAGAAAAAAEAAAIAAAAAAQAABAAAAAABAAAGAAAAAAEAAAIAAAAAAQAABgAAAAABAAACAAAAAAEAAAQAAAAAAQAACAAAAAACAAACAAAAAAEAAAYAAAAAAQAAAgAAAAAEAAAEAAAAAAEAAAYAAAAAAQAAAgAAAAABAAAGAAAAAAEAAAIAAAAAAQAABAAAAAABAAAKAAAAAAEAAAQAAAAAAQAAAAAAAAABAAACAAAAAAIAAAQAAAAAAQAABgAAAAABAAACAAAAAAEAAAQAAAAAAQAABgAAAAABAAACAAAAAAEAAAYAAAAAAQAAAgAAAAABAAAEAAAAAAEAAAgAAAAAAgAAAgAAAAABAAAGAAAAAAEAAAIAAAAABAAABAAAAAABAAAGAAAAAAEAAAIAAAAAAQAABgAAAAABAAACAAAAAAEAAAQAAAAAAQAACgAAAAABAAAEAAAAAAEAAAAAAAAAAQAAAgAAAAACAAAEAAAAAAEAAAYAAAAAAQAAAgAAAAABAAAEAAAAAAEAAAYAAAAAAQAAAgAAAAABAAAGAAAAAAEAAAIAAAAAAQAABAAAAAABAAAIAAAAAAIAAAIAAAAAAQAABgAAAAABAAACAAAAAAQAAAQAAAAAAQAABgAAAAABAAACAAAAAAEAAAYAAAAAAQAAAgAAAAABAAAEAAAAAAEAAAoAAAAAAQAABAAAAAABAAAAAAAAAAEAAAIAAAAAAgAABAAAAAABAAAGAAAAAAEAAAIAAAAAAQAABAAAAAABAAAGAAAAAAEAAAIAAAAAAQAABgAAAAABAAACAAAAAAEAAAQAAAAAAQAACAAAAAACAAACAAAAAAEAAAYAAAAAAQAAAgAAAAAEAAAEAAAAAAEAAAYAAAAAAQAAAgAAAAABAAAGAAAAAAEAAAIAAAAAAQAABAAAAAABAAAKAAAAAAEAAAQAAAAAAQAAAAAAAAABAAACAAAAAAIAAAQAAAAAAQAABgAAAAABAAACAAAAAAEAAAQAAAAAAQAABgAAAAABAAACAAAAAAEAAAYAAAAAAQAAAgAAAAABAAAEAAAAAAEAAAgAAAAAAgAAAgAAAAABAAAGAAAAAAEAAAIAAAAABAAABAAAAAABAAAGAAAAAAEAAAIAAAAAAQAABgAAAAABAAACAAAAAAEAAAQAAAAAAQAACgAAAAABAAAEAAAAAAEAAAAAAAAAAQAAAgAAAAACAAAEAAAAAAEAAAYAAAAAAQAAAgAAAAABAAAEAAAAAAEAAAYAAAAAAQAAAgAAAAABAAAGAAAAAAEAAAIAAAAAAQAABAAAAAABAAAIAAAAAAIAAAIAAAAAAQAABgAAAAABAAACAAAAAAQAAAQAAAAAAQAABgAAAAABAAACAAAAAAEAAAYAAAAAAQAAAgAAAAABAAAEAAAAAAEAAAoAAAAAAQAABAAAAAABAAAAAAAAAAEAAAIAAAAAAgAABAAAAAABAAAGAAAAAAEAAAIAAAAAAQAABAAAAAABAAAGAAAAAAEAAAIAAAAAAQAABgAAAAABAAACAAAAAAEAAAQAAAAAAQAACAAAAAACAAACAAAAAAEAAAYAAAAAAQAAAgAAAAACAAAEAAAAAAEAAAYAAAAAAQAAAgAAAAAcc3RzYwAAAAAAAAABAAAAAQAAAS4AAAABAAAEzHN0c3oAAAAAAAAAAAAAAS4AAAWZAAAAHwAAABcAAAAUAAAAFAAAAB0AAAAdAAAAHQAAABsAAAAXAAAAFAAAABQAAAArAAAAFAAAACIAAAAUAAAAHAAAACMAAAAUAAAAHAAAABwAAAAdAAAAIgAAABQAAAAdAAAAIgAAABQAAAAdAAAAHgAAABgAAAAUAAAAFAAAAB0AAAAcAAAAIwAAABQAAAAcAAAAHAAAABwAAAAhAAAAEwAAAB0AAAAmAAAAFAAAAB0AAAAlAAAAFgAAABQAAAAcAAAAIQAAABQAAAAcAAAAGQAAABMAAAAUAAAAHQAAAB4AAAAbAAAAHAAAAB0AAAAlAAAAFAAAACkAAAAUAAAAHAAAACIAAAAUAAAAHQAAACIAAAAaAAAAFAAAABMAAAAeAAAAHQAAACEAAAAUAAAAIAAAABQAAAAgAAAAEwAAACAAAAAUAAAAHQAAAB0AAAAZAAAAEwAAABQAAAAdAAAAHQAAACoAAAAUAAAAHQAAACkAAAAUAAAAKAAAABQAAAAcAAAAHwAAABYAAAAUAAAAIAAAABQAAAAcAAAAHAAAABwAAAAdAAAAIQAAABMAAAAgAAAAFAAAAB0AAAAdAAAAGQAAABMAAAAUAAAAHQAAAB0AAAAqAAAAFAAAAB0AAAApAAAAFAAAACgAAAAUAAAAHAAAAB8AAAAWAAAAFAAAACAAAAAUAAAAHAAAABwAAAAcAAAAHQAAACEAAAATAAAAIAAAABQAAAAdAAAAHQAAABkAAAATAAAAFAAAAB0AAAAdAAAAKgAAABQAAAAdAAAAKQAAABQAAAAoAAAAFAAAABwAAAAfAAAAFgAAABQAAAAgAAAAFAAAABwAAAAcAAAAHAAAAB0AAAAhAAAAEwAAACAAAAAUAAAAHQAAAB0AAAAZAAAAEwAAABQAAAAdAAAAHQAAACoAAAAUAAAAHQAAACkAAAAUAAAAKAAAABQAAAAcAAAAHwAAABYAAAAUAAAAIAAAABQAAAAcAAAAHAAAABwAAAAdAAAAIQAAABMAAAAgAAAAFAAAAB0AAAAdAAAAGQAAABMAAAAUAAAAHQAAAB0AAAAqAAAAFAAAAB0AAAApAAAAFAAAACgAAAAUAAAAHAAAAB8AAAAWAAAAFAAAACAAAAAUAAAAHAAAABwAAAAcAAAAHQAAACEAAAATAAAAIAAAABQAAAAdAAAAHQAAABkAAAATAAAAFAAAAB0AAAAdAAAAKgAAABQAAAAdAAAAKQAAABQAAAAoAAAAFAAAABwAAAAfAAAAFgAAABQAAAAgAAAAFAAAABwAAAAcAAAAHAAAAB0AAAAhAAAAEwAAACAAAAAUAAACOAAAABoAAAAXAAAAEwAAABQAAAAdAAAAHQAAACoAAAAUAAAAHQAAACkAAAAUAAAAKAAAABQAAAAcAAAAHwAAABYAAAAUAAAAIAAAABQAAAAcAAAAHAAAABwAAAAdAAAAIQAAABMAAAAgAAAAFAAAAB0AAAAdAAAAGQAAABMAAAAUAAAAHQAAAB0AAAAqAAAAFAAAAB0AAAApAAAAFAAAACgAAAAUAAAAHAAAAB8AAAAWAAAAFAAAACAAAAAUAAAAHAAAABwAAAAfAAAAKAAAABRzdGNvAAAAAAAAAAEAAAAwAAAAYnVkdGEAAABabWV0YQAAAAAAAAAhaGRscgAAAAAAAAAAbWRpcmFwcGwAAAAAAAAAAAAAAAAtaWxzdAAAACWpdG9vAAAAHWRhdGEAAAABAAAAAExhdmY1OC4yMC4xMDA=\" type=\"video/mp4\" />\n",
       "             </video>"
      ],
      "text/plain": [
       "<IPython.core.display.HTML object>"
      ]
     },
     "execution_count": 18,
     "metadata": {},
     "output_type": "execute_result"
    }
   ],
   "source": [
    "HTML(display_videos('cnn_test0.mp4'))"
   ]
  },
  {
   "cell_type": "code",
   "execution_count": 19,
   "metadata": {},
   "outputs": [
    {
     "data": {
      "text/html": [
       "<video alt=\"test\" controls>\n",
       "                <source src=\"data:video/mp4;base64,AAAAIGZ0eXBpc29tAAACAGlzb21pc28yYXZjMW1wNDEAAAAIZnJlZQAAIcptZGF0AAACrQYF//+p3EXpvebZSLeWLNgg2SPu73gyNjQgLSBjb3JlIDE1MiByMjg1NCBlOWE1OTAzIC0gSC4yNjQvTVBFRy00IEFWQyBjb2RlYyAtIENvcHlsZWZ0IDIwMDMtMjAxNyAtIGh0dHA6Ly93d3cudmlkZW9sYW4ub3JnL3gyNjQuaHRtbCAtIG9wdGlvbnM6IGNhYmFjPTEgcmVmPTMgZGVibG9jaz0xOjA6MCBhbmFseXNlPTB4MToweDExMSBtZT1oZXggc3VibWU9NyBwc3k9MSBwc3lfcmQ9MS4wMDowLjAwIG1peGVkX3JlZj0xIG1lX3JhbmdlPTE2IGNocm9tYV9tZT0xIHRyZWxsaXM9MSA4eDhkY3Q9MCBjcW09MCBkZWFkem9uZT0yMSwxMSBmYXN0X3Bza2lwPTEgY2hyb21hX3FwX29mZnNldD00IHRocmVhZHM9NiBsb29rYWhlYWRfdGhyZWFkcz0xIHNsaWNlZF90aHJlYWRzPTAgbnI9MCBkZWNpbWF0ZT0xIGludGVybGFjZWQ9MCBibHVyYXlfY29tcGF0PTAgY29uc3RyYWluZWRfaW50cmE9MCBiZnJhbWVzPTMgYl9weXJhbWlkPTIgYl9hZGFwdD0xIGJfYmlhcz0wIGRpcmVjdD0xIHdlaWdodGI9MSBvcGVuX2dvcD0wIHdlaWdodHA9MiBrZXlpbnQ9MjUwIGtleWludF9taW49MjUgc2NlbmVjdXQ9NDAgaW50cmFfcmVmcmVzaD0wIHJjX2xvb2thaGVhZD00MCByYz1jcmYgbWJ0cmVlPTEgY3JmPTIzLjAgcWNvbXA9MC42MCBxcG1pbj0wIHFwbWF4PTY5IHFwc3RlcD00IGlwX3JhdGlvPTEuNDAgYXE9MToxLjAwAIAAAAMjZYiEADP//vaG+BTYUyP+T7/8I/+5H7cfWfrixkIJvrVeQ9GAMl8a/5lGYaXpyc8t7R+vTNAEZz8ZS8pY/spie2VZtD4FNXSdXzLB1xgOKQQjVqz4mUqJFwskRR++dVEwoap7QUVCFFnTxXV0kkU3RFFO0ENqqwKgCngB2tGtuMu+16sioJqZJ9QQW5NbJprPD8Cz1pRx5gWKB2fNDY5sSFvEu+sp0GqpRFf2lR3TqagiYiI3lPgMPX/WeoEd/xNYmF1TzrhVKoLND0Axsfv1ftzsEa9xJhOIDNe7Tq1z6i4++qgtzuU7AIicwRv4f7iW5xnEn4JExNED0SN0MahWnP2LbXq3QyEYZtv9+vATDwKbHpmCMZLrJtJZXJV6hfqbXcpZUZnQWMLnCrZc0hCH9Aa0cyK5zjYeRGKw87arkcUVIORTFq+PO+qCaoxw97dhzaAQxwYnlciehyVNWwtsA+d8cxBWa3lTbkp1wQO30o9LznkocR6Png/mRMjKawuECm/xrQjG4pQcpKesoeA/BN7SClNYPryRMR9fVGbPo4QccFmrRAlPN8WLSRBIsaX13WU3LIhYte7bpK5pAAs+lEJvxLQuje+/Ur4hqao2Ji1rLF+kpteyCBJ4rvbCRkmrwDSPvZQnB+FEDhNglD4vH0kAe5VZP7/2M+aJyY17NsPvrn8qUWGAFAh3qe5kszHyR5+mEpyqWHxAACDNw2r4ZgXJQ+f96wIdul5fm7nSgfkLEdgOa1J2OaHBKQzrAHkJSaOQfeLkGtqUzgFl1v40jDnfLijQNsjnVZi7S7LKfLJ1NWOC2AOTwNiRx6EGkYa1Ksl+vV7wmUBVMAQ78djdo1xVMWVVyyuGdjkjeq/mU+cGIXcg6xzvNxPWQIEnTBlgxt7NiaQAsnDgRUPcGSmcrw+oBbZ9HoLWUkRKJAXRdb4Q2qqJ9tYOn7NXS3Epz/HpzCV/uC7ENxx4pUjQXHQuYkEQfYXBVc/c2U9GyKIksOuRaS8YAbqvsA2uXk4pXovopWooy5Kake77gwsRHoKoWYjQiHo2rN43g7rSfHPT+7AAARkAAAAUQZohbEN//qeEAC1mNZttn2fNfMAAAAAXQZpCPCGTKYQ3//6nhAAueK0ghE/y3AsAAAASQZpkSeEPJlMFPDf//qeEAAEnAAAADwGeg2pCvwAlwawLr/AmwQAAABJBmoZJ4Q8mUwU8N//+p4QAAScAAAAQAZ6lakK/ACW2ucLpJSY1uQAAABJBmqhJ4Q8mUwU8N//+p4QAAScAAAAQAZ7HakK/ACW2ucLpJSY1uAAAABJBmspJ4Q8mUwU8N//+p4QAAScAAAAQAZ7pakK/ACW2ucLpJSY1uQAAABJBmuxJ4Q8mUwU8N//+p4QAAScAAAAQAZ8LakK/ACW2ucLpJSY1uAAAABJBmw5J4Q8mUwU8N//+p4QAAScAAAAQAZ8takK/ACW2ucLpJSY1uQAAABJBmzBJ4Q8mUwU8N//+p4QAAScAAAAQAZ9PakK/ACW2ucLpJSY1uAAAABJBm1JJ4Q8mUwU8N//+p4QAAScAAAAQAZ9xakK/ACW2ucLpJSY1uQAAABJBm3RJ4Q8mUwU8N//+p4QAAScAAAAQAZ+TakK/ACW2ucLpJSY1uAAAABJBm5ZJ4Q8mUwU8N//+p4QAAScAAAAQAZ+1akK/ACW2ucLpJSY1uAAAABJBm7hJ4Q8mUwU8N//+p4QAAScAAAAQAZ/XakK/ACW2ucLpJSY1uQAAABJBm9pJ4Q8mUwU8N//+p4QAAScAAAAQAZ/5akK/ACW2ucLpJSY1uQAAABJBm/xJ4Q8mUwU8N//+p4QAAScAAAAQAZ4bakK/ACW2ucLpJSY1uQAAABJBmh5J4Q8mUwU8N//+p4QAAScAAAAQAZ49akK/ACW2ucLpJSY1uAAAABJBmiBJ4Q8mUwU8N//+p4QAAScAAAAQAZ5fakK/ACW2ucLpJSY1uQAAABJBmkJJ4Q8mUwU8N//+p4QAAScAAAAQAZ5hakK/ACW2ucLpJSY1uQAAABJBmmRJ4Q8mUwU8N//+p4QAAScAAAAQAZ6DakK/ACW2ucLpJSY1uQAAABJBmoZJ4Q8mUwU8N//+p4QAAScAAAAQAZ6lakK/ACW2ucLpJSY1uQAAABJBmqhJ4Q8mUwU8N//+p4QAAScAAAAQAZ7HakK/ACW2ucLpJSY1uAAAABJBmspJ4Q8mUwU8N//+p4QAAScAAAAQAZ7pakK/ACW2ucLpJSY1uQAAABJBmuxJ4Q8mUwU8N//+p4QAAScAAAAQAZ8LakK/ACW2ucLpJSY1uAAAABJBmw5J4Q8mUwU8N//+p4QAAScAAAAQAZ8takK/ACW2ucLpJSY1uQAAABJBmzBJ4Q8mUwU8N//+p4QAAScAAAAQAZ9PakK/ACW2ucLpJSY1uAAAABJBm1JJ4Q8mUwU8N//+p4QAAScAAAAQAZ9xakK/ACW2ucLpJSY1uQAAABJBm3RJ4Q8mUwU8N//+p4QAAScAAAAQAZ+TakK/ACW2ucLpJSY1uAAAABJBm5ZJ4Q8mUwU8N//+p4QAAScAAAAQAZ+1akK/ACW2ucLpJSY1uAAAABJBm7hJ4Q8mUwU8N//+p4QAAScAAAAQAZ/XakK/ACW2ucLpJSY1uQAAABJBm9pJ4Q8mUwU8N//+p4QAAScAAAAQAZ/5akK/ACW2ucLpJSY1uQAAABJBm/xJ4Q8mUwU8N//+p4QAAScAAAAQAZ4bakK/ACW2ucLpJSY1uQAAABJBmh5J4Q8mUwU8N//+p4QAAScAAAAQAZ49akK/ACW2ucLpJSY1uAAAABJBmiBJ4Q8mUwU8N//+p4QAAScAAAAQAZ5fakK/ACW2ucLpJSY1uQAAABJBmkJJ4Q8mUwU8N//+p4QAAScAAAAQAZ5hakK/ACW2ucLpJSY1uQAAABJBmmRJ4Q8mUwU8N//+p4QAAScAAAAQAZ6DakK/ACW2ucLpJSY1uQAAABJBmoZJ4Q8mUwU8N//+p4QAAScAAAAQAZ6lakK/ACW2ucLpJSY1uQAAABJBmqhJ4Q8mUwU8N//+p4QAAScAAAAQAZ7HakK/ACW2ucLpJSY1uAAAABJBmspJ4Q8mUwU8N//+p4QAAScAAAAQAZ7pakK/ACW2ucLpJSY1uQAAABJBmuxJ4Q8mUwU8N//+p4QAAScAAAAQAZ8LakK/ACW2ucLpJSY1uAAAABJBmw5J4Q8mUwU8N//+p4QAAScAAAAQAZ8takK/ACW2ucLpJSY1uQAAABJBmzBJ4Q8mUwU8N//+p4QAAScAAAAQAZ9PakK/ACW2ucLpJSY1uAAAABJBm1JJ4Q8mUwU8N//+p4QAAScAAAAQAZ9xakK/ACW2ucLpJSY1uQAAABJBm3RJ4Q8mUwU8N//+p4QAAScAAAAQAZ+TakK/ACW2ucLpJSY1uAAAABJBm5ZJ4Q8mUwU8N//+p4QAAScAAAAQAZ+1akK/ACW2ucLpJSY1uAAAABJBm7hJ4Q8mUwU8N//+p4QAAScAAAAQAZ/XakK/ACW2ucLpJSY1uQAAABJBm9pJ4Q8mUwU8N//+p4QAAScAAAAQAZ/5akK/ACW2ucLpJSY1uQAAABJBm/xJ4Q8mUwU8N//+p4QAAScAAAAQAZ4bakK/ACW2ucLpJSY1uQAAABJBmh5J4Q8mUwU8N//+p4QAAScAAAAQAZ49akK/ACW2ucLpJSY1uAAAABJBmiBJ4Q8mUwU8N//+p4QAAScAAAAQAZ5fakK/ACW2ucLpJSY1uQAAABJBmkJJ4Q8mUwU8N//+p4QAAScAAAAQAZ5hakK/ACW2ucLpJSY1uQAAABJBmmRJ4Q8mUwU8N//+p4QAAScAAAAQAZ6DakK/ACW2ucLpJSY1uQAAABJBmoZJ4Q8mUwU8N//+p4QAAScAAAAQAZ6lakK/ACW2ucLpJSY1uQAAABJBmqhJ4Q8mUwU8N//+p4QAAScAAAAQAZ7HakK/ACW2ucLpJSY1uAAAABJBmspJ4Q8mUwU8N//+p4QAAScAAAAQAZ7pakK/ACW2ucLpJSY1uQAAABJBmuxJ4Q8mUwU8N//+p4QAAScAAAAQAZ8LakK/ACW2ucLpJSY1uAAAABJBmw5J4Q8mUwU8N//+p4QAAScAAAAQAZ8takK/ACW2ucLpJSY1uQAAABJBmzBJ4Q8mUwU8N//+p4QAAScAAAAQAZ9PakK/ACW2ucLpJSY1uAAAABJBm1JJ4Q8mUwU8N//+p4QAAScAAAAQAZ9xakK/ACW2ucLpJSY1uQAAABJBm3RJ4Q8mUwU8N//+p4QAAScAAAAQAZ+TakK/ACW2ucLpJSY1uAAAABJBm5ZJ4Q8mUwU8N//+p4QAAScAAAAQAZ+1akK/ACW2ucLpJSY1uAAAABJBm7hJ4Q8mUwU8N//+p4QAAScAAAAQAZ/XakK/ACW2ucLpJSY1uQAAABJBm9pJ4Q8mUwU8N//+p4QAAScAAAAQAZ/5akK/ACW2ucLpJSY1uQAAABJBm/xJ4Q8mUwU8N//+p4QAAScAAAAQAZ4bakK/ACW2ucLpJSY1uQAAABJBmh5J4Q8mUwU8N//+p4QAAScAAAAQAZ49akK/ACW2ucLpJSY1uAAAABJBmiBJ4Q8mUwU8N//+p4QAAScAAAAQAZ5fakK/ACW2ucLpJSY1uQAAABJBmkJJ4Q8mUwU8N//+p4QAAScAAAAQAZ5hakK/ACW2ucLpJSY1uQAAABJBmmRJ4Q8mUwU8N//+p4QAAScAAAAQAZ6DakK/ACW2ucLpJSY1uQAAABJBmoZJ4Q8mUwU8N//+p4QAAScAAAAQAZ6lakK/ACW2ucLpJSY1uQAAABJBmqhJ4Q8mUwU8N//+p4QAAScAAAAQAZ7HakK/ACW2ucLpJSY1uAAAABJBmspJ4Q8mUwU8N//+p4QAAScAAAAQAZ7pakK/ACW2ucLpJSY1uQAAABJBmuxJ4Q8mUwU8N//+p4QAAScAAAAQAZ8LakK/ACW2ucLpJSY1uAAAABJBmw5J4Q8mUwU8N//+p4QAAScAAAAQAZ8takK/ACW2ucLpJSY1uQAAABJBmzBJ4Q8mUwU8N//+p4QAAScAAAAQAZ9PakK/ACW2ucLpJSY1uAAAABJBm1JJ4Q8mUwU8N//+p4QAAScAAAAQAZ9xakK/ACW2ucLpJSY1uQAAABJBm3RJ4Q8mUwU8N//+p4QAAScAAAAQAZ+TakK/ACW2ucLpJSY1uAAAABJBm5ZJ4Q8mUwU8N//+p4QAAScAAAAQAZ+1akK/ACW2ucLpJSY1uAAAABJBm7hJ4Q8mUwU8N//+p4QAAScAAAAQAZ/XakK/ACW2ucLpJSY1uQAAABJBm9pJ4Q8mUwU8N//+p4QAAScAAAAQAZ/5akK/ACW2ucLpJSY1uQAAABJBm/xJ4Q8mUwU8N//+p4QAAScAAAAQAZ4bakK/ACW2ucLpJSY1uQAAABJBmh5J4Q8mUwU8N//+p4QAAScAAAAQAZ49akK/ACW2ucLpJSY1uAAAABJBmiBJ4Q8mUwU8N//+p4QAAScAAAAQAZ5fakK/ACW2ucLpJSY1uQAAABJBmkJJ4Q8mUwU8N//+p4QAAScAAAAQAZ5hakK/ACW2ucLpJSY1uQAAABJBmmRJ4Q8mUwU8N//+p4QAAScAAAAQAZ6DakK/ACW2ucLpJSY1uQAAABJBmoZJ4Q8mUwU8N//+p4QAAScAAAAQAZ6lakK/ACW2ucLpJSY1uQAAABJBmqhJ4Q8mUwU8N//+p4QAAScAAAAQAZ7HakK/ACW2ucLpJSY1uAAAABJBmspJ4Q8mUwU8N//+p4QAAScAAAAQAZ7pakK/ACW2ucLpJSY1uQAAABJBmuxJ4Q8mUwU8N//+p4QAAScAAAAQAZ8LakK/ACW2ucLpJSY1uAAAABJBmw5J4Q8mUwU8N//+p4QAAScAAAAQAZ8takK/ACW2ucLpJSY1uQAAABJBmzBJ4Q8mUwU8N//+p4QAAScAAAAQAZ9PakK/ACW2ucLpJSY1uAAAABJBm1JJ4Q8mUwU8N//+p4QAAScAAAAQAZ9xakK/ACW2ucLpJSY1uQAAABJBm3RJ4Q8mUwU8N//+p4QAAScAAAAQAZ+TakK/ACW2ucLpJSY1uAAAABJBm5ZJ4Q8mUwU8N//+p4QAAScAAAAQAZ+1akK/ACW2ucLpJSY1uAAAABJBm7hJ4Q8mUwU8N//+p4QAAScAAAAQAZ/XakK/ACW2ucLpJSY1uQAAABJBm9pJ4Q8mUwU8N//+p4QAAScAAAAQAZ/5akK/ACW2ucLpJSY1uQAAABJBm/xJ4Q8mUwU8N//+p4QAAScAAAAQAZ4bakK/ACW2ucLpJSY1uQAAABJBmh5J4Q8mUwU8N//+p4QAAScAAAAQAZ49akK/ACW2ucLpJSY1uAAAABJBmiBJ4Q8mUwU8N//+p4QAAScAAAAQAZ5fakK/ACW2ucLpJSY1uQAAABJBmkJJ4Q8mUwU8N//+p4QAAScAAAAQAZ5hakK/ACW2ucLpJSY1uQAAABJBmmRJ4Q8mUwU8N//+p4QAAScAAAAQAZ6DakK/ACW2ucLpJSY1uQAAABJBmoZJ4Q8mUwU8N//+p4QAAScAAAAQAZ6lakK/ACW2ucLpJSY1uQAAABJBmqhJ4Q8mUwU8N//+p4QAAScAAAAQAZ7HakK/ACW2ucLpJSY1uAAAABJBmspJ4Q8mUwU8N//+p4QAAScAAAAQAZ7pakK/ACW2ucLpJSY1uQAAABJBmuxJ4Q8mUwU8N//+p4QAAScAAAAQAZ8LakK/ACW2ucLpJSY1uAAAABJBmw5J4Q8mUwU8N//+p4QAAScAAAAQAZ8takK/ACW2ucLpJSY1uQAAABJBmzBJ4Q8mUwU8N//+p4QAAScAAAAQAZ9PakK/ACW2ucLpJSY1uAAAABJBm1JJ4Q8mUwU8N//+p4QAAScAAAAQAZ9xakK/ACW2ucLpJSY1uQAAABJBm3RJ4Q8mUwU8N//+p4QAAScAAAAQAZ+TakK/ACW2ucLpJSY1uAAAABJBm5ZJ4Q8mUwU8N//+p4QAAScAAAAQAZ+1akK/ACW2ucLpJSY1uAAAABJBm7hJ4Q8mUwU8N//+p4QAAScAAAAQAZ/XakK/ACW2ucLpJSY1uQAAABJBm9pJ4Q8mUwU8N//+p4QAAScAAAAQAZ/5akK/ACW2ucLpJSY1uQAAABJBm/xJ4Q8mUwU8N//+p4QAAScAAAAQAZ4bakK/ACW2ucLpJSY1uQAAABJBmh5J4Q8mUwU8N//+p4QAAScAAAAQAZ49akK/ACW2ucLpJSY1uAAAABJBmiBJ4Q8mUwU8N//+p4QAAScAAAAQAZ5fakK/ACW2ucLpJSY1uQAAABJBmkJJ4Q8mUwU8N//+p4QAAScAAAAQAZ5hakK/ACW2ucLpJSY1uQAAABJBmmRJ4Q8mUwU8N//+p4QAAScAAAAQAZ6DakK/ACW2ucLpJSY1uQAAABJBmoZJ4Q8mUwU8N//+p4QAAScAAAAQAZ6lakK/ACW2ucLpJSY1uQAAABJBmqhJ4Q8mUwU8N//+p4QAAScAAAAQAZ7HakK/ACW2ucLpJSY1uAAAABJBmspJ4Q8mUwU8N//+p4QAAScAAAAQAZ7pakK/ACW2ucLpJSY1uQAAABJBmuxJ4Q8mUwU8N//+p4QAAScAAAAQAZ8LakK/ACW2ucLpJSY1uAAAABJBmw5J4Q8mUwU8N//+p4QAAScAAAAQAZ8takK/ACW2ucLpJSY1uQAAABJBmzBJ4Q8mUwU8N//+p4QAAScAAAAQAZ9PakK/ACW2ucLpJSY1uAAAABJBm1JJ4Q8mUwU8N//+p4QAAScAAAAQAZ9xakK/ACW2ucLpJSY1uQAAABJBm3RJ4Q8mUwU8N//+p4QAAScAAAAQAZ+TakK/ACW2ucLpJSY1uAAAABJBm5ZJ4Q8mUwU8N//+p4QAAScAAAAQAZ+1akK/ACW2ucLpJSY1uAAAABJBm7hJ4Q8mUwU8N//+p4QAAScAAAAQAZ/XakK/ACW2ucLpJSY1uQAAABhBm9lJ4Q8mUwIV//44QALDp/YrqcnNTggAAAM6ZYiCAAQ//vdKfMstkP7/y2f/xh/8Lf7X/Zry7WzeIYVmQgKojCd/5qX6kWqW0jEW8tYGCQhlcOEb3/fiTboDZ4jVFnK1C+BTYUcJ+BStmcjbWymJNdZ+4kzZYo27ELZSBi+s/wxXjHhAH390rpDAxkF11IfrSt4wh6ohvp+dmwo8HPKIf4Do839dMkSdOeRkc/H/DzfEBwvVpMte1karFfp0IV8QzUEzD6sfKKd7WA7xmU5CQl9MP6dqupH6OIbmeNn1ldtYqQopYZrsTe/GPScgunJMvQ5nEZtZbxpmPOpinLdwyLEgblKrfbyMy5hZaf7uGWG9SxXZzCETBneuZaFufsGlq1ZROnqCDxtngpAy2Jjw4BIBQug/K4Qn1dv1D5g6JTeP8mklWV3B0WLBLgTUUlABc4oTi8ZaETsXHU60bYPjy0D3jXPVeFw3s5+S9RLEJ+D/fOf5NbwWwiV3DsYZu8Y8O4ARsWUtETocLVMQY9UUm3bDEQ9+9SV3DxJvkq0BU9/QB+xS+V7P2Yw1SwIzW4YaOprbSl3hYlWtVCHuWLPY07gvYcpsQ1ZBTaOItc7VNPIEjHzxpdLxmSa1ymlMzf9E+k5EzhEALnsHYBuhWayeWRj6/AJclnyDQPiqkhyt1PHr0o74Vzheb6ybKA4A0Vg/VFxEAkEuxikpek5lOYs7gUgoewtmd/uxpqd0OOGndntYV1hRmGXVp1JfSumjRrFw24jA/bPof4bAAJ1/zX0SpiCAM4Z+jHGWks6+BuIUxn6OzAYpmNq2qgKMGUPBIiknF5YNDEhDUOyKPCjo6pMikLfBcxCs6oZkhPrvdHTPzmQwUMGfBfD3Nfkn9PB0CEk30X3vXA6wAtXVNWpLn+iM5lDzN0C4heiRBT4NfG+088zfAt3n+ia/V7wpfLzMKxES+d0ALV7SvXnPiwvLPzOjvLZg9pUEEYe4Y656PDInyPBawbUEwYToZ5naIq11TpPEdsEJ5IwlIDYhDjHwExCoqebr3TIv9IBSSpz0iwsCzuaArSR93lZjwjikqx9FkCGn2LbzxRpyZzGJS5VhPAkn4gsuaQHKyqq4/dwFsK1zdWFVSAACSwAAAAxBmiJsQ3/+p4QAAScAAAAQAZ5BeQr/ACW2ucLpJSY1uQAAABBBmkQ8IZMphDf//qeEAAEnAAAAEAGeY2pCvwAltrnC6SUmNbgAAAASQZpmSeEPJlMFPDf//qeEAAEnAAAAEAGehWpCvwAltrnC6SUmNbkAAAASQZqISeEPJlMFPDf//qeEAAEnAAAAEAGep2pCvwAltrnC6SUmNbkAAAASQZqqSeEPJlMFPDf//qeEAAEnAAAAEAGeyWpCvwAltrnC6SUmNbkAAAASQZrMSeEPJlMFPDf//qeEAAEnAAAAEAGe62pCvwAltrnC6SUmNbkAAAASQZruSeEPJlMFPDf//qeEAAEnAAAAEAGfDWpCvwAltrnC6SUmNbgAAAASQZsQSeEPJlMFPDf//qeEAAEnAAAAEAGfL2pCvwAltrnC6SUmNbkAAAASQZsySeEPJlMFPDf//qeEAAEnAAAAEAGfUWpCvwAltrnC6SUmNbgAAAASQZtUSeEPJlMFPDf//qeEAAEnAAAAEAGfc2pCvwAltrnC6SUmNbkAAAASQZt2SeEPJlMFPDf//qeEAAEnAAAAEAGflWpCvwAltrnC6SUmNbgAAAASQZuYSeEPJlMFPDf//qeEAAEnAAAAEAGft2pCvwAltrnC6SUmNbkAAAASQZu6SeEPJlMFPDf//qeEAAEnAAAAEAGf2WpCvwAltrnC6SUmNbgAAAASQZvcSeEPJlMFPDf//qeEAAEnAAAAEAGf+2pCvwAltrnC6SUmNbgAAAASQZv+SeEPJlMFPDf//qeEAAEnAAAAEAGeHWpCvwAltrnC6SUmNbkAAAASQZoASeEPJlMFPDf//qeEAAEnAAAAEAGeP2pCvwAltrnC6SUmNbkAAAASQZoiSeEPJlMFPDf//qeEAAEnAAAAEAGeQWpCvwAltrnC6SUmNbkAAAASQZpESeEPJlMFPDf//qeEAAEnAAAAEAGeY2pCvwAltrnC6SUmNbgAAAASQZpmSeEPJlMFPDf//qeEAAEnAAAAEAGehWpCvwAltrnC6SUmNbkAAAASQZqISeEPJlMFPDf//qeEAAEnAAAAEAGep2pCvwAltrnC6SUmNbkAAAASQZqqSeEPJlMFPDf//qeEAAEnAAAAEAGeyWpCvwAltrnC6SUmNbkAAAASQZrMSeEPJlMFPDf//qeEAAEnAAAAEAGe62pCvwAltrnC6SUmNbkAAAASQZruSeEPJlMFPDP//p4QAAR9AAAAEAGfDWpCvwAltrnC6SUmNbgAAAASQZsQSeEPJlMFPDP//p4QAAR8AAAAEAGfL2pCvwAltrnC6SUmNbkAAAASQZsySeEPJlMFPC///oywAASMAAAAEAGfUWpCvwAltrnC6SUmNbgAAAAaQZtTS+EIQ8kRggoB/IB/YeAIV//+OEAAEXEAABEkbW9vdgAAAGxtdmhkAAAAAAAAAAAAAAAAAAAD6AAALzAAAQAAAQAAAAAAAAAAAAAAAAEAAAAAAAAAAAAAAAAAAAABAAAAAAAAAAAAAAAAAABAAAAAAAAAAAAAAAAAAAAAAAAAAAAAAAAAAAAAAAAAAgAAEE50cmFrAAAAXHRraGQAAAADAAAAAAAAAAAAAAABAAAAAAAALzAAAAAAAAAAAAAAAAAAAAAAAAEAAAAAAAAAAAAAAAAAAAABAAAAAAAAAAAAAAAAAABAAAAAARAAAAEQAAAAAAAkZWR0cwAAABxlbHN0AAAAAAAAAAEAAC8wAAAEAAABAAAAAA/GbWRpYQAAACBtZGhkAAAAAAAAAAAAAAAAAAAyAAACXABVxAAAAAAALWhkbHIAAAAAAAAAAHZpZGUAAAAAAAAAAAAAAABWaWRlb0hhbmRsZXIAAAAPcW1pbmYAAAAUdm1oZAAAAAEAAAAAAAAAAAAAACRkaW5mAAAAHGRyZWYAAAAAAAAAAQAAAAx1cmwgAAAAAQAADzFzdGJsAAAAlXN0c2QAAAAAAAAAAQAAAIVhdmMxAAAAAAAAAAEAAAAAAAAAAAAAAAAAAAAAARABEABIAAAASAAAAAAAAAABAAAAAAAAAAAAAAAAAAAAAAAAAAAAAAAAAAAAAAAAAAAAGP//AAAAL2F2Y0MB9AAN/+EAF2f0AA2RmygiEdCAAAADAIAAABkHihTLAQAFaOvjxEgAAAAYc3R0cwAAAAAAAAABAAABLgAAAgAAAAAYc3RzcwAAAAAAAAACAAAAAQAAAPsAAAloY3R0cwAAAAAAAAErAAAAAwAABAAAAAABAAAGAAAAAAEAAAIAAAAAAQAABgAAAAABAAACAAAAAAEAAAYAAAAAAQAAAgAAAAABAAAGAAAAAAEAAAIAAAAAAQAABgAAAAABAAACAAAAAAEAAAYAAAAAAQAAAgAAAAABAAAGAAAAAAEAAAIAAAAAAQAABgAAAAABAAACAAAAAAEAAAYAAAAAAQAAAgAAAAABAAAGAAAAAAEAAAIAAAAAAQAABgAAAAABAAACAAAAAAEAAAYAAAAAAQAAAgAAAAABAAAGAAAAAAEAAAIAAAAAAQAABgAAAAABAAACAAAAAAEAAAYAAAAAAQAAAgAAAAABAAAGAAAAAAEAAAIAAAAAAQAABgAAAAABAAACAAAAAAEAAAYAAAAAAQAAAgAAAAABAAAGAAAAAAEAAAIAAAAAAQAABgAAAAABAAACAAAAAAEAAAYAAAAAAQAAAgAAAAABAAAGAAAAAAEAAAIAAAAAAQAABgAAAAABAAACAAAAAAEAAAYAAAAAAQAAAgAAAAABAAAGAAAAAAEAAAIAAAAAAQAABgAAAAABAAACAAAAAAEAAAYAAAAAAQAAAgAAAAABAAAGAAAAAAEAAAIAAAAAAQAABgAAAAABAAACAAAAAAEAAAYAAAAAAQAAAgAAAAABAAAGAAAAAAEAAAIAAAAAAQAABgAAAAABAAACAAAAAAEAAAYAAAAAAQAAAgAAAAABAAAGAAAAAAEAAAIAAAAAAQAABgAAAAABAAACAAAAAAEAAAYAAAAAAQAAAgAAAAABAAAGAAAAAAEAAAIAAAAAAQAABgAAAAABAAACAAAAAAEAAAYAAAAAAQAAAgAAAAABAAAGAAAAAAEAAAIAAAAAAQAABgAAAAABAAACAAAAAAEAAAYAAAAAAQAAAgAAAAABAAAGAAAAAAEAAAIAAAAAAQAABgAAAAABAAACAAAAAAEAAAYAAAAAAQAAAgAAAAABAAAGAAAAAAEAAAIAAAAAAQAABgAAAAABAAACAAAAAAEAAAYAAAAAAQAAAgAAAAABAAAGAAAAAAEAAAIAAAAAAQAABgAAAAABAAACAAAAAAEAAAYAAAAAAQAAAgAAAAABAAAGAAAAAAEAAAIAAAAAAQAABgAAAAABAAACAAAAAAEAAAYAAAAAAQAAAgAAAAABAAAGAAAAAAEAAAIAAAAAAQAABgAAAAABAAACAAAAAAEAAAYAAAAAAQAAAgAAAAABAAAGAAAAAAEAAAIAAAAAAQAABgAAAAABAAACAAAAAAEAAAYAAAAAAQAAAgAAAAABAAAGAAAAAAEAAAIAAAAAAQAABgAAAAABAAACAAAAAAEAAAYAAAAAAQAAAgAAAAABAAAGAAAAAAEAAAIAAAAAAQAABgAAAAABAAACAAAAAAEAAAYAAAAAAQAAAgAAAAABAAAGAAAAAAEAAAIAAAAAAQAABgAAAAABAAACAAAAAAEAAAYAAAAAAQAAAgAAAAABAAAGAAAAAAEAAAIAAAAAAQAABgAAAAABAAACAAAAAAEAAAYAAAAAAQAAAgAAAAABAAAGAAAAAAEAAAIAAAAAAQAABgAAAAABAAACAAAAAAEAAAYAAAAAAQAAAgAAAAABAAAGAAAAAAEAAAIAAAAAAQAABgAAAAABAAACAAAAAAEAAAYAAAAAAQAAAgAAAAABAAAGAAAAAAEAAAIAAAAAAQAABgAAAAABAAACAAAAAAEAAAYAAAAAAQAAAgAAAAABAAAGAAAAAAEAAAIAAAAAAQAABgAAAAABAAACAAAAAAEAAAYAAAAAAQAAAgAAAAABAAAGAAAAAAEAAAIAAAAAAQAABgAAAAABAAACAAAAAAEAAAYAAAAAAQAAAgAAAAABAAAGAAAAAAEAAAIAAAAAAQAABgAAAAABAAACAAAAAAEAAAYAAAAAAQAAAgAAAAABAAAGAAAAAAEAAAIAAAAAAQAABgAAAAABAAACAAAAAAEAAAYAAAAAAQAAAgAAAAABAAAGAAAAAAEAAAIAAAAAAQAABgAAAAABAAACAAAAAAEAAAYAAAAAAQAAAgAAAAABAAAGAAAAAAEAAAIAAAAAAQAABgAAAAABAAACAAAAAAEAAAYAAAAAAQAAAgAAAAABAAAGAAAAAAEAAAIAAAAAAQAABgAAAAABAAACAAAAAAEAAAYAAAAAAQAAAgAAAAABAAAGAAAAAAEAAAIAAAAAAQAABgAAAAABAAACAAAAAAEAAAYAAAAAAQAAAgAAAAABAAAGAAAAAAEAAAIAAAAAAQAABgAAAAABAAACAAAAAAEAAAYAAAAAAQAAAgAAAAABAAAGAAAAAAEAAAIAAAAAAQAABgAAAAABAAACAAAAAAEAAAYAAAAAAQAAAgAAAAABAAAGAAAAAAEAAAIAAAAAAQAABgAAAAABAAACAAAAAAEAAAYAAAAAAQAAAgAAAAABAAAGAAAAAAEAAAIAAAAAAQAABgAAAAABAAACAAAAAAEAAAYAAAAAAQAAAgAAAAABAAAGAAAAAAEAAAIAAAAAAQAABgAAAAABAAACAAAAAAEAAAYAAAAAAQAAAgAAAAABAAAGAAAAAAEAAAIAAAAAAQAABgAAAAABAAACAAAAAAEAAAYAAAAAAQAAAgAAAAACAAAEAAAAAAEAAAYAAAAAAQAAAgAAAAABAAAGAAAAAAEAAAIAAAAAAQAABgAAAAABAAACAAAAAAEAAAYAAAAAAQAAAgAAAAABAAAGAAAAAAEAAAIAAAAAAQAABgAAAAABAAACAAAAAAEAAAYAAAAAAQAAAgAAAAABAAAGAAAAAAEAAAIAAAAAAQAABgAAAAABAAACAAAAAAEAAAYAAAAAAQAAAgAAAAABAAAGAAAAAAEAAAIAAAAAAQAABgAAAAABAAACAAAAAAEAAAYAAAAAAQAAAgAAAAABAAAGAAAAAAEAAAIAAAAAAQAABgAAAAABAAACAAAAAAEAAAYAAAAAAQAAAgAAAAABAAAGAAAAAAEAAAIAAAAAAQAABgAAAAABAAACAAAAAAEAAAYAAAAAAQAAAgAAAAABAAAGAAAAAAEAAAIAAAAAAQAABgAAAAABAAACAAAAAAEAAAYAAAAAAQAAAgAAAAABAAAGAAAAAAEAAAIAAAAAAQAABgAAAAABAAACAAAAAAEAAAYAAAAAAQAAAgAAAAABAAAEAAAAABxzdHNjAAAAAAAAAAEAAAABAAABLgAAAAEAAATMc3RzegAAAAAAAAAAAAABLgAABdgAAAAYAAAAGwAAABYAAAATAAAAFgAAABQAAAAWAAAAFAAAABYAAAAUAAAAFgAAABQAAAAWAAAAFAAAABYAAAAUAAAAFgAAABQAAAAWAAAAFAAAABYAAAAUAAAAFgAAABQAAAAWAAAAFAAAABYAAAAUAAAAFgAAABQAAAAWAAAAFAAAABYAAAAUAAAAFgAAABQAAAAWAAAAFAAAABYAAAAUAAAAFgAAABQAAAAWAAAAFAAAABYAAAAUAAAAFgAAABQAAAAWAAAAFAAAABYAAAAUAAAAFgAAABQAAAAWAAAAFAAAABYAAAAUAAAAFgAAABQAAAAWAAAAFAAAABYAAAAUAAAAFgAAABQAAAAWAAAAFAAAABYAAAAUAAAAFgAAABQAAAAWAAAAFAAAABYAAAAUAAAAFgAAABQAAAAWAAAAFAAAABYAAAAUAAAAFgAAABQAAAAWAAAAFAAAABYAAAAUAAAAFgAAABQAAAAWAAAAFAAAABYAAAAUAAAAFgAAABQAAAAWAAAAFAAAABYAAAAUAAAAFgAAABQAAAAWAAAAFAAAABYAAAAUAAAAFgAAABQAAAAWAAAAFAAAABYAAAAUAAAAFgAAABQAAAAWAAAAFAAAABYAAAAUAAAAFgAAABQAAAAWAAAAFAAAABYAAAAUAAAAFgAAABQAAAAWAAAAFAAAABYAAAAUAAAAFgAAABQAAAAWAAAAFAAAABYAAAAUAAAAFgAAABQAAAAWAAAAFAAAABYAAAAUAAAAFgAAABQAAAAWAAAAFAAAABYAAAAUAAAAFgAAABQAAAAWAAAAFAAAABYAAAAUAAAAFgAAABQAAAAWAAAAFAAAABYAAAAUAAAAFgAAABQAAAAWAAAAFAAAABYAAAAUAAAAFgAAABQAAAAWAAAAFAAAABYAAAAUAAAAFgAAABQAAAAWAAAAFAAAABYAAAAUAAAAFgAAABQAAAAWAAAAFAAAABYAAAAUAAAAFgAAABQAAAAWAAAAFAAAABYAAAAUAAAAFgAAABQAAAAWAAAAFAAAABYAAAAUAAAAFgAAABQAAAAWAAAAFAAAABYAAAAUAAAAFgAAABQAAAAWAAAAFAAAABYAAAAUAAAAFgAAABQAAAAWAAAAFAAAABYAAAAUAAAAFgAAABQAAAAWAAAAFAAAABYAAAAUAAAAFgAAABQAAAAWAAAAFAAAABYAAAAUAAAAFgAAABQAAAAWAAAAFAAAABYAAAAUAAAAFgAAABQAAAAWAAAAFAAAABYAAAAUAAAAFgAAABQAAAAWAAAAFAAAABYAAAAUAAAAFgAAABQAAAAWAAAAFAAAABwAAAM+AAAAEAAAABQAAAAUAAAAFAAAABYAAAAUAAAAFgAAABQAAAAWAAAAFAAAABYAAAAUAAAAFgAAABQAAAAWAAAAFAAAABYAAAAUAAAAFgAAABQAAAAWAAAAFAAAABYAAAAUAAAAFgAAABQAAAAWAAAAFAAAABYAAAAUAAAAFgAAABQAAAAWAAAAFAAAABYAAAAUAAAAFgAAABQAAAAWAAAAFAAAABYAAAAUAAAAFgAAABQAAAAWAAAAFAAAABYAAAAUAAAAFgAAABQAAAAeAAAAFHN0Y28AAAAAAAAAAQAAADAAAABidWR0YQAAAFptZXRhAAAAAAAAACFoZGxyAAAAAAAAAABtZGlyYXBwbAAAAAAAAAAAAAAAAC1pbHN0AAAAJal0b28AAAAdZGF0YQAAAAEAAAAATGF2ZjU4LjIwLjEwMA==\" type=\"video/mp4\" />\n",
       "             </video>"
      ],
      "text/plain": [
       "<IPython.core.display.HTML object>"
      ]
     },
     "execution_count": 19,
     "metadata": {},
     "output_type": "execute_result"
    }
   ],
   "source": [
    "HTML(display_videos('fc_test0.mp4'))"
   ]
  },
  {
   "cell_type": "markdown",
   "metadata": {},
   "source": [
    "> CNN got better results than the FC. However both estimators are not exploring the map enough."
   ]
  },
  {
   "cell_type": "markdown",
   "metadata": {},
   "source": [
    "***\n",
    "\n",
    "The algorithm tends to not explore the map which can be an issue. We propose two ideas in order to encourage exploration:\n",
    "1. Incorporating a decreasing $\\epsilon$-greedy exploration. You can use the method ```set_epsilon```\n",
    "2. Append via the environment a new state that describes if a cell has been visited or not\n",
    "\n",
    "***\n",
    "__Question 10__ Design a new ```train_explore``` function and environment class ```EnvironmentExploring``` to tackle the issue of exploration.\n",
    "\n"
   ]
  },
  {
   "cell_type": "code",
   "execution_count": 20,
   "metadata": {
    "collapsed": true
   },
   "outputs": [],
   "source": [
    "def train_explore(agent,env,epoch,prefix='',eps_ratio=0.9):\n",
    "    # Number of won games\n",
    "    score = 0\n",
    "    loss = 0\n",
    "\n",
    "    for e in range(epoch):\n",
    "        # At each epoch, we restart to a fresh game and get the initial state\n",
    "        state = env.reset()\n",
    "        # This assumes that the games will terminate\n",
    "        game_over = False\n",
    "\n",
    "        win = 0\n",
    "        lose = 0\n",
    "\n",
    "        while not game_over:\n",
    "            # The agent performs an action\n",
    "            action = agent.act(state)\n",
    "\n",
    "            # Apply an action to the environment, get the next state, the reward\n",
    "            # and if the games end\n",
    "            prev_state = state\n",
    "            state, reward, game_over = env.act(action, train=True)\n",
    "\n",
    "            # Update the counters\n",
    "            if reward > 0:\n",
    "                win = win + reward\n",
    "            if reward < 0:\n",
    "                lose = lose -reward\n",
    "\n",
    "            # Apply the reinforcement strategy\n",
    "            loss = agent.reinforce(prev_state, state,  action, reward, game_over)\n",
    "\n",
    "        # Save as a mp4\n",
    "        if e % 10 == 0:\n",
    "            env.draw(prefix+str(e))\n",
    "\n",
    "        # Update stats\n",
    "        score += win-lose\n",
    "        \n",
    "        # Decrease epsilon\n",
    "        agent.set_epsilon(agent.epsilon * eps_ratio)\n",
    "\n",
    "        print(\"Epoch {:03d}/{:03d} | Loss {:.4f} | Win/lose count {}/{} ({})\"\n",
    "              .format(e, epoch, loss, win, lose, win-lose))\n",
    "        agent.save(name_weights=prefix+'model.h5',name_model=prefix+'model.json')\n",
    "        \n",
    "class EnvironmentExploring(Environment):\n",
    "    def __init__(self, grid_size=10, max_time=500, temperature=0.1):\n",
    "        super(EnvironmentExploring, self).__init__(grid_size=grid_size, max_time=max_time, temperature=temperature)\n",
    "        self.malus_position = np.zeros((grid_size, grid_size))\n",
    "    \n",
    "    def act(self, action, train=False):\n",
    "        \"\"\"This function returns the new state, reward and decides if the\n",
    "        game ends.\"\"\"\n",
    "\n",
    "        self.get_frame(int(self.t))\n",
    "\n",
    "        self.position = np.zeros((self.grid_size, self.grid_size))\n",
    "\n",
    "        self.position[0:2,:]= -1\n",
    "        self.position[:,0:2] = -1\n",
    "        self.position[-2:, :] = -1\n",
    "        self.position[-2:, :] = -1\n",
    "\n",
    "        self.position[self.x, self.y] = 1\n",
    "        if action == 0:\n",
    "            if self.x == self.grid_size-3:\n",
    "                self.x = self.x-1\n",
    "            else:\n",
    "                self.x = self.x + 1\n",
    "        elif action == 1:\n",
    "            if self.x == 2:\n",
    "                self.x = self.x+1\n",
    "            else:\n",
    "                self.x = self.x-1\n",
    "        elif action == 2:\n",
    "            if self.y == self.grid_size - 3:\n",
    "                self.y = self.y - 1\n",
    "            else:\n",
    "                self.y = self.y + 1\n",
    "        elif action == 3:\n",
    "            if self.y == 2:\n",
    "                self.y = self.y + 1\n",
    "            else:\n",
    "                self.y = self.y - 1\n",
    "        else:\n",
    "            RuntimeError('Error: action not recognized')\n",
    "\n",
    "        self.t = self.t + 1\n",
    "        reward = 0\n",
    "        if train:\n",
    "            reward = -self.malus_position[self.x, self.y]\n",
    "        self.malus_position[self.x, self.y] += 0.05\n",
    "\n",
    "        reward = reward + self.board[self.x, self.y]\n",
    "\n",
    "        self.board[self.x, self.y] = 0\n",
    "        game_over = self.t > self.max_time\n",
    "        state = np.concatenate((self.malus_position.reshape(self.grid_size, self.grid_size,1),\n",
    "                                self.board.reshape(self.grid_size, self.grid_size,1),\n",
    "                        self.position.reshape(self.grid_size, self.grid_size,1)),axis=2)\n",
    "        state = state[self.x-2:self.x+3,self.y-2:self.y+3,:]\n",
    "\n",
    "        return state, reward, game_over\n",
    "    \n",
    "    def reset(self):\n",
    "        \"\"\"This function resets the game and returns the initial state\"\"\"\n",
    "\n",
    "        self.x = np.random.randint(3, self.grid_size-3, size=1)[0]\n",
    "        self.y = np.random.randint(3, self.grid_size-3, size=1)[0]\n",
    "\n",
    "\n",
    "        bonus = 0.5*np.random.binomial(1,self.temperature,size=self.grid_size**2)\n",
    "        bonus = bonus.reshape(self.grid_size,self.grid_size)\n",
    "\n",
    "        malus = -1.0*np.random.binomial(1,self.temperature,size=self.grid_size**2)\n",
    "        malus = malus.reshape(self.grid_size, self.grid_size)\n",
    "\n",
    "        self.to_draw = np.zeros((self.max_time+2, self.grid_size*self.scale, self.grid_size*self.scale, 3))\n",
    "\n",
    "\n",
    "        malus[bonus>0]=0\n",
    "\n",
    "        self.board = bonus + malus\n",
    "\n",
    "        self.position = np.zeros((self.grid_size, self.grid_size))\n",
    "        self.position[0:2,:]= -1\n",
    "        self.position[:,0:2] = -1\n",
    "        self.position[-2:, :] = -1\n",
    "        self.position[-2:, :] = -1\n",
    "        self.board[self.x,self.y] = 0\n",
    "        self.t = 0\n",
    "        \n",
    "        self.malus_position = np.zeros((self.grid_size, self.grid_size))\n",
    "\n",
    "        state = np.concatenate((self.malus_position.reshape(self.grid_size, self.grid_size,1),\n",
    "                                self.board.reshape(self.grid_size, self.grid_size,1),\n",
    "                        self.position.reshape(self.grid_size, self.grid_size,1)),axis=2)\n",
    "        \n",
    "        state = state[self.x - 2:self.x + 3, self.y - 2:self.y + 3, :]\n",
    "        return state"
   ]
  },
  {
   "cell_type": "code",
   "execution_count": 24,
   "metadata": {},
   "outputs": [
    {
     "name": "stdout",
     "output_type": "stream",
     "text": [
      "Epoch 000/051 | Loss 0.0140 | Win/lose count 9.5/59.649999999999984 (-50.149999999999984)\n",
      "Epoch 001/051 | Loss 0.0233 | Win/lose count 9.5/55.45 (-45.95)\n",
      "Epoch 002/051 | Loss 0.0162 | Win/lose count 9.0/67.19999999999995 (-58.199999999999946)\n",
      "Epoch 003/051 | Loss 0.0272 | Win/lose count 13.0/57.4 (-44.4)\n",
      "Epoch 004/051 | Loss 0.0195 | Win/lose count 14.5/58.74999999999996 (-44.24999999999996)\n",
      "Epoch 005/051 | Loss 0.0265 | Win/lose count 19.5/38.95000000000001 (-19.45000000000001)\n",
      "Epoch 006/051 | Loss 0.0206 | Win/lose count 17.5/48.799999999999976 (-31.299999999999976)\n",
      "Epoch 007/051 | Loss 0.0219 | Win/lose count 19.0/38.14999999999999 (-19.14999999999999)\n",
      "Epoch 008/051 | Loss 0.0251 | Win/lose count 9.0/62.999999999999986 (-53.999999999999986)\n",
      "Epoch 009/051 | Loss 0.0200 | Win/lose count 16.0/37.29999999999995 (-21.299999999999947)\n",
      "Epoch 010/051 | Loss 0.0277 | Win/lose count 18.5/41.499999999999986 (-22.999999999999986)\n",
      "Epoch 011/051 | Loss 0.0203 | Win/lose count 21.5/30.800000000000033 (-9.300000000000033)\n",
      "Epoch 012/051 | Loss 0.0390 | Win/lose count 22.0/35.000000000000014 (-13.000000000000014)\n",
      "Epoch 013/051 | Loss 0.0174 | Win/lose count 19.0/37.65000000000003 (-18.650000000000027)\n",
      "Epoch 014/051 | Loss 0.0189 | Win/lose count 22.5/27.550000000000026 (-5.050000000000026)\n",
      "Epoch 015/051 | Loss 0.0066 | Win/lose count 22.5/26.650000000000045 (-4.150000000000045)\n",
      "Epoch 016/051 | Loss 0.0143 | Win/lose count 20.0/39.00000000000003 (-19.00000000000003)\n",
      "Epoch 017/051 | Loss 0.0280 | Win/lose count 30.0/23.800000000000036 (6.199999999999964)\n",
      "Epoch 018/051 | Loss 0.0249 | Win/lose count 22.5/29.250000000000014 (-6.750000000000014)\n",
      "Epoch 019/051 | Loss 0.0152 | Win/lose count 23.5/23.35000000000003 (0.14999999999997016)\n",
      "Epoch 020/051 | Loss 0.0234 | Win/lose count 18.0/34.95000000000001 (-16.95000000000001)\n",
      "Epoch 021/051 | Loss 0.0182 | Win/lose count 22.5/24.150000000000034 (-1.650000000000034)\n",
      "Epoch 022/051 | Loss 0.0055 | Win/lose count 22.5/24.100000000000037 (-1.600000000000037)\n",
      "Epoch 023/051 | Loss 0.0163 | Win/lose count 21.0/23.950000000000017 (-2.950000000000017)\n",
      "Epoch 024/051 | Loss 0.0220 | Win/lose count 25.5/20.849999999999998 (4.650000000000002)\n",
      "Epoch 025/051 | Loss 0.0076 | Win/lose count 22.0/19.000000000000014 (2.999999999999986)\n",
      "Epoch 026/051 | Loss 0.0096 | Win/lose count 22.0/18.700000000000035 (3.299999999999965)\n",
      "Epoch 027/051 | Loss 0.0196 | Win/lose count 25.5/18.700000000000017 (6.799999999999983)\n",
      "Epoch 028/051 | Loss 0.0187 | Win/lose count 20.5/23.300000000000008 (-2.800000000000008)\n",
      "Epoch 029/051 | Loss 0.0103 | Win/lose count 6.0/83.49999999999986 (-77.49999999999986)\n",
      "Epoch 030/051 | Loss 0.0180 | Win/lose count 18.0/52.7999999999999 (-34.7999999999999)\n",
      "Epoch 031/051 | Loss 0.0197 | Win/lose count 14.5/26.950000000000014 (-12.450000000000014)\n",
      "Epoch 032/051 | Loss 0.0049 | Win/lose count 19.5/24.699999999999996 (-5.199999999999996)\n",
      "Epoch 033/051 | Loss 0.0129 | Win/lose count 27.0/18.19999999999999 (8.800000000000011)\n",
      "Epoch 034/051 | Loss 0.0204 | Win/lose count 21.5/28.700000000000017 (-7.200000000000017)\n",
      "Epoch 035/051 | Loss 0.0179 | Win/lose count 20.5/28.700000000000006 (-8.200000000000006)\n",
      "Epoch 036/051 | Loss 0.0189 | Win/lose count 27.0/17.000000000000025 (9.999999999999975)\n",
      "Epoch 037/051 | Loss 0.0109 | Win/lose count 26.5/21.85000000000003 (4.64999999999997)\n",
      "Epoch 038/051 | Loss 0.0295 | Win/lose count 18.5/27.349999999999994 (-8.849999999999994)\n",
      "Epoch 039/051 | Loss 0.0153 | Win/lose count 22.0/18.00000000000001 (3.9999999999999893)\n",
      "Epoch 040/051 | Loss 0.0142 | Win/lose count 18.0/33.250000000000014 (-15.250000000000014)\n",
      "Epoch 041/051 | Loss 0.0134 | Win/lose count 26.5/15.549999999999999 (10.950000000000001)\n",
      "Epoch 042/051 | Loss 0.0160 | Win/lose count 23.0/17.600000000000023 (5.399999999999977)\n",
      "Epoch 043/051 | Loss 0.0238 | Win/lose count 21.0/19.15000000000001 (1.8499999999999908)\n",
      "Epoch 044/051 | Loss 0.0122 | Win/lose count 20.0/23.999999999999986 (-3.999999999999986)\n",
      "Epoch 045/051 | Loss 0.0142 | Win/lose count 22.5/52.550000000000004 (-30.050000000000004)\n",
      "Epoch 046/051 | Loss 0.0207 | Win/lose count 17.0/30.10000000000001 (-13.100000000000009)\n",
      "Epoch 047/051 | Loss 0.0134 | Win/lose count 22.0/23.149999999999995 (-1.149999999999995)\n",
      "Epoch 048/051 | Loss 0.0186 | Win/lose count 31.0/17.949999999999996 (13.050000000000004)\n",
      "Epoch 049/051 | Loss 0.0241 | Win/lose count 20.0/24.700000000000024 (-4.700000000000024)\n",
      "Epoch 050/051 | Loss 0.0114 | Win/lose count 14.0/30.199999999999978 (-16.199999999999978)\n"
     ]
    },
    {
     "data": {
      "text/html": [
       "<video alt=\"test\" controls>\n",
       "                <source src=\"data:video/mp4;base64,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\" type=\"video/mp4\" />\n",
       "             </video>"
      ],
      "text/plain": [
       "<IPython.core.display.HTML object>"
      ]
     },
     "execution_count": 24,
     "metadata": {},
     "output_type": "execute_result"
    }
   ],
   "source": [
    "# Training\n",
    "env = EnvironmentExploring(grid_size=size, max_time=T, temperature=0.3)\n",
    "agent = DQN_CNN(size, lr=.1, epsilon = 0.5, memory_size=10000, batch_size = 32,n_state=3)\n",
    "train_explore(agent, env, 51, prefix='cnn_train_explore')\n",
    "HTML(display_videos('cnn_train_explore50.mp4'))"
   ]
  },
  {
   "cell_type": "code",
   "execution_count": 25,
   "metadata": {},
   "outputs": [
    {
     "name": "stdout",
     "output_type": "stream",
     "text": [
      "Win/lose count 24.5/1.0. Average score (23.5)\n",
      "Win/lose count 24.0/1.0. Average score (23.25)\n",
      "Win/lose count 26.0/3.0. Average score (23.166666666666668)\n",
      "Win/lose count 25.5/1.0. Average score (23.5)\n",
      "Win/lose count 23.0/1.0. Average score (23.2)\n",
      "Win/lose count 23.5/1.0. Average score (23.083333333333332)\n",
      "Win/lose count 31.0/1.0. Average score (24.071428571428573)\n",
      "Win/lose count 24.0/1.0. Average score (23.9375)\n",
      "Win/lose count 20.5/0. Average score (23.555555555555557)\n",
      "Win/lose count 23.0/1.0. Average score (23.4)\n",
      "Win/lose count 20.5/1.0. Average score (23.045454545454547)\n",
      "Win/lose count 23.5/1.0. Average score (23.0)\n",
      "Win/lose count 21.5/0. Average score (22.884615384615383)\n",
      "Win/lose count 28.5/1.0. Average score (23.214285714285715)\n",
      "Win/lose count 24.5/0. Average score (23.3)\n",
      "Win/lose count 25.5/1.0. Average score (23.375)\n",
      "Win/lose count 24.5/1.0. Average score (23.38235294117647)\n",
      "Win/lose count 27.0/2.0. Average score (23.47222222222222)\n",
      "Win/lose count 22.5/0. Average score (23.42105263157895)\n",
      "Win/lose count 18.5/1.0. Average score (23.125)\n",
      "Final score: 23.125\n"
     ]
    },
    {
     "data": {
      "text/html": [
       "<video alt=\"test\" controls>\n",
       "                <source src=\"data:video/mp4;base64,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\" type=\"video/mp4\" />\n",
       "             </video>"
      ],
      "text/plain": [
       "<IPython.core.display.HTML object>"
      ]
     },
     "execution_count": 25,
     "metadata": {},
     "output_type": "execute_result"
    }
   ],
   "source": [
    "# Evaluation\n",
    "test(agent,env,epochs_test,prefix='cnn_test_explore')\n",
    "HTML(display_videos('cnn_test_explore10.mp4'))"
   ]
  },
  {
   "cell_type": "markdown",
   "metadata": {},
   "source": [
    "> Here, I added the recommended mechanisms (decreasing epsilon and cost for passing through a visited cell at training). But instead of giving a fixed cost to visited cell, I gave them a cost proportional to the number of passage through the cell.\n",
    "\n",
    "> It gives a far more efficient DQN. In most of the testing case, it manages to visit almost all the bonus cells and hardly no malus cell."
   ]
  },
  {
   "cell_type": "markdown",
   "metadata": {},
   "source": [
    "***\n",
    "***\n",
    "__BONUS question__ Use the expert DQN from the previous question to generate some winning games. Train a model that mimicks its behavior. Compare the performances."
   ]
  },
  {
   "cell_type": "markdown",
   "metadata": {},
   "source": [
    "***"
   ]
  }
 ],
 "metadata": {
  "kernelspec": {
   "display_name": "Python 3",
   "language": "python",
   "name": "python3"
  },
  "language_info": {
   "codemirror_mode": {
    "name": "ipython",
    "version": 3
   },
   "file_extension": ".py",
   "mimetype": "text/x-python",
   "name": "python",
   "nbconvert_exporter": "python",
   "pygments_lexer": "ipython3",
   "version": "3.6.2"
  }
 },
 "nbformat": 4,
 "nbformat_minor": 2
}
